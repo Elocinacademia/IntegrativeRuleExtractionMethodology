{
 "cells": [
  {
   "cell_type": "code",
   "execution_count": 1,
   "metadata": {},
   "outputs": [
    {
     "name": "stderr",
     "output_type": "stream",
     "text": [
      "/Users/zohreh-sh/opt/anaconda3/lib/python3.8/site-packages/rpy2/robjects/pandas2ri.py:17: FutureWarning: pandas.core.index is deprecated and will be removed in a future version.  The public classes are available in the top-level namespace.\n",
      "  from pandas.core.index import Index as PandasIndex\n"
     ]
    }
   ],
   "source": [
    "import os\n",
    "import sys\n",
    "sys.path.append(\"src\")\n",
    "from src import *\n",
    "\n",
    "import pandas as pd\n",
    "from prettytable import from_csv\n",
    "\n",
    "\n",
    "from model.generation.helpers import init_dataset_dir\n",
    "from model.generation.helpers.split_data import load_data\n",
    "from cross_validations import *\n",
    "from evaluate_rules.predict_explain import print_ruleset\n",
    "from functionality_helpers import *\n",
    "from model.generation import generate_data"
   ]
  },
  {
   "cell_type": "markdown",
   "metadata": {},
   "source": [
    "# Breast Cancer UCI dataset\n",
    "\n",
    "- Input: 30 real-valued (noramised to [0,1]) input features describing characteristics of the cell nuclei present in the gigitised images of breast mass\n",
    "\n",
    "- Output: Malignant (encoded as 0) and Benign (encoded as 1)"
   ]
  },
  {
   "cell_type": "code",
   "execution_count": 2,
   "metadata": {},
   "outputs": [],
   "source": [
    "dataset_name = 'breast_cancer_uci'\n",
    "target_col_name = 'diagnosis'\n",
    "data = pd.read_csv('../data/preprocessing/raw_data/breast_cancer_uci.csv')"
   ]
  },
  {
   "cell_type": "code",
   "execution_count": 3,
   "metadata": {},
   "outputs": [
    {
     "data": {
      "text/plain": [
       "(569, 31)"
      ]
     },
     "execution_count": 3,
     "metadata": {},
     "output_type": "execute_result"
    }
   ],
   "source": [
    "data.shape"
   ]
  },
  {
   "cell_type": "code",
   "execution_count": 4,
   "metadata": {},
   "outputs": [
    {
     "data": {
      "text/plain": [
       "1    357\n",
       "0    212\n",
       "Name: diagnosis, dtype: int64"
      ]
     },
     "execution_count": 4,
     "metadata": {},
     "output_type": "execute_result"
    }
   ],
   "source": [
    "data[\"diagnosis\"].value_counts()"
   ]
  },
  {
   "cell_type": "code",
   "execution_count": 5,
   "metadata": {},
   "outputs": [
    {
     "name": "stdout",
     "output_type": "stream",
     "text": [
      "Directory  ../data/breast_cancer_uci/  already exists\n",
      "Directory  ../data/breast_cancer_uci/neural_network_initialisation  already exists\n",
      "Directory  ../data/breast_cancer_uci/cross_validation  already exists\n"
     ]
    }
   ],
   "source": [
    "path_to_data_folder = '../data/'\n",
    "init_dataset_dir.run(dataset_name=dataset_name, path_to_data_folder=path_to_data_folder)"
   ]
  },
  {
   "cell_type": "code",
   "execution_count": 6,
   "metadata": {},
   "outputs": [],
   "source": [
    "data_path = '../data/' + dataset_name + '/'"
   ]
  },
  {
   "cell_type": "code",
   "execution_count": 7,
   "metadata": {},
   "outputs": [],
   "source": [
    "data.to_csv(data_path + 'data.csv', index=False)"
   ]
  },
  {
   "cell_type": "markdown",
   "metadata": {},
   "source": [
    "# Classification using DNN"
   ]
  },
  {
   "cell_type": "code",
   "execution_count": 8,
   "metadata": {},
   "outputs": [],
   "source": [
    "X, y = load_data(DATASET_INFO, DATA_FP)"
   ]
  },
  {
   "cell_type": "code",
   "execution_count": 9,
   "metadata": {},
   "outputs": [
    {
     "name": "stdout",
     "output_type": "stream",
     "text": [
      "5\n",
      "Splitting data. WARNING: only do this once!\n",
      "Cleared contents of file ../data/breast_cancer_uci/neural_network_initialisation/data_split_indices.txt\n",
      "Split data into train/test split for initialisation.\n",
      "Directory  ../data/breast_cancer_uci/cross_validation/5_folds/  already exists\n",
      "Directory  ../data/breast_cancer_uci/cross_validation/5_folds/rule_extraction/MOD_DeepRED_C5/  already exists\n",
      "Directory  ../data/breast_cancer_uci/cross_validation/5_folds/rule_extraction/MOD_DeepRED_C5/rules_extracted/  already exists\n",
      "Directory  ../data/breast_cancer_uci/cross_validation/5_folds/trained_models/  already exists\n",
      "Cleared contents of file ../data/breast_cancer_uci/cross_validation/5_folds/data_split_indices.txt\n",
      "Split data into 5 folds.\n",
      "Training model 0/5\n"
     ]
    },
    {
     "name": "stderr",
     "output_type": "stream",
     "text": [
      "/Users/zohreh-sh/opt/anaconda3/lib/python3.8/site-packages/sklearn/utils/validation.py:67: FutureWarning: Pass classes=[0 1], y=[0 0 0 0 0 0 0 0 0 0 0 0 0 0 0 0 1 1 0 0 0 0 0 0 0 0 0 0 0 0 0 0 0 0 0 0 1\n",
      " 1 1 1 1 0 0 1 0 0 1 1 1 1 0 1 0 0 1 1 1 1 1 0 0 1 0 1 0 0 1 1 1 0 0 1 0 0\n",
      " 1 1 1 0 1 1 0 0 1 0 0 1 0 1 1 0 1 1 1 1 1 0 0 0 0 1 1 0 1 0 0 0 1 0 1 1 0\n",
      " 1 1 1 1 0 1 1 1 1 1 1 1 0 1 1 1 0 1 0 1 1 1 0 1 1 1 0 1 1 0 0 0 1 0 0 1 1\n",
      " 1 0 0 0 0 0 1 0 0 1 0 1 0 1 1 1 0 0 0 0 1 1 0 0 1 1 1 1 1 1 1 1 0 0 1 0 1\n",
      " 1 0 0 1 0 1 1 1 0 1 1 1 1 0 0 0 0 0 0 0 0 0 1 1 1 1 0 1 0 1 1 0 0 1 0 0 1\n",
      " 1 1 1 1 1 1 0 1 0 1 1 1 1 1 1 1 1 1 1 1 1 1 1 0 1 1 1 1 0 1 1 1 0 0 0 1 1\n",
      " 1 1 0 1 0 1 1 1 1 1 1 1 1 1 1 0 0 0 1 1 1 1 1 1 1 1 1 0 1 0 0 0 1 0 0 1 1\n",
      " 1 1 0 1 1 1 1 1 0 1 1 0 1 1 0 0 1 1 1 1 1 1 0 1 1 1 1 1 1 0 1 1 1 1 1 0 1\n",
      " 1 0 1 1 1 1 1 1 1 1 1 1 0 1 0 1 0 1 1 1 1 1 0 0 1 1 1 0 1 0 1 1 1 1 1 1 1\n",
      " 0 1 1 0 1 1 1 1 1 1 1 1 1 1 1 1 1 1 1 1 0 0 1 1 0 1 1 1 1 1 0 0 1 0 1 1 1\n",
      " 1 1 0 1 1 0 0 1 0 0 1 1 0 1 1 1 1 1 1 1 1 1 0 1 1 1 1 1 1 1 1 1 1 1 1 1 1\n",
      " 1 1 1 1 1 0 0 0 0 0 1] as keyword args. From version 0.25 passing these as positional arguments will result in an error\n",
      "  warnings.warn(\"Pass {} as keyword args. From version 0.25 \"\n"
     ]
    },
    {
     "name": "stdout",
     "output_type": "stream",
     "text": [
      "4/4 [==============================] - 0s 2ms/step - loss: 0.1157 - accuracy: 0.9649 - auc: 0.9649\n",
      "Training model 1/5\n"
     ]
    },
    {
     "name": "stderr",
     "output_type": "stream",
     "text": [
      "/Users/zohreh-sh/opt/anaconda3/lib/python3.8/site-packages/sklearn/utils/validation.py:67: FutureWarning: Pass classes=[0 1], y=[0 0 0 0 0 0 0 0 0 0 0 0 0 1 1 0 0 0 0 0 0 0 0 0 0 0 0 0 1 0 0 0 0 0 0 0 0\n",
      " 1 1 1 1 1 0 0 1 0 0 1 1 0 0 1 1 1 1 0 0 1 0 1 0 0 1 1 1 0 0 1 0 0 0 1 1 0\n",
      " 1 1 1 1 1 0 0 1 1 1 1 0 1 1 1 1 1 1 1 1 0 0 1 0 1 1 1 0 1 0 1 0 0 1 0 1 1\n",
      " 0 1 1 1 1 1 0 1 1 1 1 1 1 1 1 1 0 1 1 0 0 1 0 1 1 0 0 1 1 0 0 1 1 1 1 0 0\n",
      " 0 1 0 1 0 1 1 1 0 1 0 0 1 0 0 0 0 0 0 0 1 0 1 0 1 0 1 0 0 0 1 1 0 0 1 1 1\n",
      " 0 1 1 1 1 0 1 0 1 1 1 1 0 1 1 1 1 0 1 0 0 0 0 0 0 0 0 0 0 0 0 0 1 1 1 1 0\n",
      " 1 0 1 1 0 1 1 1 1 1 1 1 1 1 1 1 1 1 1 0 1 1 1 1 1 1 1 1 1 1 1 0 1 1 1 0 1\n",
      " 1 1 1 0 0 1 1 1 1 0 1 1 0 1 1 1 0 1 1 1 1 0 0 1 1 1 1 1 1 1 0 0 0 1 0 0 1\n",
      " 1 1 1 0 1 1 1 1 0 1 1 1 0 1 1 0 1 1 1 1 0 1 1 1 1 1 1 0 1 1 1 1 0 1 0 1 1\n",
      " 1 1 1 1 1 1 1 1 1 0 1 0 1 0 1 1 1 1 0 1 1 0 1 0 1 0 0 1 1 1 1 1 1 1 0 0 1\n",
      " 1 1 1 1 1 1 1 1 1 1 1 1 0 1 1 1 1 1 1 0 1 1 1 0 1 1 1 1 0 1 0 1 0 1 1 1 0\n",
      " 0 1 0 1 0 1 1 1 0 1 1 1 1 1 1 1 1 1 0 0 0 1 1 1 1 1 1 1 1 1 1 1 1 1 1 1 1\n",
      " 1 1 1 1 1 0 0 0 0 0 0] as keyword args. From version 0.25 passing these as positional arguments will result in an error\n",
      "  warnings.warn(\"Pass {} as keyword args. From version 0.25 \"\n"
     ]
    },
    {
     "name": "stdout",
     "output_type": "stream",
     "text": [
      "4/4 [==============================] - 0s 1ms/step - loss: 0.3096 - accuracy: 0.9386 - auc: 0.9386\n",
      "Training model 2/5\n"
     ]
    },
    {
     "name": "stderr",
     "output_type": "stream",
     "text": [
      "/Users/zohreh-sh/opt/anaconda3/lib/python3.8/site-packages/sklearn/utils/validation.py:67: FutureWarning: Pass classes=[0 1], y=[0 0 0 0 0 0 0 0 0 0 0 0 0 0 0 0 0 1 1 1 0 0 0 0 0 0 0 0 1 0 0 0 0 0 0 0 0\n",
      " 1 0 1 1 0 1 0 0 1 1 1 0 1 0 0 1 0 1 0 0 1 0 0 0 1 1 0 0 1 1 1 1 1 0 0 1 1\n",
      " 1 0 1 1 1 1 0 1 0 1 1 1 1 1 1 1 0 0 0 1 0 0 1 0 0 1 0 1 0 0 1 0 0 1 1 1 0\n",
      " 1 1 0 1 1 1 1 1 1 1 1 0 0 1 1 0 0 1 1 0 0 1 1 1 1 0 1 1 0 0 0 1 1 1 1 0 1\n",
      " 1 0 1 0 0 0 0 1 0 0 0 0 1 1 0 0 0 0 1 0 0 1 1 0 1 1 1 1 1 0 0 1 1 0 1 1 0\n",
      " 0 1 1 1 0 1 1 1 1 1 0 0 0 0 0 0 0 0 0 0 0 0 1 1 1 1 1 1 0 1 0 1 1 0 1 1 0\n",
      " 1 0 0 1 1 1 1 1 1 1 1 1 0 1 1 0 1 0 1 1 1 1 1 1 1 1 1 1 1 1 0 1 1 1 0 1 0\n",
      " 1 1 1 0 0 1 1 1 0 0 1 0 1 1 1 0 1 1 1 1 0 0 0 1 1 1 1 1 1 1 1 1 0 1 0 0 0\n",
      " 0 0 1 1 1 1 1 1 1 1 1 0 1 1 1 1 0 0 1 1 1 1 1 1 1 1 1 0 1 1 1 1 0 1 1 1 1\n",
      " 1 1 1 1 1 1 0 1 0 0 1 1 1 1 0 1 1 1 0 1 1 0 1 0 1 1 1 1 1 1 1 0 0 1 1 1 1\n",
      " 1 1 0 1 1 1 1 1 1 1 1 0 1 1 1 1 1 0 1 0 1 1 0 1 1 1 1 0 0 1 1 0 1 1 1 1 1\n",
      " 1 1 1 0 1 0 1 1 1 1 1 1 1 1 1 1 1 1 0 1 0 0 1 1 1 1 1 1 1 1 1 1 1 1 1 1 1\n",
      " 1 1 1 1 1 1 0 0 0 0 1] as keyword args. From version 0.25 passing these as positional arguments will result in an error\n",
      "  warnings.warn(\"Pass {} as keyword args. From version 0.25 \"\n"
     ]
    },
    {
     "name": "stdout",
     "output_type": "stream",
     "text": [
      "4/4 [==============================] - 0s 1ms/step - loss: 0.1123 - accuracy: 0.9561 - auc: 0.9561\n",
      "Training model 3/5\n"
     ]
    },
    {
     "name": "stderr",
     "output_type": "stream",
     "text": [
      "/Users/zohreh-sh/opt/anaconda3/lib/python3.8/site-packages/sklearn/utils/validation.py:67: FutureWarning: Pass classes=[0 1], y=[0 0 0 0 0 0 0 0 0 0 0 0 0 0 1 1 1 0 0 0 0 0 0 0 0 0 0 0 0 0 0 1 0 0 0 0 0\n",
      " 0 0 0 1 0 1 1 1 1 1 0 0 0 1 1 1 1 1 0 1 1 1 0 1 0 0 1 0 1 1 0 0 1 0 0 1 1\n",
      " 0 1 1 0 0 1 1 1 0 1 1 1 1 1 1 0 1 1 1 1 1 0 0 1 0 0 1 1 1 0 0 1 0 1 0 0 1\n",
      " 1 0 1 0 1 1 1 1 1 1 1 1 1 1 1 0 1 1 1 0 0 1 1 1 0 0 1 0 1 1 1 0 1 1 0 0 1\n",
      " 1 0 1 1 0 1 1 0 0 1 0 0 0 0 1 0 1 0 1 1 0 1 0 0 0 1 1 0 1 1 1 0 1 1 1 1 0\n",
      " 0 1 1 0 1 0 1 0 1 1 0 1 1 1 1 0 1 0 0 0 0 0 0 0 0 0 0 0 0 1 1 1 1 0 1 0 1\n",
      " 0 1 1 0 1 0 0 1 1 1 1 1 1 1 1 1 1 1 1 0 1 1 0 1 0 1 1 1 1 1 1 1 1 1 1 1 0\n",
      " 1 0 1 1 1 0 0 1 1 1 1 0 1 0 1 0 1 1 0 1 1 1 1 1 1 0 0 1 1 1 1 1 1 1 1 1 0\n",
      " 0 1 0 0 0 1 0 0 1 1 1 1 0 1 1 1 1 0 1 1 1 0 1 1 0 0 1 1 1 1 1 0 1 1 1 1 1\n",
      " 1 1 1 1 1 1 1 1 0 1 1 1 1 1 1 1 1 0 0 1 0 1 1 1 1 0 1 1 0 1 0 1 0 1 0 1 1\n",
      " 1 1 0 0 1 1 1 1 1 0 1 1 1 1 1 1 1 1 0 1 1 1 1 1 0 1 1 1 1 1 0 0 1 0 1 0 1\n",
      " 1 1 0 1 1 0 1 0 0 1 1 0 1 1 1 1 1 1 1 1 1 0 1 0 0 1 1 1 1 1 1 1 1 1 1 1 1\n",
      " 1 1 1 1 1 1 1 0 0 0 1] as keyword args. From version 0.25 passing these as positional arguments will result in an error\n",
      "  warnings.warn(\"Pass {} as keyword args. From version 0.25 \"\n"
     ]
    },
    {
     "name": "stdout",
     "output_type": "stream",
     "text": [
      "4/4 [==============================] - 0s 1ms/step - loss: 0.0345 - accuracy: 0.9912 - auc: 0.9912\n",
      "Training model 4/5\n"
     ]
    },
    {
     "name": "stderr",
     "output_type": "stream",
     "text": [
      "/Users/zohreh-sh/opt/anaconda3/lib/python3.8/site-packages/sklearn/utils/validation.py:67: FutureWarning: Pass classes=[0 1], y=[0 0 0 0 0 0 0 0 0 0 0 0 0 0 0 0 1 1 0 0 0 0 0 0 0 0 0 0 0 0 1 0 0 0 0 1 0\n",
      " 1 1 1 1 0 0 1 1 1 1 0 1 0 0 1 1 1 1 0 1 0 0 1 1 0 1 1 1 0 0 0 0 0 1 1 0 0\n",
      " 0 1 1 0 0 1 1 1 0 1 1 0 1 1 1 1 1 1 1 1 0 0 1 0 0 1 1 1 0 0 1 0 1 0 0 1 0\n",
      " 0 1 0 1 1 0 1 1 1 0 1 1 1 1 1 1 1 1 1 0 1 1 1 1 0 0 1 0 0 0 1 1 0 0 1 1 1\n",
      " 0 1 0 0 1 0 1 0 1 1 0 1 1 0 1 0 1 0 0 0 1 0 1 0 1 1 0 1 0 0 0 1 0 1 0 1 1\n",
      " 1 1 0 0 1 1 0 1 1 0 0 1 0 1 1 1 1 1 1 1 1 0 1 0 0 0 0 0 0 0 0 0 0 0 1 1 1\n",
      " 1 1 1 0 1 1 1 1 1 1 0 0 1 1 1 1 1 1 1 1 1 1 1 1 0 1 1 0 0 1 1 1 1 1 1 1 1\n",
      " 1 1 1 0 1 0 1 0 1 1 1 0 0 0 1 1 0 1 0 1 0 1 1 1 1 1 1 1 0 0 1 1 1 1 1 1 1\n",
      " 1 1 1 0 0 1 0 0 1 1 1 1 0 1 1 1 1 0 1 0 1 1 1 1 1 0 1 1 1 1 0 1 1 0 1 1 0\n",
      " 1 1 1 1 1 1 1 1 1 1 1 0 1 0 0 0 1 1 1 1 1 1 0 0 1 1 1 1 1 1 1 1 1 1 0 1 1\n",
      " 1 1 1 1 0 1 1 1 1 1 1 1 0 1 1 1 1 1 1 0 1 0 0 1 1 1 1 0 0 1 0 1 1 1 1 0 1\n",
      " 1 0 1 0 1 0 0 1 1 0 1 1 1 1 1 1 1 1 1 0 1 0 1 1 1 1 1 1 1 1 1 1 1 1 1 1 1\n",
      " 1 1 1 1 1 0 0 0 0 0 0 1] as keyword args. From version 0.25 passing these as positional arguments will result in an error\n",
      "  warnings.warn(\"Pass {} as keyword args. From version 0.25 \"\n"
     ]
    },
    {
     "name": "stdout",
     "output_type": "stream",
     "text": [
      "4/4 [==============================] - 0s 1ms/step - loss: 0.0415 - accuracy: 0.9912 - auc: 0.9912\n",
      "Cleaning up temporary files...done\n"
     ]
    }
   ],
   "source": [
    "generate_data.run(X=X, y=y,\n",
    "                  split_data_flag=True,\n",
    "                  grid_search_flag=False,\n",
    "                  find_best_initialisation_flag=False,\n",
    "                  generate_fold_data_flag=True)"
   ]
  },
  {
   "cell_type": "markdown",
   "metadata": {},
   "source": [
    "# Rule extraction using REM-D"
   ]
  },
  {
   "cell_type": "code",
   "execution_count": 10,
   "metadata": {},
   "outputs": [
    {
     "name": "stdout",
     "output_type": "stream",
     "text": [
      "4/4 [==============================] - 0s 2ms/step - loss: 0.1157 - accuracy: 0.9649 - auc: 0.9649\n",
      "Computed layerwise activations.\n",
      "Extracting layer 2 rules:\n",
      ".\n",
      ".\n",
      "Substituting layer 2 rules   Rule Premise Length:  1\n",
      "    premise: 1\n",
      "done\n",
      "Extracting layer 1 rules:\n",
      ".\n",
      ".\n",
      "Substituting layer 1 rules   Rule Premise Length:  1\n",
      "    premise: 1\n",
      "done\n",
      "Extracting layer 0 rules:\n",
      "...\n",
      "...\n",
      "Substituting layer 0 rules   Rule Premise Length:  2\n",
      "    premise: 1\n",
      "    premise: 2\n",
      "done\n",
      "Extracting layer 2 rules:\n",
      ".\n",
      ".\n",
      "Substituting layer 2 rules   Rule Premise Length:  1\n",
      "    premise: 1\n",
      "done\n",
      "Extracting layer 1 rules:\n",
      ".\n",
      ".\n",
      "Substituting layer 1 rules   Rule Premise Length:  1\n",
      "    premise: 1\n",
      "done\n",
      "Extracting layer 0 rules:\n",
      "...\n",
      "...\n",
      "Substituting layer 0 rules   Rule Premise Length:  2\n",
      "    premise: 1\n",
      "    premise: 2\n",
      "done\n",
      "Saving fold 0/5 rules extracted...done\n",
      "Saving fold 0/5 results...done\n",
      "4/4 [==============================] - 0s 2ms/step - loss: 0.3096 - accuracy: 0.9386 - auc: 0.9386\n",
      "Computed layerwise activations.\n",
      "Extracting layer 2 rules:\n",
      ".\n",
      ".\n",
      "Substituting layer 2 rules   Rule Premise Length:  1\n",
      "    premise: 1\n",
      "done\n",
      "Extracting layer 1 rules:\n",
      ".\n",
      ".\n",
      "Substituting layer 1 rules   Rule Premise Length:  1\n",
      "    premise: 1\n",
      "done\n",
      "Extracting layer 0 rules:\n",
      "..\n",
      "..\n",
      "Substituting layer 0 rules   Rule Premise Length:  2\n",
      "    premise: 1\n",
      "    premise: 2\n",
      "done\n",
      "Extracting layer 2 rules:\n",
      ".\n",
      ".\n",
      "Substituting layer 2 rules   Rule Premise Length:  1\n",
      "    premise: 1\n",
      "done\n",
      "Extracting layer 1 rules:\n",
      ".\n",
      ".\n",
      "Substituting layer 1 rules   Rule Premise Length:  1\n",
      "    premise: 1\n",
      "done\n",
      "Extracting layer 0 rules:\n",
      "..\n",
      "..\n",
      "Substituting layer 0 rules   Rule Premise Length:  1\n",
      "    premise: 1\n",
      "done\n",
      "Saving fold 1/5 rules extracted...done\n",
      "Saving fold 1/5 results...done\n",
      "4/4 [==============================] - 0s 1ms/step - loss: 0.1123 - accuracy: 0.9561 - auc: 0.9561\n",
      "Computed layerwise activations.\n",
      "Extracting layer 2 rules:\n",
      ".\n",
      ".\n",
      "Substituting layer 2 rules   Rule Premise Length:  1\n",
      "    premise: 1\n",
      "done\n",
      "Extracting layer 1 rules:\n",
      ".\n",
      ".\n",
      "Substituting layer 1 rules   Rule Premise Length:  1\n",
      "    premise: 1\n",
      "done\n",
      "Extracting layer 0 rules:\n",
      ".....\n",
      ".....\n",
      "Substituting layer 0 rules   Rule Premise Length:  3\n",
      "    premise: 1\n",
      "    premise: 2\n",
      "    premise: 3\n",
      "done\n",
      "Extracting layer 2 rules:\n",
      ".\n",
      ".\n",
      "Substituting layer 2 rules   Rule Premise Length:  1\n",
      "    premise: 1\n",
      "done\n",
      "Extracting layer 1 rules:\n",
      ".\n",
      ".\n",
      "Substituting layer 1 rules   Rule Premise Length:  1\n",
      "    premise: 1\n",
      "done\n",
      "Extracting layer 0 rules:\n",
      "....\n",
      "....\n",
      "Substituting layer 0 rules   Rule Premise Length:  2\n",
      "    premise: 1\n",
      "    premise: 2\n",
      "done\n",
      "Saving fold 2/5 rules extracted...done\n",
      "Saving fold 2/5 results...done\n",
      "4/4 [==============================] - 0s 2ms/step - loss: 0.0345 - accuracy: 0.9912 - auc: 0.9912\n",
      "Computed layerwise activations.\n",
      "Extracting layer 2 rules:\n",
      ".\n",
      ".\n",
      "Substituting layer 2 rules   Rule Premise Length:  1\n",
      "    premise: 1\n",
      "done\n",
      "Extracting layer 1 rules:\n",
      ".\n",
      ".\n",
      "Substituting layer 1 rules   Rule Premise Length:  1\n",
      "    premise: 1\n",
      "done\n",
      "Extracting layer 0 rules:\n",
      "..\n",
      "..\n",
      "Substituting layer 0 rules   Rule Premise Length:  1\n",
      "    premise: 1\n",
      "done\n",
      "Extracting layer 2 rules:\n",
      ".\n",
      ".\n",
      "Substituting layer 2 rules   Rule Premise Length:  1\n",
      "    premise: 1\n",
      "done\n",
      "Extracting layer 1 rules:\n",
      ".\n",
      ".\n",
      "Substituting layer 1 rules   Rule Premise Length:  1\n",
      "    premise: 1\n",
      "done\n",
      "Extracting layer 0 rules:\n",
      "..\n",
      "..\n",
      "Substituting layer 0 rules   Rule Premise Length:  2\n",
      "    premise: 1\n",
      "    premise: 2\n",
      "done\n",
      "Saving fold 3/5 rules extracted...done\n",
      "Saving fold 3/5 results...done\n",
      "4/4 [==============================] - 0s 1ms/step - loss: 0.0415 - accuracy: 0.9912 - auc: 0.9912\n",
      "Computed layerwise activations.\n",
      "Extracting layer 2 rules:\n",
      ".\n",
      ".\n",
      "Substituting layer 2 rules   Rule Premise Length:  1\n",
      "    premise: 1\n",
      "done\n",
      "Extracting layer 1 rules:\n",
      ".\n",
      ".\n",
      "Substituting layer 1 rules   Rule Premise Length:  1\n",
      "    premise: 1\n",
      "done\n",
      "Extracting layer 0 rules:\n",
      ".....\n",
      ".....\n",
      "Substituting layer 0 rules   Rule Premise Length:  3\n",
      "    premise: 1\n",
      "    premise: 2\n",
      "    premise: 3\n",
      "done\n",
      "Extracting layer 2 rules:\n",
      ".\n",
      ".\n",
      "Substituting layer 2 rules   Rule Premise Length:  1\n",
      "    premise: 1\n",
      "done\n",
      "Extracting layer 1 rules:\n",
      ".\n",
      ".\n",
      "Substituting layer 1 rules   Rule Premise Length:  1\n",
      "    premise: 1\n",
      "done\n",
      "Extracting layer 0 rules:\n",
      ".\n",
      ".\n",
      "Substituting layer 0 rules   Rule Premise Length:  1\n",
      "    premise: 1\n",
      "done\n",
      "Saving fold 4/5 rules extracted...done\n",
      "Saving fold 4/5 results...done\n",
      "Loading extracted rules from disk for fold 0/5...done\n",
      "Evaulating rules extracted from fold 0/5...Rules Auc 0.918605\n",
      "done\n",
      "Loading extracted rules from disk for fold 1/5...done\n",
      "Evaulating rules extracted from fold 1/5...Rules Auc 0.955617\n",
      "done\n",
      "Loading extracted rules from disk for fold 2/5...done\n",
      "Evaulating rules extracted from fold 2/5...Rules Auc 0.944444\n",
      "done\n",
      "Loading extracted rules from disk for fold 3/5...done\n",
      "Evaulating rules extracted from fold 3/5...Rules Auc 0.974206\n",
      "done\n",
      "Loading extracted rules from disk for fold 4/5...done\n",
      "Evaulating rules extracted from fold 4/5...Rules Auc 0.955064\n",
      "done\n"
     ]
    }
   ],
   "source": [
    "cross_validate_rem_d(extract_rules_flag=True, evaluate_rules_flag=True)"
   ]
  },
  {
   "cell_type": "code",
   "execution_count": 11,
   "metadata": {},
   "outputs": [
    {
     "name": "stdout",
     "output_type": "stream",
     "text": [
      "+---------+--------+--------+--------+--------+--------+---------------+----------------+-----------+--------------+\n",
      "|   fold  | nn_acc | nn_auc | re_acc | re_auc | re_fid | re_time (sec) | re_memory (MB) | rules_num | rules_av_len |\n",
      "+---------+--------+--------+--------+--------+--------+---------------+----------------+-----------+--------------+\n",
      "|   0.0   | 0.965  | 0.965  | 0.939  | 0.919  | 0.956  |     1.131     |     355.21     |    24.0   |    2.792     |\n",
      "|   1.0   | 0.939  | 0.939  | 0.956  | 0.956  | 0.965  |     0.947     |     72.029     |    12.0   |     2.25     |\n",
      "|   2.0   | 0.956  | 0.956  |  0.93  | 0.944  | 0.939  |     1.467     |     90.059     |    42.0   |    3.405     |\n",
      "|   3.0   | 0.991  | 0.991  | 0.974  | 0.974  | 0.965  |      0.95     |     77.77      |    20.0   |     3.3      |\n",
      "|   4.0   | 0.991  | 0.991  | 0.956  | 0.955  | 0.947  |     1.152     |    199.162     |    69.0   |    6.261     |\n",
      "| average | 0.968  | 0.968  | 0.951  |  0.95  | 0.954  |     1.129     |    158.846     |    33.4   |    3.602     |\n",
      "+---------+--------+--------+--------+--------+--------+---------------+----------------+-----------+--------------+\n"
     ]
    }
   ],
   "source": [
    "with open(N_FOLD_RESULTS_FP, \"r\") as fp: \n",
    "    x = from_csv(fp)\n",
    "    \n",
    "print(x)"
   ]
  },
  {
   "cell_type": "code",
   "execution_count": 12,
   "metadata": {},
   "outputs": [
    {
     "name": "stdout",
     "output_type": "stream",
     "text": [
      "\n",
      "If (perimeter_3 <= 0.34) AND (texture_1 <= 0.36) AND (smoothness_3 <= 0.35) Then B\n",
      "If (concavepoints_3 <= 0.46) AND (perimeter_3 <= 0.31) AND (area_3 <= 0.14) Then B\n",
      "If (perimeter_3 <= 0.33) AND (area_3 <= 0.14) AND (smoothness_3 <= 0.35) Then B\n",
      "If (concavepoints_3 <= 0.46) AND (perimeter_3 <= 0.34) AND (texture_1 <= 0.36) Then B\n",
      "If (smoothness_3 <= 0.42) AND (perimeter_3 <= 0.31) AND (area_3 <= 0.14) Then B\n",
      "If (perimeter_3 <= 0.34) AND (smoothness_3 <= 0.42) AND (texture_1 <= 0.36) Then B\n",
      "If (perimeter_3 > 0.34) Then M\n",
      "If (perimeter_3 > 0.33) Then M\n",
      "If (smoothness_3 > 0.35) AND (perimeter_3 > 0.31) Then M\n",
      "If (texture_1 > 0.36) AND (area_3 > 0.14) Then M\n",
      "If (smoothness_3 > 0.42) AND (concavepoints_3 > 0.46) Then M\n",
      "If (radius_3 > 0.34) Then M\n",
      "\n"
     ]
    }
   ],
   "source": [
    "# Printing rules extracted from fold 3\n",
    "\n",
    "with open(n_fold_rules_fp(1), 'rb') as rules_file: \n",
    "    ruleset_fold_3 = pickle.load(rules_file)\n",
    "print(print_ruleset(ruleset_fold_3))"
   ]
  },
  {
   "cell_type": "code",
   "execution_count": 13,
   "metadata": {},
   "outputs": [
    {
     "name": "stdout",
     "output_type": "stream",
     "text": [
      "\n",
      "If (concavepoints_3 <= 0.54) AND (radius_3 <= 0.28) Then B\n",
      "If (concavepoints_3 <= 0.37) Then B\n",
      "\n"
     ]
    }
   ],
   "source": [
    "# Making a prediction for a random sample using rules from a random fold and \n",
    "# providing the explanation for the prediction.\n",
    "\n",
    "np.random.seed(114)\n",
    "instance = np.random.uniform(0, 1, 30)\n",
    "fold = np.random.randint(5)\n",
    "\n",
    "with open(n_fold_rules_fp(fold), 'rb') as rules_file:\n",
    "    rules = pickle.load(rules_file)\n",
    "\n",
    "prediction, explanation = predict_explain(rules, instance)\n",
    "print(print_explanation(prediction, explanation))"
   ]
  },
  {
   "cell_type": "code",
   "execution_count": 14,
   "metadata": {},
   "outputs": [
    {
     "name": "stdout",
     "output_type": "stream",
     "text": [
      "features recurrence across folds:\n",
      "concavepoints_3\n",
      "texture_3\n",
      "concavepoints_1\n",
      "area_3\n",
      "smoothness_3\n",
      "radius_3\n",
      "perimeter_3\n",
      "compactness_2\n",
      "compactness_3\n",
      "concavity_3\n",
      "symmerty_3\n",
      "compactness_1\n",
      "concavity_2\n",
      "area_2\n",
      "texture_1\n",
      "radius_2\n",
      "smoothness_1\n",
      "fractaldimension_1\n",
      "fractaldimension_3\n",
      "smoothness_2\n",
      "concavity_1\n",
      "texture_2\n",
      "perimeter_1\n",
      "\n",
      "\n",
      "features recurrence per class across folds {'B': ['concavepoints_3', 'perimeter_3', 'area_3', 'texture_3', 'texture_1', 'smoothness_3', 'radius_3', 'compactness_3', 'concavepoints_1', 'smoothness_1', 'fractaldimension_1', 'fractaldimension_3', 'area_2', 'radius_2', 'concavity_3', 'perimeter_1', 'concavity_1', 'compactness_1'], 'M': ['concavepoints_3', 'concavepoints_1', 'texture_3', 'area_3', 'smoothness_3', 'compactness_2', 'symmerty_3', 'radius_3', 'concavity_3', 'compactness_3', 'compactness_1', 'concavity_2', 'perimeter_3', 'area_2', 'texture_1', 'radius_2', 'smoothness_1', 'fractaldimension_1', 'smoothness_2', 'texture_2', 'concavity_1', 'fractaldimension_3']}\n",
      "\n",
      "\n",
      "top features operator frequency recurrence per class across folds {'B': {'concavepoints_3': [0, 28], 'fractaldimension_3': [0, 3], 'area_2': [0, 3], 'area_3': [0, 12], 'radius_3': [0, 6], 'concavity_1': [0, 1], 'texture_1': [0, 7], 'perimeter_3': [0, 13], 'smoothness_3': [3, 4], 'texture_3': [0, 11], 'smoothness_1': [0, 4], 'compactness_3': [0, 5], 'fractaldimension_1': [4, 0], 'concavity_3': [0, 2], 'radius_2': [0, 3], 'perimeter_1': [0, 2], 'concavepoints_1': [0, 5], 'compactness_1': [1, 0]}, 'M': {'area_2': [14, 0], 'concavepoints_3': [115, 0], 'concavity_1': [3, 0], 'radius_3': [26, 0], 'fractaldimension_3': [3, 0], 'area_3': [53, 0], 'texture_1': [9, 0], 'perimeter_3': [18, 0], 'smoothness_3': [47, 3], 'texture_3': [76, 0], 'smoothness_1': [6, 0], 'fractaldimension_1': [0, 6], 'concavity_3': [25, 0], 'compactness_3': [22, 0], 'smoothness_2': [0, 6], 'texture_2': [4, 0], 'concavepoints_1': [77, 0], 'radius_2': [8, 0], 'compactness_2': [0, 28], 'compactness_1': [0, 21], 'symmerty_3': [27, 0], 'concavity_2': [0, 21]}}\n"
     ]
    }
   ],
   "source": [
    "# List of top reoccuring features across all 5 folds.\n",
    "\n",
    "# List of top reoccuring features across all 5 folds for each class.\n",
    "\n",
    "# Frequency of operator for each feature appearing in the ruleset for each class\n",
    "# {'B': {'concavepoints_3': [0, 28]}, 'M': {area_3': [53, 0]}\n",
    "# In the above example feature 'concavepoints_3' appears with greater and less than operator\n",
    "# 0 and 28 times respectively for class Benign.\n",
    "\n",
    "compute_top_recurring_features_across_folds(flag=True)"
   ]
  },
  {
   "cell_type": "markdown",
   "metadata": {},
   "source": [
    "# Classification using decision tree and rule extarction using REM-T"
   ]
  },
  {
   "cell_type": "code",
   "execution_count": 15,
   "metadata": {},
   "outputs": [
    {
     "name": "stdout",
     "output_type": "stream",
     "text": [
      "Saving fold 0/5 rules extracted...done\n",
      "Evaulating rules extracted from fold 0/5...tree Rules accuracy 0.921053\n",
      "Rules Auc 0.913691\n",
      "done\n",
      "Saving fold 1/5 rules extracted...done\n",
      "Evaulating rules extracted from fold 1/5...tree Rules accuracy 0.912281\n",
      "Rules Auc 0.906649\n",
      "done\n",
      "Saving fold 2/5 rules extracted...done\n",
      "Evaulating rules extracted from fold 2/5...tree Rules accuracy 0.912281\n",
      "Rules Auc 0.915675\n",
      "done\n",
      "Saving fold 3/5 rules extracted...done\n",
      "Evaulating rules extracted from fold 3/5..."
     ]
    },
    {
     "name": "stderr",
     "output_type": "stream",
     "text": [
      "/Users/zohreh-sh/opt/anaconda3/lib/python3.8/site-packages/sklearn/utils/validation.py:67: FutureWarning: Pass classes=[0 1], y=[0 0 0 0 0 0 0 0 0 0 0 0 0 0 0 0 1 1 0 0 0 0 0 0 0 0 0 0 0 0 0 0 0 0 0 0 1\n",
      " 1 1 1 1 0 0 1 0 0 1 1 1 1 0 1 0 0 1 1 1 1 1 0 0 1 0 1 0 0 1 1 1 0 0 1 0 0\n",
      " 1 1 1 0 1 1 0 0 1 0 0 1 0 1 1 0 1 1 1 1 1 0 0 0 0 1 1 0 1 0 0 0 1 0 1 1 0\n",
      " 1 1 1 1 0 1 1 1 1 1 1 1 0 1 1 1 0 1 0 1 1 1 0 1 1 1 0 1 1 0 0 0 1 0 0 1 1\n",
      " 1 0 0 0 0 0 1 0 0 1 0 1 0 1 1 1 0 0 0 0 1 1 0 0 1 1 1 1 1 1 1 1 0 0 1 0 1\n",
      " 1 0 0 1 0 1 1 1 0 1 1 1 1 0 0 0 0 0 0 0 0 0 1 1 1 1 0 1 0 1 1 0 0 1 0 0 1\n",
      " 1 1 1 1 1 1 0 1 0 1 1 1 1 1 1 1 1 1 1 1 1 1 1 0 1 1 1 1 0 1 1 1 0 0 0 1 1\n",
      " 1 1 0 1 0 1 1 1 1 1 1 1 1 1 1 0 0 0 1 1 1 1 1 1 1 1 1 0 1 0 0 0 1 0 0 1 1\n",
      " 1 1 0 1 1 1 1 1 0 1 1 0 1 1 0 0 1 1 1 1 1 1 0 1 1 1 1 1 1 0 1 1 1 1 1 0 1\n",
      " 1 0 1 1 1 1 1 1 1 1 1 1 0 1 0 1 0 1 1 1 1 1 0 0 1 1 1 0 1 0 1 1 1 1 1 1 1\n",
      " 0 1 1 0 1 1 1 1 1 1 1 1 1 1 1 1 1 1 1 1 0 0 1 1 0 1 1 1 1 1 0 0 1 0 1 1 1\n",
      " 1 1 0 1 1 0 0 1 0 0 1 1 0 1 1 1 1 1 1 1 1 1 0 1 1 1 1 1 1 1 1 1 1 1 1 1 1\n",
      " 1 1 1 1 1 0 0 0 0 0 1] as keyword args. From version 0.25 passing these as positional arguments will result in an error\n",
      "  warnings.warn(\"Pass {} as keyword args. From version 0.25 \"\n",
      "/Users/zohreh-sh/opt/anaconda3/lib/python3.8/site-packages/sklearn/utils/validation.py:67: FutureWarning: Pass classes=[0 1], y=[0 0 0 0 0 0 0 0 0 0 0 0 0 1 1 0 0 0 0 0 0 0 0 0 0 0 0 0 1 0 0 0 0 0 0 0 0\n",
      " 1 1 1 1 1 0 0 1 0 0 1 1 0 0 1 1 1 1 0 0 1 0 1 0 0 1 1 1 0 0 1 0 0 0 1 1 0\n",
      " 1 1 1 1 1 0 0 1 1 1 1 0 1 1 1 1 1 1 1 1 0 0 1 0 1 1 1 0 1 0 1 0 0 1 0 1 1\n",
      " 0 1 1 1 1 1 0 1 1 1 1 1 1 1 1 1 0 1 1 0 0 1 0 1 1 0 0 1 1 0 0 1 1 1 1 0 0\n",
      " 0 1 0 1 0 1 1 1 0 1 0 0 1 0 0 0 0 0 0 0 1 0 1 0 1 0 1 0 0 0 1 1 0 0 1 1 1\n",
      " 0 1 1 1 1 0 1 0 1 1 1 1 0 1 1 1 1 0 1 0 0 0 0 0 0 0 0 0 0 0 0 0 1 1 1 1 0\n",
      " 1 0 1 1 0 1 1 1 1 1 1 1 1 1 1 1 1 1 1 0 1 1 1 1 1 1 1 1 1 1 1 0 1 1 1 0 1\n",
      " 1 1 1 0 0 1 1 1 1 0 1 1 0 1 1 1 0 1 1 1 1 0 0 1 1 1 1 1 1 1 0 0 0 1 0 0 1\n",
      " 1 1 1 0 1 1 1 1 0 1 1 1 0 1 1 0 1 1 1 1 0 1 1 1 1 1 1 0 1 1 1 1 0 1 0 1 1\n",
      " 1 1 1 1 1 1 1 1 1 0 1 0 1 0 1 1 1 1 0 1 1 0 1 0 1 0 0 1 1 1 1 1 1 1 0 0 1\n",
      " 1 1 1 1 1 1 1 1 1 1 1 1 0 1 1 1 1 1 1 0 1 1 1 0 1 1 1 1 0 1 0 1 0 1 1 1 0\n",
      " 0 1 0 1 0 1 1 1 0 1 1 1 1 1 1 1 1 1 0 0 0 1 1 1 1 1 1 1 1 1 1 1 1 1 1 1 1\n",
      " 1 1 1 1 1 0 0 0 0 0 0] as keyword args. From version 0.25 passing these as positional arguments will result in an error\n",
      "  warnings.warn(\"Pass {} as keyword args. From version 0.25 \"\n",
      "/Users/zohreh-sh/opt/anaconda3/lib/python3.8/site-packages/sklearn/utils/validation.py:67: FutureWarning: Pass classes=[0 1], y=[0 0 0 0 0 0 0 0 0 0 0 0 0 0 0 0 0 1 1 1 0 0 0 0 0 0 0 0 1 0 0 0 0 0 0 0 0\n",
      " 1 0 1 1 0 1 0 0 1 1 1 0 1 0 0 1 0 1 0 0 1 0 0 0 1 1 0 0 1 1 1 1 1 0 0 1 1\n",
      " 1 0 1 1 1 1 0 1 0 1 1 1 1 1 1 1 0 0 0 1 0 0 1 0 0 1 0 1 0 0 1 0 0 1 1 1 0\n",
      " 1 1 0 1 1 1 1 1 1 1 1 0 0 1 1 0 0 1 1 0 0 1 1 1 1 0 1 1 0 0 0 1 1 1 1 0 1\n",
      " 1 0 1 0 0 0 0 1 0 0 0 0 1 1 0 0 0 0 1 0 0 1 1 0 1 1 1 1 1 0 0 1 1 0 1 1 0\n",
      " 0 1 1 1 0 1 1 1 1 1 0 0 0 0 0 0 0 0 0 0 0 0 1 1 1 1 1 1 0 1 0 1 1 0 1 1 0\n",
      " 1 0 0 1 1 1 1 1 1 1 1 1 0 1 1 0 1 0 1 1 1 1 1 1 1 1 1 1 1 1 0 1 1 1 0 1 0\n",
      " 1 1 1 0 0 1 1 1 0 0 1 0 1 1 1 0 1 1 1 1 0 0 0 1 1 1 1 1 1 1 1 1 0 1 0 0 0\n",
      " 0 0 1 1 1 1 1 1 1 1 1 0 1 1 1 1 0 0 1 1 1 1 1 1 1 1 1 0 1 1 1 1 0 1 1 1 1\n",
      " 1 1 1 1 1 1 0 1 0 0 1 1 1 1 0 1 1 1 0 1 1 0 1 0 1 1 1 1 1 1 1 0 0 1 1 1 1\n",
      " 1 1 0 1 1 1 1 1 1 1 1 0 1 1 1 1 1 0 1 0 1 1 0 1 1 1 1 0 0 1 1 0 1 1 1 1 1\n",
      " 1 1 1 0 1 0 1 1 1 1 1 1 1 1 1 1 1 1 0 1 0 0 1 1 1 1 1 1 1 1 1 1 1 1 1 1 1\n",
      " 1 1 1 1 1 1 0 0 0 0 1] as keyword args. From version 0.25 passing these as positional arguments will result in an error\n",
      "  warnings.warn(\"Pass {} as keyword args. From version 0.25 \"\n",
      "/Users/zohreh-sh/opt/anaconda3/lib/python3.8/site-packages/sklearn/utils/validation.py:67: FutureWarning: Pass classes=[0 1], y=[0 0 0 0 0 0 0 0 0 0 0 0 0 0 1 1 1 0 0 0 0 0 0 0 0 0 0 0 0 0 0 1 0 0 0 0 0\n",
      " 0 0 0 1 0 1 1 1 1 1 0 0 0 1 1 1 1 1 0 1 1 1 0 1 0 0 1 0 1 1 0 0 1 0 0 1 1\n",
      " 0 1 1 0 0 1 1 1 0 1 1 1 1 1 1 0 1 1 1 1 1 0 0 1 0 0 1 1 1 0 0 1 0 1 0 0 1\n",
      " 1 0 1 0 1 1 1 1 1 1 1 1 1 1 1 0 1 1 1 0 0 1 1 1 0 0 1 0 1 1 1 0 1 1 0 0 1\n",
      " 1 0 1 1 0 1 1 0 0 1 0 0 0 0 1 0 1 0 1 1 0 1 0 0 0 1 1 0 1 1 1 0 1 1 1 1 0\n",
      " 0 1 1 0 1 0 1 0 1 1 0 1 1 1 1 0 1 0 0 0 0 0 0 0 0 0 0 0 0 1 1 1 1 0 1 0 1\n",
      " 0 1 1 0 1 0 0 1 1 1 1 1 1 1 1 1 1 1 1 0 1 1 0 1 0 1 1 1 1 1 1 1 1 1 1 1 0\n",
      " 1 0 1 1 1 0 0 1 1 1 1 0 1 0 1 0 1 1 0 1 1 1 1 1 1 0 0 1 1 1 1 1 1 1 1 1 0\n",
      " 0 1 0 0 0 1 0 0 1 1 1 1 0 1 1 1 1 0 1 1 1 0 1 1 0 0 1 1 1 1 1 0 1 1 1 1 1\n",
      " 1 1 1 1 1 1 1 1 0 1 1 1 1 1 1 1 1 0 0 1 0 1 1 1 1 0 1 1 0 1 0 1 0 1 0 1 1\n",
      " 1 1 0 0 1 1 1 1 1 0 1 1 1 1 1 1 1 1 0 1 1 1 1 1 0 1 1 1 1 1 0 0 1 0 1 0 1\n",
      " 1 1 0 1 1 0 1 0 0 1 1 0 1 1 1 1 1 1 1 1 1 0 1 0 0 1 1 1 1 1 1 1 1 1 1 1 1\n",
      " 1 1 1 1 1 1 1 0 0 0 1] as keyword args. From version 0.25 passing these as positional arguments will result in an error\n",
      "  warnings.warn(\"Pass {} as keyword args. From version 0.25 \"\n"
     ]
    },
    {
     "name": "stdout",
     "output_type": "stream",
     "text": [
      "tree Rules accuracy 0.903509\n",
      "Rules Auc 0.913690\n",
      "done\n",
      "Saving fold 4/5 rules extracted...done\n",
      "Evaulating rules extracted from fold 4/5...tree Rules accuracy 0.938053\n",
      "Rules Auc 0.931254\n",
      "done\n"
     ]
    },
    {
     "name": "stderr",
     "output_type": "stream",
     "text": [
      "/Users/zohreh-sh/opt/anaconda3/lib/python3.8/site-packages/sklearn/utils/validation.py:67: FutureWarning: Pass classes=[0 1], y=[0 0 0 0 0 0 0 0 0 0 0 0 0 0 0 0 1 1 0 0 0 0 0 0 0 0 0 0 0 0 1 0 0 0 0 1 0\n",
      " 1 1 1 1 0 0 1 1 1 1 0 1 0 0 1 1 1 1 0 1 0 0 1 1 0 1 1 1 0 0 0 0 0 1 1 0 0\n",
      " 0 1 1 0 0 1 1 1 0 1 1 0 1 1 1 1 1 1 1 1 0 0 1 0 0 1 1 1 0 0 1 0 1 0 0 1 0\n",
      " 0 1 0 1 1 0 1 1 1 0 1 1 1 1 1 1 1 1 1 0 1 1 1 1 0 0 1 0 0 0 1 1 0 0 1 1 1\n",
      " 0 1 0 0 1 0 1 0 1 1 0 1 1 0 1 0 1 0 0 0 1 0 1 0 1 1 0 1 0 0 0 1 0 1 0 1 1\n",
      " 1 1 0 0 1 1 0 1 1 0 0 1 0 1 1 1 1 1 1 1 1 0 1 0 0 0 0 0 0 0 0 0 0 0 1 1 1\n",
      " 1 1 1 0 1 1 1 1 1 1 0 0 1 1 1 1 1 1 1 1 1 1 1 1 0 1 1 0 0 1 1 1 1 1 1 1 1\n",
      " 1 1 1 0 1 0 1 0 1 1 1 0 0 0 1 1 0 1 0 1 0 1 1 1 1 1 1 1 0 0 1 1 1 1 1 1 1\n",
      " 1 1 1 0 0 1 0 0 1 1 1 1 0 1 1 1 1 0 1 0 1 1 1 1 1 0 1 1 1 1 0 1 1 0 1 1 0\n",
      " 1 1 1 1 1 1 1 1 1 1 1 0 1 0 0 0 1 1 1 1 1 1 0 0 1 1 1 1 1 1 1 1 1 1 0 1 1\n",
      " 1 1 1 1 0 1 1 1 1 1 1 1 0 1 1 1 1 1 1 0 1 0 0 1 1 1 1 0 0 1 0 1 1 1 1 0 1\n",
      " 1 0 1 0 1 0 0 1 1 0 1 1 1 1 1 1 1 1 1 0 1 0 1 1 1 1 1 1 1 1 1 1 1 1 1 1 1\n",
      " 1 1 1 1 1 0 0 0 0 0 0 1] as keyword args. From version 0.25 passing these as positional arguments will result in an error\n",
      "  warnings.warn(\"Pass {} as keyword args. From version 0.25 \"\n"
     ]
    }
   ],
   "source": [
    "cross_validated_rem_t(X, y, extract_evaluate_rules_flag=True, DT=True)"
   ]
  },
  {
   "cell_type": "code",
   "execution_count": 16,
   "metadata": {},
   "outputs": [
    {
     "name": "stdout",
     "output_type": "stream",
     "text": [
      "+---------+--------+--------+-----------+--------------+\n",
      "|   fold  | re_acc | re_auc | rules_num | rules_av_len |\n",
      "+---------+--------+--------+-----------+--------------+\n",
      "|   0.0   | 0.921  | 0.914  |    17.0   |    4.588     |\n",
      "|   1.0   | 0.912  | 0.907  |    18.0   |    4.389     |\n",
      "|   2.0   | 0.912  | 0.916  |    20.0   |     4.7      |\n",
      "|   3.0   | 0.904  | 0.914  |    19.0   |    4.368     |\n",
      "|   4.0   | 0.938  | 0.931  |    21.0   |    4.905     |\n",
      "| average | 0.917  | 0.916  |    19.0   |     4.59     |\n",
      "+---------+--------+--------+-----------+--------------+\n"
     ]
    }
   ],
   "source": [
    "with open(N_FOLD_RESULTS_DT_FP, \"r\") as fp: \n",
    "    x = from_csv(fp)\n",
    "    \n",
    "print(x)"
   ]
  },
  {
   "cell_type": "markdown",
   "metadata": {},
   "source": [
    "# Classification using Random Forest and rule extarction using REM-T"
   ]
  },
  {
   "cell_type": "code",
   "execution_count": 17,
   "metadata": {},
   "outputs": [
    {
     "name": "stderr",
     "output_type": "stream",
     "text": [
      "/Users/zohreh-sh/opt/anaconda3/lib/python3.8/site-packages/sklearn/utils/validation.py:67: FutureWarning: Pass classes=[0 1], y=[0 0 0 0 0 0 0 0 0 0 0 0 0 0 0 0 1 1 0 0 0 0 0 0 0 0 0 0 0 0 0 0 0 0 0 0 1\n",
      " 1 1 1 1 0 0 1 0 0 1 1 1 1 0 1 0 0 1 1 1 1 1 0 0 1 0 1 0 0 1 1 1 0 0 1 0 0\n",
      " 1 1 1 0 1 1 0 0 1 0 0 1 0 1 1 0 1 1 1 1 1 0 0 0 0 1 1 0 1 0 0 0 1 0 1 1 0\n",
      " 1 1 1 1 0 1 1 1 1 1 1 1 0 1 1 1 0 1 0 1 1 1 0 1 1 1 0 1 1 0 0 0 1 0 0 1 1\n",
      " 1 0 0 0 0 0 1 0 0 1 0 1 0 1 1 1 0 0 0 0 1 1 0 0 1 1 1 1 1 1 1 1 0 0 1 0 1\n",
      " 1 0 0 1 0 1 1 1 0 1 1 1 1 0 0 0 0 0 0 0 0 0 1 1 1 1 0 1 0 1 1 0 0 1 0 0 1\n",
      " 1 1 1 1 1 1 0 1 0 1 1 1 1 1 1 1 1 1 1 1 1 1 1 0 1 1 1 1 0 1 1 1 0 0 0 1 1\n",
      " 1 1 0 1 0 1 1 1 1 1 1 1 1 1 1 0 0 0 1 1 1 1 1 1 1 1 1 0 1 0 0 0 1 0 0 1 1\n",
      " 1 1 0 1 1 1 1 1 0 1 1 0 1 1 0 0 1 1 1 1 1 1 0 1 1 1 1 1 1 0 1 1 1 1 1 0 1\n",
      " 1 0 1 1 1 1 1 1 1 1 1 1 0 1 0 1 0 1 1 1 1 1 0 0 1 1 1 0 1 0 1 1 1 1 1 1 1\n",
      " 0 1 1 0 1 1 1 1 1 1 1 1 1 1 1 1 1 1 1 1 0 0 1 1 0 1 1 1 1 1 0 0 1 0 1 1 1\n",
      " 1 1 0 1 1 0 0 1 0 0 1 1 0 1 1 1 1 1 1 1 1 1 0 1 1 1 1 1 1 1 1 1 1 1 1 1 1\n",
      " 1 1 1 1 1 0 0 0 0 0 1] as keyword args. From version 0.25 passing these as positional arguments will result in an error\n",
      "  warnings.warn(\"Pass {} as keyword args. From version 0.25 \"\n"
     ]
    },
    {
     "name": "stdout",
     "output_type": "stream",
     "text": [
      "Saving fold 0/5 rules extracted...done\n",
      "Evaulating rules extracted from fold 0/5...tree Rules accuracy 0.938596\n",
      "Rules Auc 0.923190\n",
      "done\n"
     ]
    },
    {
     "name": "stderr",
     "output_type": "stream",
     "text": [
      "/Users/zohreh-sh/opt/anaconda3/lib/python3.8/site-packages/sklearn/utils/validation.py:67: FutureWarning: Pass classes=[0 1], y=[0 0 0 0 0 0 0 0 0 0 0 0 0 1 1 0 0 0 0 0 0 0 0 0 0 0 0 0 1 0 0 0 0 0 0 0 0\n",
      " 1 1 1 1 1 0 0 1 0 0 1 1 0 0 1 1 1 1 0 0 1 0 1 0 0 1 1 1 0 0 1 0 0 0 1 1 0\n",
      " 1 1 1 1 1 0 0 1 1 1 1 0 1 1 1 1 1 1 1 1 0 0 1 0 1 1 1 0 1 0 1 0 0 1 0 1 1\n",
      " 0 1 1 1 1 1 0 1 1 1 1 1 1 1 1 1 0 1 1 0 0 1 0 1 1 0 0 1 1 0 0 1 1 1 1 0 0\n",
      " 0 1 0 1 0 1 1 1 0 1 0 0 1 0 0 0 0 0 0 0 1 0 1 0 1 0 1 0 0 0 1 1 0 0 1 1 1\n",
      " 0 1 1 1 1 0 1 0 1 1 1 1 0 1 1 1 1 0 1 0 0 0 0 0 0 0 0 0 0 0 0 0 1 1 1 1 0\n",
      " 1 0 1 1 0 1 1 1 1 1 1 1 1 1 1 1 1 1 1 0 1 1 1 1 1 1 1 1 1 1 1 0 1 1 1 0 1\n",
      " 1 1 1 0 0 1 1 1 1 0 1 1 0 1 1 1 0 1 1 1 1 0 0 1 1 1 1 1 1 1 0 0 0 1 0 0 1\n",
      " 1 1 1 0 1 1 1 1 0 1 1 1 0 1 1 0 1 1 1 1 0 1 1 1 1 1 1 0 1 1 1 1 0 1 0 1 1\n",
      " 1 1 1 1 1 1 1 1 1 0 1 0 1 0 1 1 1 1 0 1 1 0 1 0 1 0 0 1 1 1 1 1 1 1 0 0 1\n",
      " 1 1 1 1 1 1 1 1 1 1 1 1 0 1 1 1 1 1 1 0 1 1 1 0 1 1 1 1 0 1 0 1 0 1 1 1 0\n",
      " 0 1 0 1 0 1 1 1 0 1 1 1 1 1 1 1 1 1 0 0 0 1 1 1 1 1 1 1 1 1 1 1 1 1 1 1 1\n",
      " 1 1 1 1 1 0 0 0 0 0 0] as keyword args. From version 0.25 passing these as positional arguments will result in an error\n",
      "  warnings.warn(\"Pass {} as keyword args. From version 0.25 \"\n"
     ]
    },
    {
     "name": "stdout",
     "output_type": "stream",
     "text": [
      "Saving fold 1/5 rules extracted...done\n",
      "Evaulating rules extracted from fold 1/5...tree Rules accuracy 0.956140\n",
      "Rules Auc 0.951032\n",
      "done\n"
     ]
    },
    {
     "name": "stderr",
     "output_type": "stream",
     "text": [
      "/Users/zohreh-sh/opt/anaconda3/lib/python3.8/site-packages/sklearn/utils/validation.py:67: FutureWarning: Pass classes=[0 1], y=[0 0 0 0 0 0 0 0 0 0 0 0 0 0 0 0 0 1 1 1 0 0 0 0 0 0 0 0 1 0 0 0 0 0 0 0 0\n",
      " 1 0 1 1 0 1 0 0 1 1 1 0 1 0 0 1 0 1 0 0 1 0 0 0 1 1 0 0 1 1 1 1 1 0 0 1 1\n",
      " 1 0 1 1 1 1 0 1 0 1 1 1 1 1 1 1 0 0 0 1 0 0 1 0 0 1 0 1 0 0 1 0 0 1 1 1 0\n",
      " 1 1 0 1 1 1 1 1 1 1 1 0 0 1 1 0 0 1 1 0 0 1 1 1 1 0 1 1 0 0 0 1 1 1 1 0 1\n",
      " 1 0 1 0 0 0 0 1 0 0 0 0 1 1 0 0 0 0 1 0 0 1 1 0 1 1 1 1 1 0 0 1 1 0 1 1 0\n",
      " 0 1 1 1 0 1 1 1 1 1 0 0 0 0 0 0 0 0 0 0 0 0 1 1 1 1 1 1 0 1 0 1 1 0 1 1 0\n",
      " 1 0 0 1 1 1 1 1 1 1 1 1 0 1 1 0 1 0 1 1 1 1 1 1 1 1 1 1 1 1 0 1 1 1 0 1 0\n",
      " 1 1 1 0 0 1 1 1 0 0 1 0 1 1 1 0 1 1 1 1 0 0 0 1 1 1 1 1 1 1 1 1 0 1 0 0 0\n",
      " 0 0 1 1 1 1 1 1 1 1 1 0 1 1 1 1 0 0 1 1 1 1 1 1 1 1 1 0 1 1 1 1 0 1 1 1 1\n",
      " 1 1 1 1 1 1 0 1 0 0 1 1 1 1 0 1 1 1 0 1 1 0 1 0 1 1 1 1 1 1 1 0 0 1 1 1 1\n",
      " 1 1 0 1 1 1 1 1 1 1 1 0 1 1 1 1 1 0 1 0 1 1 0 1 1 1 1 0 0 1 1 0 1 1 1 1 1\n",
      " 1 1 1 0 1 0 1 1 1 1 1 1 1 1 1 1 1 1 0 1 0 0 1 1 1 1 1 1 1 1 1 1 1 1 1 1 1\n",
      " 1 1 1 1 1 1 0 0 0 0 1] as keyword args. From version 0.25 passing these as positional arguments will result in an error\n",
      "  warnings.warn(\"Pass {} as keyword args. From version 0.25 \"\n"
     ]
    },
    {
     "name": "stdout",
     "output_type": "stream",
     "text": [
      "Saving fold 2/5 rules extracted...done\n",
      "Evaulating rules extracted from fold 2/5...tree Rules accuracy 0.956140\n",
      "Rules Auc 0.965278\n",
      "done\n"
     ]
    },
    {
     "name": "stderr",
     "output_type": "stream",
     "text": [
      "/Users/zohreh-sh/opt/anaconda3/lib/python3.8/site-packages/sklearn/utils/validation.py:67: FutureWarning: Pass classes=[0 1], y=[0 0 0 0 0 0 0 0 0 0 0 0 0 0 1 1 1 0 0 0 0 0 0 0 0 0 0 0 0 0 0 1 0 0 0 0 0\n",
      " 0 0 0 1 0 1 1 1 1 1 0 0 0 1 1 1 1 1 0 1 1 1 0 1 0 0 1 0 1 1 0 0 1 0 0 1 1\n",
      " 0 1 1 0 0 1 1 1 0 1 1 1 1 1 1 0 1 1 1 1 1 0 0 1 0 0 1 1 1 0 0 1 0 1 0 0 1\n",
      " 1 0 1 0 1 1 1 1 1 1 1 1 1 1 1 0 1 1 1 0 0 1 1 1 0 0 1 0 1 1 1 0 1 1 0 0 1\n",
      " 1 0 1 1 0 1 1 0 0 1 0 0 0 0 1 0 1 0 1 1 0 1 0 0 0 1 1 0 1 1 1 0 1 1 1 1 0\n",
      " 0 1 1 0 1 0 1 0 1 1 0 1 1 1 1 0 1 0 0 0 0 0 0 0 0 0 0 0 0 1 1 1 1 0 1 0 1\n",
      " 0 1 1 0 1 0 0 1 1 1 1 1 1 1 1 1 1 1 1 0 1 1 0 1 0 1 1 1 1 1 1 1 1 1 1 1 0\n",
      " 1 0 1 1 1 0 0 1 1 1 1 0 1 0 1 0 1 1 0 1 1 1 1 1 1 0 0 1 1 1 1 1 1 1 1 1 0\n",
      " 0 1 0 0 0 1 0 0 1 1 1 1 0 1 1 1 1 0 1 1 1 0 1 1 0 0 1 1 1 1 1 0 1 1 1 1 1\n",
      " 1 1 1 1 1 1 1 1 0 1 1 1 1 1 1 1 1 0 0 1 0 1 1 1 1 0 1 1 0 1 0 1 0 1 0 1 1\n",
      " 1 1 0 0 1 1 1 1 1 0 1 1 1 1 1 1 1 1 0 1 1 1 1 1 0 1 1 1 1 1 0 0 1 0 1 0 1\n",
      " 1 1 0 1 1 0 1 0 0 1 1 0 1 1 1 1 1 1 1 1 1 0 1 0 0 1 1 1 1 1 1 1 1 1 1 1 1\n",
      " 1 1 1 1 1 1 1 0 0 0 1] as keyword args. From version 0.25 passing these as positional arguments will result in an error\n",
      "  warnings.warn(\"Pass {} as keyword args. From version 0.25 \"\n"
     ]
    },
    {
     "name": "stdout",
     "output_type": "stream",
     "text": [
      "Saving fold 3/5 rules extracted...done\n",
      "Evaulating rules extracted from fold 3/5...tree Rules accuracy 0.956140\n",
      "Rules Auc 0.955357\n",
      "done\n"
     ]
    },
    {
     "name": "stderr",
     "output_type": "stream",
     "text": [
      "/Users/zohreh-sh/opt/anaconda3/lib/python3.8/site-packages/sklearn/utils/validation.py:67: FutureWarning: Pass classes=[0 1], y=[0 0 0 0 0 0 0 0 0 0 0 0 0 0 0 0 1 1 0 0 0 0 0 0 0 0 0 0 0 0 1 0 0 0 0 1 0\n",
      " 1 1 1 1 0 0 1 1 1 1 0 1 0 0 1 1 1 1 0 1 0 0 1 1 0 1 1 1 0 0 0 0 0 1 1 0 0\n",
      " 0 1 1 0 0 1 1 1 0 1 1 0 1 1 1 1 1 1 1 1 0 0 1 0 0 1 1 1 0 0 1 0 1 0 0 1 0\n",
      " 0 1 0 1 1 0 1 1 1 0 1 1 1 1 1 1 1 1 1 0 1 1 1 1 0 0 1 0 0 0 1 1 0 0 1 1 1\n",
      " 0 1 0 0 1 0 1 0 1 1 0 1 1 0 1 0 1 0 0 0 1 0 1 0 1 1 0 1 0 0 0 1 0 1 0 1 1\n",
      " 1 1 0 0 1 1 0 1 1 0 0 1 0 1 1 1 1 1 1 1 1 0 1 0 0 0 0 0 0 0 0 0 0 0 1 1 1\n",
      " 1 1 1 0 1 1 1 1 1 1 0 0 1 1 1 1 1 1 1 1 1 1 1 1 0 1 1 0 0 1 1 1 1 1 1 1 1\n",
      " 1 1 1 0 1 0 1 0 1 1 1 0 0 0 1 1 0 1 0 1 0 1 1 1 1 1 1 1 0 0 1 1 1 1 1 1 1\n",
      " 1 1 1 0 0 1 0 0 1 1 1 1 0 1 1 1 1 0 1 0 1 1 1 1 1 0 1 1 1 1 0 1 1 0 1 1 0\n",
      " 1 1 1 1 1 1 1 1 1 1 1 0 1 0 0 0 1 1 1 1 1 1 0 0 1 1 1 1 1 1 1 1 1 1 0 1 1\n",
      " 1 1 1 1 0 1 1 1 1 1 1 1 0 1 1 1 1 1 1 0 1 0 0 1 1 1 1 0 0 1 0 1 1 1 1 0 1\n",
      " 1 0 1 0 1 0 0 1 1 0 1 1 1 1 1 1 1 1 1 0 1 0 1 1 1 1 1 1 1 1 1 1 1 1 1 1 1\n",
      " 1 1 1 1 1 0 0 0 0 0 0 1] as keyword args. From version 0.25 passing these as positional arguments will result in an error\n",
      "  warnings.warn(\"Pass {} as keyword args. From version 0.25 \"\n"
     ]
    },
    {
     "name": "stdout",
     "output_type": "stream",
     "text": [
      "Saving fold 4/5 rules extracted...done\n",
      "Evaulating rules extracted from fold 4/5...tree Rules accuracy 0.964602\n",
      "Rules Auc 0.962106\n",
      "done\n"
     ]
    }
   ],
   "source": [
    "cross_validated_rem_t(X, y, extract_evaluate_rules_flag=True, DT=False)"
   ]
  },
  {
   "cell_type": "code",
   "execution_count": 18,
   "metadata": {},
   "outputs": [
    {
     "name": "stdout",
     "output_type": "stream",
     "text": [
      "+---------+--------+--------+-----------+--------------+\n",
      "|   fold  | re_acc | re_auc | rules_num | rules_av_len |\n",
      "+---------+--------+--------+-----------+--------------+\n",
      "|   0.0   | 0.939  | 0.923  |   409.0   |    4.892     |\n",
      "|   1.0   | 0.956  | 0.951  |   417.0   |    4.799     |\n",
      "|   2.0   | 0.956  | 0.965  |   443.0   |    4.921     |\n",
      "|   3.0   | 0.956  | 0.955  |   395.0   |    4.673     |\n",
      "|   4.0   | 0.965  | 0.962  |   439.0   |    4.845     |\n",
      "| average | 0.954  | 0.951  |   420.6   |    4.826     |\n",
      "+---------+--------+--------+-----------+--------------+\n"
     ]
    }
   ],
   "source": [
    "with open(N_FOLD_RESULTS_RF_FP, \"r\") as fp: \n",
    "    x = from_csv(fp)\n",
    "    \n",
    "print(x)"
   ]
  },
  {
   "cell_type": "code",
   "execution_count": null,
   "metadata": {},
   "outputs": [],
   "source": [
    " "
   ]
  }
 ],
 "metadata": {
  "kernelspec": {
   "display_name": "Python 3",
   "language": "python",
   "name": "python3"
  },
  "language_info": {
   "codemirror_mode": {
    "name": "ipython",
    "version": 3
   },
   "file_extension": ".py",
   "mimetype": "text/x-python",
   "name": "python",
   "nbconvert_exporter": "python",
   "pygments_lexer": "ipython3",
   "version": "3.8.5"
  }
 },
 "nbformat": 4,
 "nbformat_minor": 4
}
