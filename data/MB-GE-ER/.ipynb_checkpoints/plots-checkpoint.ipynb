{
 "cells": [
  {
   "cell_type": "code",
   "execution_count": 1,
   "metadata": {},
   "outputs": [],
   "source": [
    "import pandas as pd\n",
    "import matplotlib.pyplot as plt"
   ]
  },
  {
   "cell_type": "code",
   "execution_count": 2,
   "metadata": {},
   "outputs": [],
   "source": [
    "result_df_2 = pd.read_csv(\"cross_validation/10_folds/rule_extraction/MOD_DeepRED_C5/results.csv\")"
   ]
  },
  {
   "cell_type": "code",
   "execution_count": 3,
   "metadata": {},
   "outputs": [],
   "source": [
    "rules_num_minCase_2 = result_df_2[\"rules_num\"].values"
   ]
  },
  {
   "cell_type": "code",
   "execution_count": 4,
   "metadata": {},
   "outputs": [],
   "source": [
    "rules_av_len_minCase_2 = result_df_2[\"rules_av_len\"].values"
   ]
  },
  {
   "cell_type": "code",
   "execution_count": 5,
   "metadata": {},
   "outputs": [],
   "source": [
    "result_df_10 = pd.read_csv(\"cross_validation/10_folds/rule_extraction/MOD_DeepRED_C5/minCase10/results.csv\")"
   ]
  },
  {
   "cell_type": "code",
   "execution_count": 6,
   "metadata": {},
   "outputs": [],
   "source": [
    "rules_num_minCase_10 = result_df_10[\"rules_num\"].values"
   ]
  },
  {
   "cell_type": "code",
   "execution_count": 7,
   "metadata": {},
   "outputs": [],
   "source": [
    "rules_av_len_minCase_10 = result_df_10[\"rules_av_len\"].values"
   ]
  },
  {
   "cell_type": "code",
   "execution_count": 8,
   "metadata": {},
   "outputs": [
    {
     "data": {
      "image/png": "[encoded data removed]",
      "text/plain": [
       "<Figure size 432x288 with 1 Axes>"
      ]
     },
     "metadata": {
      "needs_background": "light"
     },
     "output_type": "display_data"
    }
   ],
   "source": [
    "plt.scatter(rules_num_minCase_2, rules_av_len_minCase_2, color='blue')\n",
    "plt.xlabel('Number of rules')\n",
    "plt.ylabel('Average length of rules')\n",
    "plt.savefig('plots/rule-n-vs-len-mb-ge-er.pdf')"
   ]
  },
  {
   "cell_type": "code",
   "execution_count": 9,
   "metadata": {},
   "outputs": [
    {
     "data": {
      "image/png": "[encoded data removed]",
      "text/plain": [
       "<Figure size 432x288 with 1 Axes>"
      ]
     },
     "metadata": {
      "needs_background": "light"
     },
     "output_type": "display_data"
    }
   ],
   "source": [
    "plt.scatter(rules_num_minCase_10, rules_av_len_minCase_10, color='red')\n",
    "plt.xlabel('Number of rules')\n",
    "plt.ylabel('Average length of rules')\n",
    "plt.savefig('plots/rule-n-vs-len-mb-ge-er-min10.pdf')"
   ]
  },
  {
   "cell_type": "code",
   "execution_count": 10,
   "metadata": {},
   "outputs": [
    {
     "data": {
      "image/png": "[encoded data removed]",
      "text/plain": [
       "<Figure size 432x288 with 1 Axes>"
      ]
     },
     "metadata": {
      "needs_background": "light"
     },
     "output_type": "display_data"
    }
   ],
   "source": [
    "plt.scatter(rules_num_minCase_2, rules_av_len_minCase_2, color='blue')\n",
    "plt.scatter(rules_num_minCase_10, rules_av_len_minCase_10, color='red')\n",
    "plt.xlabel('Number of rules')\n",
    "plt.ylabel('Average length of rules')\n",
    "plt.savefig('plots/rule-n-vs-len-mb-ge-er-min2v10.pdf')"
   ]
  },
  {
   "cell_type": "code",
   "execution_count": 11,
   "metadata": {},
   "outputs": [],
   "source": [
    "nn_acc_av = result_df_2[\"nn_acc\"].mean()\n",
    "re_acc_min2_av = result_df_2[\"re_acc\"].mean()\n",
    "re_acc_min10_av = result_df_10[\"re_acc\"].mean()\n",
    "re_fid_min2_av = result_df_2[\"re_fid\"].mean()\n",
    "re_fid_min10_av = result_df_10[\"re_fid\"].mean()\n",
    "re_rules_num_min2_av = result_df_2[\"rules_num\"].mean()\n",
    "re_rules_num_min10_av = result_df_10[\"rules_num\"].mean()\n",
    "re_rules_av_len_min2_av = result_df_2[\"rules_av_len\"].mean()\n",
    "re_rules_av_len_min10_av = result_df_10[\"rules_av_len\"].mean()"
   ]
  },
  {
   "cell_type": "code",
   "execution_count": 12,
   "metadata": {},
   "outputs": [
    {
     "data": {
      "text/html": [
       "<div>\n",
       "<style scoped>\n",
       "    .dataframe tbody tr th:only-of-type {\n",
       "        vertical-align: middle;\n",
       "    }\n",
       "\n",
       "    .dataframe tbody tr th {\n",
       "        vertical-align: top;\n",
       "    }\n",
       "\n",
       "    .dataframe thead th {\n",
       "        text-align: right;\n",
       "    }\n",
       "</style>\n",
       "<table border=\"1\" class=\"dataframe\">\n",
       "  <thead>\n",
       "    <tr style=\"text-align: right;\">\n",
       "      <th></th>\n",
       "      <th>nn_acc</th>\n",
       "      <th>re_acc_min2</th>\n",
       "      <th>re_acc_min10</th>\n",
       "      <th>re_fid_min2</th>\n",
       "      <th>re_fid_min10</th>\n",
       "      <th>re_rules_num_min2</th>\n",
       "      <th>re_rules_num_min10</th>\n",
       "      <th>re_rules_av_len_min2</th>\n",
       "      <th>re_rules_av_len_min10</th>\n",
       "    </tr>\n",
       "  </thead>\n",
       "  <tbody>\n",
       "    <tr>\n",
       "      <th>0</th>\n",
       "      <td>0.96</td>\n",
       "      <td>0.934</td>\n",
       "      <td>0.935</td>\n",
       "      <td>0.944</td>\n",
       "      <td>0.943</td>\n",
       "      <td>2708.2</td>\n",
       "      <td>155.8</td>\n",
       "      <td>7.754</td>\n",
       "      <td>4.608</td>\n",
       "    </tr>\n",
       "  </tbody>\n",
       "</table>\n",
       "</div>"
      ],
      "text/plain": [
       "   nn_acc  re_acc_min2  re_acc_min10   re_fid_min2  re_fid_min10  \\\n",
       "0    0.96        0.934          0.935        0.944         0.943   \n",
       "\n",
       "   re_rules_num_min2  re_rules_num_min10  re_rules_av_len_min2  \\\n",
       "0             2708.2               155.8                 7.754   \n",
       "\n",
       "   re_rules_av_len_min10  \n",
       "0                  4.608  "
      ]
     },
     "execution_count": 12,
     "metadata": {},
     "output_type": "execute_result"
    }
   ],
   "source": [
    "data = {'nn_acc':[nn_acc_av], 're_acc_min2':[re_acc_min2_av], 're_acc_min10 ':[re_acc_min10_av], \n",
    "        're_fid_min2':[re_fid_min2_av], 're_fid_min10':[re_fid_min10_av], \n",
    "        're_rules_num_min2':[re_rules_num_min2_av], 're_rules_num_min10':[re_rules_num_min10_av],\n",
    "       're_rules_av_len_min2':[re_rules_av_len_min2_av], 're_rules_av_len_min10':[re_rules_av_len_min10_av]} \n",
    "  \n",
    "df = pd.DataFrame(data)  \n",
    "df.round(3)"
   ]
  },
  {
   "cell_type": "code",
   "execution_count": 13,
   "metadata": {},
   "outputs": [],
   "source": [
    "pedag_result_df_2 = pd.read_csv(\"cross_validation/10_folds/rule_extraction/Pedagogical/results.csv\")"
   ]
  },
  {
   "cell_type": "code",
   "execution_count": 14,
   "metadata": {},
   "outputs": [],
   "source": [
    "pedag_result_df_10 = pd.read_csv(\"cross_validation/10_folds/rule_extraction/Pedagogical/minCase10/results.csv\")"
   ]
  },
  {
   "cell_type": "code",
   "execution_count": 15,
   "metadata": {},
   "outputs": [],
   "source": [
    "pedag_nn_acc_av = pedag_result_df_2[\"nn_acc\"].mean()\n",
    "pedag_re_acc_min2_av = pedag_result_df_2[\"re_acc\"].mean()\n",
    "pedag_re_acc_min10_av = pedag_result_df_10[\"re_acc\"].mean()\n",
    "pedag_re_fid_min2_av = pedag_result_df_2[\"re_fid\"].mean()\n",
    "pedag_re_fid_min10_av = pedag_result_df_10[\"re_fid\"].mean()\n",
    "pedag_re_rules_num_min2_av = pedag_result_df_2[\"rules_num\"].mean()\n",
    "pedag_re_rules_num_min10_av = pedag_result_df_10[\"rules_num\"].mean()\n",
    "pedag_re_rules_av_len_min2_av = pedag_result_df_2[\"rules_av_len\"].mean()\n",
    "pedag_re_rules_av_len_min10_av = pedag_result_df_10[\"rules_av_len\"].mean()"
   ]
  },
  {
   "cell_type": "code",
   "execution_count": 20,
   "metadata": {},
   "outputs": [
    {
     "data": {
      "text/html": [
       "<div>\n",
       "<style scoped>\n",
       "    .dataframe tbody tr th:only-of-type {\n",
       "        vertical-align: middle;\n",
       "    }\n",
       "\n",
       "    .dataframe tbody tr th {\n",
       "        vertical-align: top;\n",
       "    }\n",
       "\n",
       "    .dataframe thead th {\n",
       "        text-align: right;\n",
       "    }\n",
       "</style>\n",
       "<table border=\"1\" class=\"dataframe\">\n",
       "  <thead>\n",
       "    <tr style=\"text-align: right;\">\n",
       "      <th></th>\n",
       "      <th>nn</th>\n",
       "      <th>decomp_min2</th>\n",
       "      <th>pedag_min2</th>\n",
       "      <th>decomp_min10</th>\n",
       "      <th>pedag_min10</th>\n",
       "    </tr>\n",
       "  </thead>\n",
       "  <tbody>\n",
       "    <tr>\n",
       "      <th>0</th>\n",
       "      <td>0.96</td>\n",
       "      <td>0.934</td>\n",
       "      <td>0.926</td>\n",
       "      <td>0.935</td>\n",
       "      <td>0.915</td>\n",
       "    </tr>\n",
       "  </tbody>\n",
       "</table>\n",
       "</div>"
      ],
      "text/plain": [
       "     nn  decomp_min2  pedag_min2  decomp_min10  pedag_min10\n",
       "0  0.96        0.934       0.926         0.935        0.915"
      ]
     },
     "execution_count": 20,
     "metadata": {},
     "output_type": "execute_result"
    }
   ],
   "source": [
    "data_acc = {'nn':[nn_acc_av], 'decomp_min2':[re_acc_min2_av], 'pedag_min2':[pedag_re_acc_min2_av],\n",
    "        'decomp_min10':[re_acc_min10_av], 'pedag_min10':[pedag_re_acc_min10_av]} \n",
    "\n",
    "df = pd.DataFrame(data_acc)  \n",
    "df.round(3)"
   ]
  },
  {
   "cell_type": "code",
   "execution_count": 21,
   "metadata": {},
   "outputs": [
    {
     "data": {
      "text/html": [
       "<div>\n",
       "<style scoped>\n",
       "    .dataframe tbody tr th:only-of-type {\n",
       "        vertical-align: middle;\n",
       "    }\n",
       "\n",
       "    .dataframe tbody tr th {\n",
       "        vertical-align: top;\n",
       "    }\n",
       "\n",
       "    .dataframe thead th {\n",
       "        text-align: right;\n",
       "    }\n",
       "</style>\n",
       "<table border=\"1\" class=\"dataframe\">\n",
       "  <thead>\n",
       "    <tr style=\"text-align: right;\">\n",
       "      <th></th>\n",
       "      <th>decomp_min2</th>\n",
       "      <th>pedag_min2</th>\n",
       "      <th>decomp_min10</th>\n",
       "      <th>pedag_min10</th>\n",
       "    </tr>\n",
       "  </thead>\n",
       "  <tbody>\n",
       "    <tr>\n",
       "      <th>0</th>\n",
       "      <td>0.944</td>\n",
       "      <td>0.934</td>\n",
       "      <td>0.943</td>\n",
       "      <td>0.924</td>\n",
       "    </tr>\n",
       "  </tbody>\n",
       "</table>\n",
       "</div>"
      ],
      "text/plain": [
       "   decomp_min2  pedag_min2  decomp_min10  pedag_min10\n",
       "0        0.944       0.934         0.943        0.924"
      ]
     },
     "execution_count": 21,
     "metadata": {},
     "output_type": "execute_result"
    }
   ],
   "source": [
    "data_fid = {'decomp_min2':[re_fid_min2_av], 'pedag_min2':[pedag_re_fid_min2_av],\n",
    "        'decomp_min10':[re_fid_min10_av], 'pedag_min10':[pedag_re_fid_min10_av]} \n",
    "\n",
    "df = pd.DataFrame(data_fid)  \n",
    "df.round(3)"
   ]
  },
  {
   "cell_type": "code",
   "execution_count": 22,
   "metadata": {},
   "outputs": [
    {
     "data": {
      "text/html": [
       "<div>\n",
       "<style scoped>\n",
       "    .dataframe tbody tr th:only-of-type {\n",
       "        vertical-align: middle;\n",
       "    }\n",
       "\n",
       "    .dataframe tbody tr th {\n",
       "        vertical-align: top;\n",
       "    }\n",
       "\n",
       "    .dataframe thead th {\n",
       "        text-align: right;\n",
       "    }\n",
       "</style>\n",
       "<table border=\"1\" class=\"dataframe\">\n",
       "  <thead>\n",
       "    <tr style=\"text-align: right;\">\n",
       "      <th></th>\n",
       "      <th>decomp_min2</th>\n",
       "      <th>pedag_min2</th>\n",
       "      <th>decomp_min10</th>\n",
       "      <th>pedag_min10</th>\n",
       "    </tr>\n",
       "  </thead>\n",
       "  <tbody>\n",
       "    <tr>\n",
       "      <th>0</th>\n",
       "      <td>2708.2</td>\n",
       "      <td>18.5</td>\n",
       "      <td>155.8</td>\n",
       "      <td>10.8</td>\n",
       "    </tr>\n",
       "  </tbody>\n",
       "</table>\n",
       "</div>"
      ],
      "text/plain": [
       "   decomp_min2  pedag_min2  decomp_min10  pedag_min10\n",
       "0       2708.2        18.5         155.8         10.8"
      ]
     },
     "execution_count": 22,
     "metadata": {},
     "output_type": "execute_result"
    }
   ],
   "source": [
    "data_rules_num = {'decomp_min2':[re_rules_num_min2_av], 'pedag_min2':[pedag_re_rules_num_min2_av],\n",
    "        'decomp_min10':[re_rules_num_min10_av], 'pedag_min10':[pedag_re_rules_num_min10_av]} \n",
    "\n",
    "df = pd.DataFrame(data_rules_num)  \n",
    "df.round(3)"
   ]
  },
  {
   "cell_type": "code",
   "execution_count": 24,
   "metadata": {},
   "outputs": [
    {
     "data": {
      "text/html": [
       "<div>\n",
       "<style scoped>\n",
       "    .dataframe tbody tr th:only-of-type {\n",
       "        vertical-align: middle;\n",
       "    }\n",
       "\n",
       "    .dataframe tbody tr th {\n",
       "        vertical-align: top;\n",
       "    }\n",
       "\n",
       "    .dataframe thead th {\n",
       "        text-align: right;\n",
       "    }\n",
       "</style>\n",
       "<table border=\"1\" class=\"dataframe\">\n",
       "  <thead>\n",
       "    <tr style=\"text-align: right;\">\n",
       "      <th></th>\n",
       "      <th>decomp_min2</th>\n",
       "      <th>pedag_min2</th>\n",
       "      <th>decomp_min10</th>\n",
       "      <th>pedag_min10</th>\n",
       "    </tr>\n",
       "  </thead>\n",
       "  <tbody>\n",
       "    <tr>\n",
       "      <th>0</th>\n",
       "      <td>7.754</td>\n",
       "      <td>3.298</td>\n",
       "      <td>4.608</td>\n",
       "      <td>2.485</td>\n",
       "    </tr>\n",
       "  </tbody>\n",
       "</table>\n",
       "</div>"
      ],
      "text/plain": [
       "   decomp_min2  pedag_min2  decomp_min10  pedag_min10\n",
       "0        7.754       3.298         4.608        2.485"
      ]
     },
     "execution_count": 24,
     "metadata": {},
     "output_type": "execute_result"
    }
   ],
   "source": [
    "data_rules_av_len = {'decomp_min2':[re_rules_av_len_min2_av], 'pedag_min2':[pedag_re_rules_av_len_min2_av],\n",
    "        'decomp_min10':[re_rules_av_len_min10_av], 'pedag_min10':[pedag_re_rules_av_len_min10_av]} \n",
    "\n",
    "df = pd.DataFrame(data_rules_av_len)  \n",
    "df.round(3)"
   ]
  },
  {
   "cell_type": "code",
   "execution_count": 18,
   "metadata": {},
   "outputs": [
    {
     "name": "stdout",
     "output_type": "stream",
     "text": [
      "Accuracy: 0.8838383838383839\n"
     ]
    }
   ],
   "source": [
    "# Load libraries\n",
    "import pandas as pd\n",
    "from sklearn.tree import DecisionTreeClassifier # Import Decision Tree Classifier\n",
    "from sklearn.model_selection import train_test_split # Import train_test_split function\n",
    "from sklearn import metrics #Import scikit-learn metrics module for accuracy calculation\n",
    "\n",
    "data_df = pd.read_csv(\"data.csv\")\n",
    "\n",
    "X = data_df.iloc[:, 0:1000].values\n",
    "y = data_df.iloc[:, 1000:1001].values\n",
    "\n",
    "\n",
    "X_train, X_test, y_train, y_test = train_test_split(X, y, test_size=0.3, random_state=1)\n",
    "\n",
    "# Create Decision Tree classifer object\n",
    "clf = DecisionTreeClassifier()\n",
    "\n",
    "# Train Decision Tree Classifer\n",
    "clf = clf.fit(X_train,y_train)\n",
    "\n",
    "#Predict the response for test dataset\n",
    "y_pred = clf.predict(X_test)\n",
    "\n",
    "print(\"Accuracy:\",metrics.accuracy_score(y_test, y_pred))"
   ]
  },
  {
   "cell_type": "code",
   "execution_count": null,
   "metadata": {},
   "outputs": [],
   "source": []
  },
  {
   "cell_type": "code",
   "execution_count": null,
   "metadata": {},
   "outputs": [],
   "source": []
  }
 ],
 "metadata": {
  "kernelspec": {
   "display_name": "Python 3",
   "language": "python",
   "name": "python3"
  },
  "language_info": {
   "codemirror_mode": {
    "name": "ipython",
    "version": 3
   },
   "file_extension": ".py",
   "mimetype": "text/x-python",
   "name": "python",
   "nbconvert_exporter": "python",
   "pygments_lexer": "ipython3",
   "version": "3.7.0"
  }
 },
 "nbformat": 4,
 "nbformat_minor": 2
}
