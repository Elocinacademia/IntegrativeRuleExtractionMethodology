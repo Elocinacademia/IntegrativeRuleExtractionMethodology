{
 "cells": [
  {
   "cell_type": "code",
   "execution_count": 2,
   "metadata": {},
   "outputs": [],
   "source": [
    "import pandas as pd"
   ]
  },
  {
   "cell_type": "code",
   "execution_count": 16,
   "metadata": {},
   "outputs": [],
   "source": [
    "import sys\n",
    "sys.path.append(\"../../DNN-RE/src\")"
   ]
  },
  {
   "cell_type": "code",
   "execution_count": 8,
   "metadata": {},
   "outputs": [],
   "source": [
    "dataset_name = 'TCGA-PANCAN'\n",
    "target_col_name = 'TCGA'\n",
    "\n",
    "RAW_DATA_PATH = 'raw_data/TCGA-PANCAN.csv'"
   ]
  },
  {
   "cell_type": "markdown",
   "metadata": {},
   "source": [
    "# TCGA-PANCAN Data Set\n",
    "- **Input:** 20502 gene expression \n",
    "- **Output:** Classification, BRCA (300), KIRC (146), LUAD (141), PRAD (136), COAD (78).\n",
    "\n",
    "## Preprocess Data"
   ]
  },
  {
   "cell_type": "code",
   "execution_count": 7,
   "metadata": {},
   "outputs": [
    {
     "data": {
      "text/html": [
       "<div>\n",
       "<style scoped>\n",
       "    .dataframe tbody tr th:only-of-type {\n",
       "        vertical-align: middle;\n",
       "    }\n",
       "\n",
       "    .dataframe tbody tr th {\n",
       "        vertical-align: top;\n",
       "    }\n",
       "\n",
       "    .dataframe thead th {\n",
       "        text-align: right;\n",
       "    }\n",
       "</style>\n",
       "<table border=\"1\" class=\"dataframe\">\n",
       "  <thead>\n",
       "    <tr style=\"text-align: right;\">\n",
       "      <th></th>\n",
       "      <th>GE_C6ORF125</th>\n",
       "      <th>GE_C6ORF124</th>\n",
       "      <th>GE_C6ORF127</th>\n",
       "      <th>GE_C6ORF126</th>\n",
       "      <th>GE_RNF10</th>\n",
       "      <th>GE_C6ORF120</th>\n",
       "      <th>GE_C6ORF123</th>\n",
       "      <th>GE_C6ORF122</th>\n",
       "      <th>GE_GTF2IP1</th>\n",
       "      <th>GE_REM1</th>\n",
       "      <th>...</th>\n",
       "      <th>GE_NPY5R</th>\n",
       "      <th>GE_GNGT2</th>\n",
       "      <th>GE_GNGT1</th>\n",
       "      <th>GE_TULP3</th>\n",
       "      <th>GE_PTRF</th>\n",
       "      <th>GE_BCL6B</th>\n",
       "      <th>GE_GSTK1</th>\n",
       "      <th>GE_SELP</th>\n",
       "      <th>GE_SELS</th>\n",
       "      <th>TCGA</th>\n",
       "    </tr>\n",
       "  </thead>\n",
       "  <tbody>\n",
       "    <tr>\n",
       "      <th>0</th>\n",
       "      <td>10.795139</td>\n",
       "      <td>5.064279</td>\n",
       "      <td>1.010279</td>\n",
       "      <td>1.598651</td>\n",
       "      <td>11.581064</td>\n",
       "      <td>9.405622</td>\n",
       "      <td>2.185898</td>\n",
       "      <td>3.478079</td>\n",
       "      <td>12.622386</td>\n",
       "      <td>7.031572</td>\n",
       "      <td>...</td>\n",
       "      <td>1.334282</td>\n",
       "      <td>5.042242</td>\n",
       "      <td>0.0</td>\n",
       "      <td>8.582691</td>\n",
       "      <td>13.711968</td>\n",
       "      <td>8.638834</td>\n",
       "      <td>11.139436</td>\n",
       "      <td>8.958570</td>\n",
       "      <td>11.497238</td>\n",
       "      <td>PRAD</td>\n",
       "    </tr>\n",
       "    <tr>\n",
       "      <th>1</th>\n",
       "      <td>10.473320</td>\n",
       "      <td>3.593007</td>\n",
       "      <td>0.000000</td>\n",
       "      <td>0.000000</td>\n",
       "      <td>11.783248</td>\n",
       "      <td>9.017212</td>\n",
       "      <td>0.811142</td>\n",
       "      <td>2.094168</td>\n",
       "      <td>12.768244</td>\n",
       "      <td>1.706508</td>\n",
       "      <td>...</td>\n",
       "      <td>0.000000</td>\n",
       "      <td>5.783399</td>\n",
       "      <td>0.0</td>\n",
       "      <td>9.576717</td>\n",
       "      <td>10.556142</td>\n",
       "      <td>7.965842</td>\n",
       "      <td>11.715482</td>\n",
       "      <td>5.673935</td>\n",
       "      <td>9.618864</td>\n",
       "      <td>LUAD</td>\n",
       "    </tr>\n",
       "  </tbody>\n",
       "</table>\n",
       "<p>2 rows × 20503 columns</p>\n",
       "</div>"
      ],
      "text/plain": [
       "   GE_C6ORF125  GE_C6ORF124  GE_C6ORF127  GE_C6ORF126   GE_RNF10  GE_C6ORF120  \\\n",
       "0    10.795139     5.064279     1.010279     1.598651  11.581064     9.405622   \n",
       "1    10.473320     3.593007     0.000000     0.000000  11.783248     9.017212   \n",
       "\n",
       "   GE_C6ORF123  GE_C6ORF122  GE_GTF2IP1   GE_REM1  ...   GE_NPY5R  GE_GNGT2  \\\n",
       "0     2.185898     3.478079   12.622386  7.031572  ...   1.334282  5.042242   \n",
       "1     0.811142     2.094168   12.768244  1.706508  ...   0.000000  5.783399   \n",
       "\n",
       "   GE_GNGT1  GE_TULP3    GE_PTRF  GE_BCL6B   GE_GSTK1   GE_SELP    GE_SELS  \\\n",
       "0       0.0  8.582691  13.711968  8.638834  11.139436  8.958570  11.497238   \n",
       "1       0.0  9.576717  10.556142  7.965842  11.715482  5.673935   9.618864   \n",
       "\n",
       "   TCGA  \n",
       "0  PRAD  \n",
       "1  LUAD  \n",
       "\n",
       "[2 rows x 20503 columns]"
      ]
     },
     "execution_count": 7,
     "metadata": {},
     "output_type": "execute_result"
    }
   ],
   "source": [
    "raw_data = pd.read_csv(RAW_DATA_PATH)\n",
    "raw_data.drop(columns=[raw_data.columns[0]], inplace=True)\n",
    "raw_data.head(2)"
   ]
  },
  {
   "cell_type": "code",
   "execution_count": 9,
   "metadata": {},
   "outputs": [],
   "source": [
    "# List of input features\n",
    "feature_col_names = list(raw_data.columns)\n",
    "feature_col_names.remove(target_col_name)"
   ]
  },
  {
   "cell_type": "code",
   "execution_count": 10,
   "metadata": {},
   "outputs": [],
   "source": [
    "# Encode target data\n",
    "# class_0 = 'BRCA'\n",
    "# class_1 = 'KIRC'\n",
    "# class_2 ='LUAD'\n",
    "# class_3 = 'PRAD'\n",
    "# class_4 = 'COAD'\n",
    "raw_data[target_col_name].replace({'BRCA':0, 'KIRC':1, 'LUAD':2, 'PRAD':3, 'COAD':4}, inplace=True)"
   ]
  },
  {
   "cell_type": "code",
   "execution_count": 11,
   "metadata": {},
   "outputs": [],
   "source": [
    "# Seperate input features and target column\n",
    "X = raw_data.drop(columns=[target_col_name]).values  \n",
    "y = raw_data[target_col_name].values"
   ]
  },
  {
   "cell_type": "code",
   "execution_count": 12,
   "metadata": {},
   "outputs": [],
   "source": [
    "# Normalise input features i.e. scale attributes so that theyre 0-1 so that larger weights do not carry more signifcance in the network\n",
    "from sklearn.preprocessing import MinMaxScaler\n",
    "scaler = MinMaxScaler() \n",
    "X = scaler.fit_transform(X)"
   ]
  },
  {
   "cell_type": "code",
   "execution_count": 13,
   "metadata": {},
   "outputs": [
    {
     "data": {
      "text/html": [
       "<div>\n",
       "<style scoped>\n",
       "    .dataframe tbody tr th:only-of-type {\n",
       "        vertical-align: middle;\n",
       "    }\n",
       "\n",
       "    .dataframe tbody tr th {\n",
       "        vertical-align: top;\n",
       "    }\n",
       "\n",
       "    .dataframe thead th {\n",
       "        text-align: right;\n",
       "    }\n",
       "</style>\n",
       "<table border=\"1\" class=\"dataframe\">\n",
       "  <thead>\n",
       "    <tr style=\"text-align: right;\">\n",
       "      <th></th>\n",
       "      <th>GE_C6ORF125</th>\n",
       "      <th>GE_C6ORF124</th>\n",
       "      <th>GE_C6ORF127</th>\n",
       "      <th>GE_C6ORF126</th>\n",
       "      <th>GE_RNF10</th>\n",
       "      <th>GE_C6ORF120</th>\n",
       "      <th>GE_C6ORF123</th>\n",
       "      <th>GE_C6ORF122</th>\n",
       "      <th>GE_GTF2IP1</th>\n",
       "      <th>GE_REM1</th>\n",
       "      <th>...</th>\n",
       "      <th>GE_NPY5R</th>\n",
       "      <th>GE_GNGT2</th>\n",
       "      <th>GE_GNGT1</th>\n",
       "      <th>GE_TULP3</th>\n",
       "      <th>GE_PTRF</th>\n",
       "      <th>GE_BCL6B</th>\n",
       "      <th>GE_GSTK1</th>\n",
       "      <th>GE_SELP</th>\n",
       "      <th>GE_SELS</th>\n",
       "      <th>TCGA</th>\n",
       "    </tr>\n",
       "  </thead>\n",
       "  <tbody>\n",
       "    <tr>\n",
       "      <th>0</th>\n",
       "      <td>0.563625</td>\n",
       "      <td>0.613903</td>\n",
       "      <td>0.106702</td>\n",
       "      <td>0.191891</td>\n",
       "      <td>0.430613</td>\n",
       "      <td>0.830208</td>\n",
       "      <td>0.222853</td>\n",
       "      <td>0.528681</td>\n",
       "      <td>0.555251</td>\n",
       "      <td>0.739136</td>\n",
       "      <td>...</td>\n",
       "      <td>0.117458</td>\n",
       "      <td>0.537542</td>\n",
       "      <td>0.0</td>\n",
       "      <td>0.254679</td>\n",
       "      <td>0.810155</td>\n",
       "      <td>0.574122</td>\n",
       "      <td>0.673146</td>\n",
       "      <td>0.848337</td>\n",
       "      <td>0.646996</td>\n",
       "      <td>3</td>\n",
       "    </tr>\n",
       "    <tr>\n",
       "      <th>1</th>\n",
       "      <td>0.514822</td>\n",
       "      <td>0.435552</td>\n",
       "      <td>0.000000</td>\n",
       "      <td>0.000000</td>\n",
       "      <td>0.502248</td>\n",
       "      <td>0.795924</td>\n",
       "      <td>0.082696</td>\n",
       "      <td>0.318321</td>\n",
       "      <td>0.600241</td>\n",
       "      <td>0.179383</td>\n",
       "      <td>...</td>\n",
       "      <td>0.000000</td>\n",
       "      <td>0.629735</td>\n",
       "      <td>0.0</td>\n",
       "      <td>0.508068</td>\n",
       "      <td>0.416198</td>\n",
       "      <td>0.496600</td>\n",
       "      <td>0.751673</td>\n",
       "      <td>0.537296</td>\n",
       "      <td>0.179977</td>\n",
       "      <td>2</td>\n",
       "    </tr>\n",
       "    <tr>\n",
       "      <th>2</th>\n",
       "      <td>0.524747</td>\n",
       "      <td>0.859935</td>\n",
       "      <td>0.000000</td>\n",
       "      <td>0.000000</td>\n",
       "      <td>0.445552</td>\n",
       "      <td>0.903406</td>\n",
       "      <td>0.046142</td>\n",
       "      <td>0.229094</td>\n",
       "      <td>0.385349</td>\n",
       "      <td>0.300723</td>\n",
       "      <td>...</td>\n",
       "      <td>0.000000</td>\n",
       "      <td>0.187482</td>\n",
       "      <td>0.0</td>\n",
       "      <td>0.581856</td>\n",
       "      <td>0.216179</td>\n",
       "      <td>0.303846</td>\n",
       "      <td>0.000000</td>\n",
       "      <td>0.270909</td>\n",
       "      <td>0.236619</td>\n",
       "      <td>3</td>\n",
       "    </tr>\n",
       "  </tbody>\n",
       "</table>\n",
       "<p>3 rows × 20503 columns</p>\n",
       "</div>"
      ],
      "text/plain": [
       "   GE_C6ORF125  GE_C6ORF124  GE_C6ORF127  GE_C6ORF126  GE_RNF10  GE_C6ORF120  \\\n",
       "0     0.563625     0.613903     0.106702     0.191891  0.430613     0.830208   \n",
       "1     0.514822     0.435552     0.000000     0.000000  0.502248     0.795924   \n",
       "2     0.524747     0.859935     0.000000     0.000000  0.445552     0.903406   \n",
       "\n",
       "   GE_C6ORF123  GE_C6ORF122  GE_GTF2IP1   GE_REM1  ...   GE_NPY5R  GE_GNGT2  \\\n",
       "0     0.222853     0.528681    0.555251  0.739136  ...   0.117458  0.537542   \n",
       "1     0.082696     0.318321    0.600241  0.179383  ...   0.000000  0.629735   \n",
       "2     0.046142     0.229094    0.385349  0.300723  ...   0.000000  0.187482   \n",
       "\n",
       "   GE_GNGT1  GE_TULP3   GE_PTRF  GE_BCL6B  GE_GSTK1   GE_SELP   GE_SELS  TCGA  \n",
       "0       0.0  0.254679  0.810155  0.574122  0.673146  0.848337  0.646996     3  \n",
       "1       0.0  0.508068  0.416198  0.496600  0.751673  0.537296  0.179977     2  \n",
       "2       0.0  0.581856  0.216179  0.303846  0.000000  0.270909  0.236619     3  \n",
       "\n",
       "[3 rows x 20503 columns]"
      ]
     },
     "execution_count": 13,
     "metadata": {},
     "output_type": "execute_result"
    }
   ],
   "source": [
    "# Store preprocessed data\n",
    "data = pd.DataFrame(X, columns=feature_col_names)\n",
    "data[target_col_name] = y\n",
    "data.head(3)"
   ]
  },
  {
   "cell_type": "code",
   "execution_count": 14,
   "metadata": {},
   "outputs": [],
   "source": [
    "assert data.columns[-1]==target_col_name, 'Target column must be last column in DataFrame'"
   ]
  },
  {
   "cell_type": "markdown",
   "metadata": {},
   "source": [
    "# Save Clean Data"
   ]
  },
  {
   "cell_type": "code",
   "execution_count": 17,
   "metadata": {},
   "outputs": [
    {
     "name": "stdout",
     "output_type": "stream",
     "text": [
      "Directory  ../TCGA-PANCAN/  already exists\n",
      "Directory  ../TCGA-PANCAN/neural_network_initialisation  Created \n",
      "Directory  ../TCGA-PANCAN/cross_validation  Created \n"
     ]
    }
   ],
   "source": [
    "# Initialise new empty dataset folder\n",
    "from model.generation.helpers import init_dataset_dir\n",
    "\n",
    "path_to_data_folder = '../'\n",
    "init_dataset_dir.run(dataset_name=dataset_name, path_to_data_folder=path_to_data_folder)"
   ]
  },
  {
   "cell_type": "code",
   "execution_count": 18,
   "metadata": {},
   "outputs": [],
   "source": [
    "data_path = '../' + dataset_name + '/'"
   ]
  },
  {
   "cell_type": "code",
   "execution_count": 19,
   "metadata": {},
   "outputs": [],
   "source": [
    "# Save cleaned data\n",
    "data.to_csv(data_path + 'data.csv', index=False)"
   ]
  },
  {
   "cell_type": "code",
   "execution_count": null,
   "metadata": {},
   "outputs": [],
   "source": []
  }
 ],
 "metadata": {
  "kernelspec": {
   "display_name": "Python 3",
   "language": "python",
   "name": "python3"
  },
  "language_info": {
   "codemirror_mode": {
    "name": "ipython",
    "version": 3
   },
   "file_extension": ".py",
   "mimetype": "text/x-python",
   "name": "python",
   "nbconvert_exporter": "python",
   "pygments_lexer": "ipython3",
   "version": "3.7.0"
  }
 },
 "nbformat": 4,
 "nbformat_minor": 4
}
