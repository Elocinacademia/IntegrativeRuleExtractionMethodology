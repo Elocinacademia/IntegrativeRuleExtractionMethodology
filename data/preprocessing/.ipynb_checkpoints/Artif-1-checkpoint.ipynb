{
 "cells": [
  {
   "cell_type": "code",
   "execution_count": 1,
   "metadata": {},
   "outputs": [],
   "source": [
    "import pandas as pd\n",
    "import random"
   ]
  },
  {
   "cell_type": "code",
   "execution_count": 2,
   "metadata": {},
   "outputs": [],
   "source": [
    "import sys\n",
    "sys.path.append(\"C:/Users/sumaiyah/OneDrive - University Of Cambridge/Project/DNN-RE/src\")"
   ]
  },
  {
   "cell_type": "code",
   "execution_count": 3,
   "metadata": {},
   "outputs": [],
   "source": [
    "dataset_name = 'Artif-1'\n",
    "target_col_name = 'y'"
   ]
  },
  {
   "cell_type": "markdown",
   "metadata": {},
   "source": [
    "# Artif-1\n",
    "An artificial dataset\n",
    "$$\n",
    "x_1 \\in \\{0, 0.5, 1\\}  \\\\\n",
    "x_2 \\in \\{0, 0.25, 0.5, 0.75, 1\\}  \\\\\n",
    "x_3 \\in \\{0,1\\}  \\\\\n",
    "x_4 \\in \\{0,1\\} \\\\  \n",
    "x_5 \\in \\{0,1\\} \\\\\n",
    "$$\n",
    "\n",
    "$$\n",
    "    IF x_1 = x_2 \\implies y = y_1  \\\\\n",
    "    IF x_1 > x_2 \\land x_3 > 0.4 \\implies y = y_1  \\\\\n",
    "    IF x_3 > x_4 \\land x_4 > x_5 \\land x_2 > 0 \\implies y = y_1 \\\\\n",
    "    ELSE y = y_0\n",
    "$$\n",
    "\n",
    "## Generate Data"
   ]
  },
  {
   "cell_type": "code",
   "execution_count": 4,
   "metadata": {},
   "outputs": [],
   "source": [
    "# Generate single data instace by randomly picking values for x\n",
    "def generate_instance():\n",
    "    # Possible values for x1, ..., x5\n",
    "    x1_range = [0, 0.5, 1]\n",
    "    x2_range = [0, 0.25, 0.5, 0.75, 1]\n",
    "    x3_range = x4_range = x5_range = [0, 1]\n",
    "    \n",
    "    x1 = random.choice(x1_range)\n",
    "    x2 = random.choice(x2_range)\n",
    "    x3 = random.choice(x3_range)\n",
    "    x4 = random.choice(x4_range)\n",
    "    x5 = random.choice(x5_range)\n",
    "    \n",
    "    y = 0\n",
    "    if x1==x2:\n",
    "        y = 1  \n",
    "    if (x1 > x2) and (x3 > 0.4):\n",
    "        y = 1\n",
    "    if (x3 > x4) and (x4 > x5) and (x2 > 0):\n",
    "        y = 1\n",
    "        \n",
    "    return [x1, x2, x3, x4, x5, y]\n",
    "\n",
    "data_values = [generate_instance() for _ in range(30000)]"
   ]
  },
  {
   "cell_type": "code",
   "execution_count": 5,
   "metadata": {},
   "outputs": [
    {
     "data": {
      "text/plain": [
       "['x1', 'x2', 'x3', 'x4', 'x5', 'y']"
      ]
     },
     "execution_count": 5,
     "metadata": {},
     "output_type": "execute_result"
    }
   ],
   "source": [
    "feature_names = ['x1','x2','x3','x4','x5']\n",
    "\n",
    "col_names = feature_names + [target_col_name]\n",
    "col_names"
   ]
  },
  {
   "cell_type": "markdown",
   "metadata": {},
   "source": [
    "# Save Clean Data"
   ]
  },
  {
   "cell_type": "code",
   "execution_count": 6,
   "metadata": {},
   "outputs": [],
   "source": [
    "data = pd.DataFrame(data=data_values, columns=col_names)"
   ]
  },
  {
   "cell_type": "code",
   "execution_count": 7,
   "metadata": {},
   "outputs": [
    {
     "name": "stdout",
     "output_type": "stream",
     "text": [
      "Directory  ../Artif-1/  Created \n",
      "Directory  ../Artif-1/neural_network_initialisation  Created \n",
      "Directory  ../Artif-1/cross_validation  Created \n"
     ]
    }
   ],
   "source": [
    "# Initialise new empty dataset folder\n",
    "from model.generation.helpers import init_dataset_dir\n",
    "\n",
    "path_to_data_folder = '../'\n",
    "init_dataset_dir.run(dataset_name=dataset_name, path_to_data_folder=path_to_data_folder)"
   ]
  },
  {
   "cell_type": "code",
   "execution_count": 8,
   "metadata": {},
   "outputs": [],
   "source": [
    "data_path = path_to_data_folder + dataset_name + '/'"
   ]
  },
  {
   "cell_type": "code",
   "execution_count": 9,
   "metadata": {},
   "outputs": [],
   "source": [
    "# Save cleaned data\n",
    "data.to_csv(data_path + 'data.csv', index=False)"
   ]
  },
  {
   "cell_type": "code",
   "execution_count": null,
   "metadata": {},
   "outputs": [],
   "source": []
  }
 ],
 "metadata": {
  "kernelspec": {
   "display_name": "Python 3",
   "language": "python",
   "name": "python3"
  },
  "language_info": {
   "codemirror_mode": {
    "name": "ipython",
    "version": 3
   },
   "file_extension": ".py",
   "mimetype": "text/x-python",
   "name": "python",
   "nbconvert_exporter": "python",
   "pygments_lexer": "ipython3",
   "version": "3.6.6"
  }
 },
 "nbformat": 4,
 "nbformat_minor": 4
}
