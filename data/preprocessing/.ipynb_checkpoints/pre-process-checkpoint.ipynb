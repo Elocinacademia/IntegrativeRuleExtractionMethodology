{
 "cells": [
  {
   "cell_type": "code",
   "execution_count": 1,
   "metadata": {},
   "outputs": [],
   "source": [
    "import os\n",
    "import pandas as pd\n",
    "import sys\n",
    "import numpy as np\n",
    "from sklearn.preprocessing import MinMaxScaler\n",
    "from sklearn.model_selection import train_test_split, StratifiedKFold\n",
    "\n",
    "import tensorflow as tf\n",
    "\n",
    "sys.path.append(\"../../DNN-RE-new/src\")"
   ]
  },
  {
   "cell_type": "code",
   "execution_count": 3,
   "metadata": {},
   "outputs": [
    {
     "name": "stderr",
     "output_type": "stream",
     "text": [
      "/usr/local/lib/python3.8/site-packages/IPython/core/interactiveshell.py:3146: DtypeWarning: Columns (19,20) have mixed types. Specify dtype option on import or set low_memory=False.\n",
      "  has_raised = await self.run_ast_nodes(code_ast.body, cell_name,\n"
     ]
    }
   ],
   "source": [
    "raw_data = pd.read_csv('raw_data/MBdata_33CLINwMiss_1KfGE_1KfCNA.csv')"
   ]
  },
  {
   "cell_type": "code",
   "execution_count": 4,
   "metadata": {},
   "outputs": [],
   "source": [
    "def to_categorical(data, dtype=None):\n",
    "    val_to_cat = {}\n",
    "    cat = []\n",
    "    index = 0\n",
    "    for val in data:\n",
    "        if val not in val_to_cat:\n",
    "            val_to_cat[val] = index\n",
    "            cat.append(index)\n",
    "            index += 1\n",
    "        else:\n",
    "            cat.append(val_to_cat[val])\n",
    "    return np.array(cat)"
   ]
  },
  {
   "cell_type": "markdown",
   "metadata": {},
   "source": [
    "# MB-1004-GE-2Hist"
   ]
  },
  {
   "cell_type": "code",
   "execution_count": 4,
   "metadata": {},
   "outputs": [],
   "source": [
    "all_genes_df = pd.read_csv('raw_data/all_genes.csv')"
   ]
  },
  {
   "cell_type": "code",
   "execution_count": 5,
   "metadata": {},
   "outputs": [],
   "source": [
    "df_4 = all_genes_df[['METABRIC_ID','CDH1', 'MKI67', 'FOXA1', 'PTEN']]"
   ]
  },
  {
   "cell_type": "code",
   "execution_count": 6,
   "metadata": {},
   "outputs": [
    {
     "name": "stderr",
     "output_type": "stream",
     "text": [
      "/Users/zohreh-sh/Library/Python/3.8/lib/python/site-packages/pandas-0.25.3-py3.8-macosx-10.15-x86_64.egg/pandas/core/frame.py:4238: SettingWithCopyWarning: \n",
      "A value is trying to be set on a copy of a slice from a DataFrame\n",
      "\n",
      "See the caveats in the documentation: http://pandas.pydata.org/pandas-docs/stable/user_guide/indexing.html#returning-a-view-versus-a-copy\n",
      "  return super().rename(**kwargs)\n"
     ]
    }
   ],
   "source": [
    "df_4.rename(columns={\"CDH1\": \"GE_CDH1\", 'MKI67':'GE_MKI67', 'FOXA1':'GE_FOXA1', 'PTEN':'GE_PTEN'}, inplace=True)"
   ]
  },
  {
   "cell_type": "code",
   "execution_count": 7,
   "metadata": {},
   "outputs": [],
   "source": [
    "df_4_raw_data = pd.merge(df_4, raw_data, on='METABRIC_ID')"
   ]
  },
  {
   "cell_type": "code",
   "execution_count": 8,
   "metadata": {},
   "outputs": [],
   "source": [
    "df_4_raw_data_2Hist = df_4_raw_data[(df_4_raw_data['Histological_Type'] == 'IDC') | (df_4_raw_data['Histological_Type'] == 'ILC')].copy()"
   ]
  },
  {
   "cell_type": "code",
   "execution_count": 9,
   "metadata": {},
   "outputs": [],
   "source": [
    "df_4_raw_data_2Hist['Histological_Type'].replace({\"IDC\":0,\"ILC\":1}, inplace=True)"
   ]
  },
  {
   "cell_type": "code",
   "execution_count": 10,
   "metadata": {},
   "outputs": [],
   "source": [
    "genes_1000_2Hist = df_4_raw_data_2Hist.iloc[:,38:1038]\n",
    "genes_4_2Hist = df_4_raw_data_2Hist.iloc[:,1:5]\n",
    "labels_2Hist = df_4_raw_data_2Hist.loc[:,'Histological_Type']"
   ]
  },
  {
   "cell_type": "code",
   "execution_count": 11,
   "metadata": {},
   "outputs": [],
   "source": [
    "MB_1004_GE_2Hist = pd.concat([genes_1000_2Hist, genes_4_2Hist, labels_2Hist ], axis=1)"
   ]
  },
  {
   "cell_type": "code",
   "execution_count": 12,
   "metadata": {},
   "outputs": [
    {
     "data": {
      "text/plain": [
       "0    1547\n",
       "1     147\n",
       "Name: Histological_Type, dtype: int64"
      ]
     },
     "execution_count": 12,
     "metadata": {},
     "output_type": "execute_result"
    }
   ],
   "source": [
    "MB_1004_GE_2Hist[\"Histological_Type\"].value_counts()"
   ]
  },
  {
   "cell_type": "code",
   "execution_count": 13,
   "metadata": {},
   "outputs": [],
   "source": [
    "MB_1004_GE_2Hist.to_csv('MB-1004-GE-2Hist.csv', index=False)"
   ]
  },
  {
   "cell_type": "markdown",
   "metadata": {},
   "source": [
    "## save"
   ]
  },
  {
   "cell_type": "code",
   "execution_count": 14,
   "metadata": {},
   "outputs": [],
   "source": [
    "dataset_name = 'MB-1004-GE-2Hist'\n",
    "target_col_name = 'Histological_Type'\n",
    "data = MB_1004_GE_2Hist"
   ]
  },
  {
   "cell_type": "code",
   "execution_count": 20,
   "metadata": {},
   "outputs": [
    {
     "name": "stdout",
     "output_type": "stream",
     "text": [
      "Directory  ../../MB-1004-GE-2Hist/  already exists\n",
      "Directory  ../../MB-1004-GE-2Hist/neural_network_initialisation  already exists\n",
      "Directory  ../../MB-1004-GE-2Hist/cross_validation  already exists\n"
     ]
    }
   ],
   "source": [
    "from model.generation.helpers import init_dataset_dir\n",
    "path_to_data_folder = '../../'\n",
    "init_dataset_dir.run(dataset_name=dataset_name, path_to_data_folder=path_to_data_folder)"
   ]
  },
  {
   "cell_type": "code",
   "execution_count": 21,
   "metadata": {},
   "outputs": [],
   "source": [
    "data_path = '../../' + dataset_name + '/'"
   ]
  },
  {
   "cell_type": "code",
   "execution_count": 22,
   "metadata": {},
   "outputs": [],
   "source": [
    "data.to_csv(data_path + 'data.csv', index=False)"
   ]
  },
  {
   "cell_type": "markdown",
   "metadata": {},
   "source": [
    "# MB-ClinP-ER"
   ]
  },
  {
   "cell_type": "code",
   "execution_count": 24,
   "metadata": {},
   "outputs": [],
   "source": [
    "clin = raw_data.iloc[:,2:19]"
   ]
  },
  {
   "cell_type": "code",
   "execution_count": 25,
   "metadata": {},
   "outputs": [],
   "source": [
    "clin.drop([\"Date_Of_Diagnosis\", \"Last_Followup_Status\", \"Breast_Surgery\", \"ER_Status\"], axis =1, inplace=True)"
   ]
  },
  {
   "cell_type": "code",
   "execution_count": 26,
   "metadata": {},
   "outputs": [],
   "source": [
    "clin['Age_At_Diagnosis'] = clin['Age_At_Diagnosis'].astype(float)\n",
    "clin[\"Breast_Tumour_Laterality\"] = to_categorical(clin[\"Breast_Tumour_Laterality\"])\n",
    "clin['NPI'] = clin['NPI'].astype(float)\n",
    "clin[\"Inferred_Menopausal_State\"] = to_categorical(clin[\"Inferred_Menopausal_State\"])\n",
    "clin['Lymph_Nodes_Positive'] = clin['Lymph_Nodes_Positive'].astype(int)"
   ]
  },
  {
   "cell_type": "code",
   "execution_count": 27,
   "metadata": {},
   "outputs": [],
   "source": [
    "clin[\"CT\"] = to_categorical(clin[\"CT\"])\n",
    "clin[\"HT\"] = to_categorical(clin[\"HT\"])\n",
    "clin[\"RT\"] = to_categorical(clin[\"RT\"])"
   ]
  },
  {
   "cell_type": "code",
   "execution_count": 28,
   "metadata": {},
   "outputs": [],
   "source": [
    "clin[\"Grade\"].replace(\"?\", np.NaN, inplace=True)\n",
    "clin.fillna(clin['Grade'].value_counts().index[0], inplace=True)\n",
    "clin['Grade'] = clin['Grade'].astype(int)"
   ]
  },
  {
   "cell_type": "code",
   "execution_count": 29,
   "metadata": {},
   "outputs": [],
   "source": [
    "clin[\"Size\"].replace(\"?\", np.NaN, inplace=True)\n",
    "clin['Size'] = clin['Size'].astype(float)\n",
    "clin['Size'].fillna(clin['Size'].mean(), inplace=True)"
   ]
  },
  {
   "cell_type": "code",
   "execution_count": 30,
   "metadata": {},
   "outputs": [],
   "source": [
    "clin[\"Histological_Type\"] = to_categorical(clin[\"Histological_Type\"])"
   ]
  },
  {
   "cell_type": "code",
   "execution_count": 31,
   "metadata": {},
   "outputs": [],
   "source": [
    "clin[\"Stage\"].replace(\"?\", np.NaN, inplace=True)\n",
    "clin.fillna(clin['Stage'].value_counts().index[0], inplace=True)\n",
    "clin['Stage'] = clin['Stage'].astype(int)"
   ]
  },
  {
   "cell_type": "code",
   "execution_count": 32,
   "metadata": {},
   "outputs": [],
   "source": [
    "clin[\"Cellularity\"] = to_categorical(clin[\"Cellularity\"])"
   ]
  },
  {
   "cell_type": "code",
   "execution_count": 33,
   "metadata": {},
   "outputs": [],
   "source": [
    "er_data_df = raw_data.loc[:,\"ER_Expr\"]\n",
    "er_data_df.replace({\"-\":0,\"+\":1}, inplace=True)\n",
    "clin[\"ER_Expr\"] = er_data_df.values"
   ]
  },
  {
   "cell_type": "markdown",
   "metadata": {},
   "source": [
    "## save"
   ]
  },
  {
   "cell_type": "code",
   "execution_count": 34,
   "metadata": {},
   "outputs": [],
   "source": [
    "dataset_name = 'MB-ClinP-ER'\n",
    "target_col_name = 'ER_Expr'"
   ]
  },
  {
   "cell_type": "code",
   "execution_count": 35,
   "metadata": {},
   "outputs": [
    {
     "name": "stdout",
     "output_type": "stream",
     "text": [
      "Directory  ../../MB-ClinP-ER/  already exists\n",
      "Directory  ../../MB-ClinP-ER/neural_network_initialisation  already exists\n",
      "Directory  ../../MB-ClinP-ER/cross_validation  already exists\n"
     ]
    }
   ],
   "source": [
    "init_dataset_dir.run(dataset_name=dataset_name, path_to_data_folder=path_to_data_folder)"
   ]
  },
  {
   "cell_type": "code",
   "execution_count": 36,
   "metadata": {},
   "outputs": [],
   "source": [
    "clin.to_csv(data_path + 'data.csv', index=False)"
   ]
  },
  {
   "cell_type": "markdown",
   "metadata": {},
   "source": [
    "# MB-GE-ER"
   ]
  },
  {
   "cell_type": "code",
   "execution_count": 43,
   "metadata": {},
   "outputs": [],
   "source": [
    "raw_data = pd.read_csv('MBdata_33CLINwMiss_1KfGE_1KfCNA.csv')\n",
    "ge = raw_data.iloc[:,34:1034]"
   ]
  },
  {
   "cell_type": "code",
   "execution_count": 44,
   "metadata": {},
   "outputs": [],
   "source": [
    "er = raw_data.loc[:, \"ER_Expr\"]"
   ]
  },
  {
   "cell_type": "code",
   "execution_count": 45,
   "metadata": {},
   "outputs": [],
   "source": [
    "MB_GE_ER = pd.concat([ge, er], axis=1)"
   ]
  },
  {
   "cell_type": "code",
   "execution_count": 47,
   "metadata": {},
   "outputs": [],
   "source": [
    "MB_GE_ER[\"ER_Expr\"].replace({'+':1, '-': 0}, inplace=True)"
   ]
  },
  {
   "cell_type": "code",
   "execution_count": 49,
   "metadata": {},
   "outputs": [],
   "source": [
    "MB_GE_ER.to_csv('MB-GE-ER.csv', index=False)"
   ]
  },
  {
   "cell_type": "markdown",
   "metadata": {},
   "source": [
    "## save"
   ]
  },
  {
   "cell_type": "code",
   "execution_count": 50,
   "metadata": {},
   "outputs": [],
   "source": [
    "dataset_name = 'MB-GE-ER'\n",
    "target_col_name = 'ER_Expr'\n",
    "data = MB_GE_ER"
   ]
  },
  {
   "cell_type": "code",
   "execution_count": 51,
   "metadata": {},
   "outputs": [
    {
     "name": "stdout",
     "output_type": "stream",
     "text": [
      "Directory  ../../MB-GE-ER/  already exists\n",
      "Directory  ../../MB-GE-ER/neural_network_initialisation  already exists\n",
      "Directory  ../../MB-GE-ER/cross_validation  already exists\n"
     ]
    }
   ],
   "source": [
    "init_dataset_dir.run(dataset_name=dataset_name, path_to_data_folder=path_to_data_folder)"
   ]
  },
  {
   "cell_type": "code",
   "execution_count": 52,
   "metadata": {},
   "outputs": [],
   "source": [
    "data.to_csv(data_path + 'data.csv', index=False)"
   ]
  },
  {
   "cell_type": "markdown",
   "metadata": {},
   "source": [
    "# MB-GE-Clin-ER"
   ]
  },
  {
   "cell_type": "code",
   "execution_count": 55,
   "metadata": {},
   "outputs": [],
   "source": [
    "GE_data = pd.read_csv(\"../../MB-GE-ER/data.csv\")\n",
    "ClinP_data = pd.read_csv(\"../../MB-ClinP-ER/data.csv\")"
   ]
  },
  {
   "cell_type": "code",
   "execution_count": 56,
   "metadata": {},
   "outputs": [],
   "source": [
    "GE_data = GE_data.drop(columns=[\"ER_Expr\"])"
   ]
  },
  {
   "cell_type": "code",
   "execution_count": 57,
   "metadata": {},
   "outputs": [],
   "source": [
    "GE_ClinP_data = pd.concat([GE_data, ClinP_data], axis=1)"
   ]
  },
  {
   "cell_type": "markdown",
   "metadata": {},
   "source": [
    "##  save"
   ]
  },
  {
   "cell_type": "code",
   "execution_count": 60,
   "metadata": {},
   "outputs": [
    {
     "name": "stdout",
     "output_type": "stream",
     "text": [
      "Directory  ../../MB-GE-ClinP-ER/  already exists\n",
      "Directory  ../../MB-GE-ClinP-ER/neural_network_initialisation  already exists\n",
      "Directory  ../../MB-GE-ClinP-ER/cross_validation  already exists\n"
     ]
    }
   ],
   "source": [
    "dataset_name = 'MB-GE-ClinP-ER'\n",
    "target_col_name = 'ER_Expr'\n",
    "\n",
    "init_dataset_dir.run(dataset_name=dataset_name, path_to_data_folder=path_to_data_folder)"
   ]
  },
  {
   "cell_type": "code",
   "execution_count": 61,
   "metadata": {},
   "outputs": [],
   "source": [
    "GE_ClinP_data.to_csv(data_path + 'data.csv', index=False)"
   ]
  },
  {
   "cell_type": "code",
   "execution_count": null,
   "metadata": {},
   "outputs": [],
   "source": []
  }
 ],
 "metadata": {
  "kernelspec": {
   "display_name": "Python 3",
   "language": "python",
   "name": "python3"
  },
  "language_info": {
   "codemirror_mode": {
    "name": "ipython",
    "version": 3
   },
   "file_extension": ".py",
   "mimetype": "text/x-python",
   "name": "python",
   "nbconvert_exporter": "python",
   "pygments_lexer": "ipython3",
   "version": "3.8.5"
  }
 },
 "nbformat": 4,
 "nbformat_minor": 4
}
