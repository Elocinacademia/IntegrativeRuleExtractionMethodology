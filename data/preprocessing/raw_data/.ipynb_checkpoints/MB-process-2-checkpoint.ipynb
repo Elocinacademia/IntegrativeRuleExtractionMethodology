{
 "cells": [
  {
   "cell_type": "code",
   "execution_count": 35,
   "metadata": {},
   "outputs": [],
   "source": [
    "import os\n",
    "import pandas as pd\n",
    "import sys\n",
    "import numpy as np\n",
    "from sklearn.preprocessing import MinMaxScaler\n",
    "from sklearn.model_selection import train_test_split, StratifiedKFold\n",
    "\n",
    "import tensorflow as tf\n",
    "import random as python_random\n",
    "\n",
    "\n",
    "def reset_random_seeds():\n",
    "    os.environ['PYTHONHASHSEED']=str(1)\n",
    "    tf.random.set_seed(1)\n",
    "    np.random.seed(1)\n",
    "    python_random.seed(1)\n",
    "\n",
    "import scikitplot as skplt\n",
    "import matplotlib.pyplot as plt\n",
    "from mlxtend.evaluate import confusion_matrix\n",
    "from mlxtend.plotting import plot_confusion_matrix\n",
    "from keras.models import load_model\n",
    "\n",
    "import keras\n",
    "from keras import regularizers, optimizers\n",
    "from keras.layers import Lambda, Input, Dense, BatchNormalization as BN, concatenate, Dropout\n",
    "from keras.models import Model\n",
    "from sklearn.utils.class_weight import compute_class_weight\n",
    "\n",
    "sys.path.append(\"../../../DNN-RE/src\")"
   ]
  },
  {
   "cell_type": "code",
   "execution_count": 36,
   "metadata": {},
   "outputs": [
    {
     "name": "stderr",
     "output_type": "stream",
     "text": [
      "/opt/anaconda3/lib/python3.7/site-packages/IPython/core/interactiveshell.py:3063: DtypeWarning: Columns (19,20) have mixed types.Specify dtype option on import or set low_memory=False.\n",
      "  interactivity=interactivity, compiler=compiler, result=result)\n"
     ]
    }
   ],
   "source": [
    "raw_data = pd.read_csv('MBdata_33CLINwMiss_1KfGE_1KfCNA.csv')"
   ]
  },
  {
   "cell_type": "markdown",
   "metadata": {},
   "source": [
    "# vector_k50"
   ]
  },
  {
   "cell_type": "code",
   "execution_count": 5,
   "metadata": {},
   "outputs": [],
   "source": [
    "vector_k50 = pd.read_csv(\"vector_measures_k50_all_v5.csv\")"
   ]
  },
  {
   "cell_type": "code",
   "execution_count": 6,
   "metadata": {},
   "outputs": [],
   "source": [
    "vector_k50_ND = vector_k50.drop_duplicates(subset=['catalog_ID']).copy()"
   ]
  },
  {
   "cell_type": "code",
   "execution_count": 7,
   "metadata": {},
   "outputs": [],
   "source": [
    "vector_k50_ND.rename(columns={\"catalog_ID\": \"METABRIC_ID\"}, inplace=True)"
   ]
  },
  {
   "cell_type": "code",
   "execution_count": 8,
   "metadata": {},
   "outputs": [],
   "source": [
    "vector_k50_ND_raw_data= pd.merge(vector_k50_ND, raw_data, on='METABRIC_ID')"
   ]
  },
  {
   "cell_type": "markdown",
   "metadata": {},
   "source": [
    "## 2Hist "
   ]
  },
  {
   "cell_type": "code",
   "execution_count": 23,
   "metadata": {},
   "outputs": [],
   "source": [
    "vector_k50_ND_raw_data_2Hist= vector_k50_ND_raw_data[(vector_k50_ND_raw_data['Histological_Type'] == 'IDC') | (vector_k50_ND_raw_data['Histological_Type'] == 'ILC')].copy()"
   ]
  },
  {
   "cell_type": "code",
   "execution_count": 24,
   "metadata": {},
   "outputs": [
    {
     "data": {
      "text/plain": [
       "IDC    1133\n",
       "ILC     108\n",
       "Name: Histological_Type, dtype: int64"
      ]
     },
     "execution_count": 24,
     "metadata": {},
     "output_type": "execute_result"
    }
   ],
   "source": [
    "vector_k50_ND_raw_data_2Hist['Histological_Type'].value_counts()"
   ]
  },
  {
   "cell_type": "code",
   "execution_count": 25,
   "metadata": {},
   "outputs": [],
   "source": [
    "vector_k50_ND_raw_data_2Hist['Histological_Type'].replace({\"IDC\":0,\"ILC\":1}, inplace=True)"
   ]
  },
  {
   "cell_type": "code",
   "execution_count": 26,
   "metadata": {},
   "outputs": [],
   "source": [
    "vector_k50_input_2Hist = vector_k50_ND_raw_data_2Hist.iloc[:,2:370]\n",
    "vector_k50_label_2Hist = vector_k50_ND_raw_data_2Hist.loc[:,'Histological_Type']"
   ]
  },
  {
   "cell_type": "code",
   "execution_count": 27,
   "metadata": {},
   "outputs": [],
   "source": [
    "vector_k50_2Hist = pd.concat([vector_k50_input_2Hist, vector_k50_label_2Hist], axis=1)"
   ]
  },
  {
   "cell_type": "code",
   "execution_count": 29,
   "metadata": {},
   "outputs": [],
   "source": [
    "vector_k50_2Hist.to_csv('mb_imagevec50_2Hist.csv', index=False)"
   ]
  },
  {
   "cell_type": "markdown",
   "metadata": {},
   "source": [
    "### Save "
   ]
  },
  {
   "cell_type": "code",
   "execution_count": 30,
   "metadata": {},
   "outputs": [],
   "source": [
    "dataset_name = 'mb_imagevec50_2Hist'\n",
    "target_col_name = 'Histological_Type'\n",
    "data = vector_k50_2Hist"
   ]
  },
  {
   "cell_type": "code",
   "execution_count": 31,
   "metadata": {},
   "outputs": [
    {
     "name": "stdout",
     "output_type": "stream",
     "text": [
      "Directory  ../../mb_imagevec50_2Hist/  already exists\n",
      "Directory  ../../mb_imagevec50_2Hist/neural_network_initialisation  already exists\n",
      "Directory  ../../mb_imagevec50_2Hist/cross_validation  already exists\n"
     ]
    }
   ],
   "source": [
    "from model.generation.helpers import init_dataset_dir\n",
    "path_to_data_folder = '../../'\n",
    "init_dataset_dir.run(dataset_name=dataset_name, path_to_data_folder=path_to_data_folder)"
   ]
  },
  {
   "cell_type": "code",
   "execution_count": 32,
   "metadata": {},
   "outputs": [],
   "source": [
    "data_path = '../../' + dataset_name + '/'"
   ]
  },
  {
   "cell_type": "code",
   "execution_count": 33,
   "metadata": {},
   "outputs": [],
   "source": [
    "data.to_csv(data_path + 'data.csv', index=False)"
   ]
  },
  {
   "cell_type": "markdown",
   "metadata": {},
   "source": [
    "## ER"
   ]
  },
  {
   "cell_type": "code",
   "execution_count": 7,
   "metadata": {},
   "outputs": [],
   "source": [
    "vector_k50_ND_raw_data['ER_Expr'].replace({\"-\":0,\"+\":1}, inplace=True)"
   ]
  },
  {
   "cell_type": "code",
   "execution_count": 8,
   "metadata": {},
   "outputs": [],
   "source": [
    "vector_k50_input_ER = vector_k50_ND_raw_data.iloc[:,2:370]\n",
    "vector_k50_label_ER = vector_k50_ND_raw_data.loc[:,'ER_Expr']"
   ]
  },
  {
   "cell_type": "code",
   "execution_count": 9,
   "metadata": {},
   "outputs": [],
   "source": [
    "mb_imagevec50_ER = pd.concat([vector_k50_input_ER, vector_k50_label_ER], axis=1)"
   ]
  },
  {
   "cell_type": "code",
   "execution_count": 10,
   "metadata": {},
   "outputs": [],
   "source": [
    "mb_imagevec50_ER.to_csv('mb_imagevec50_ER.csv', index=False)"
   ]
  },
  {
   "cell_type": "markdown",
   "metadata": {},
   "source": [
    "### Save "
   ]
  },
  {
   "cell_type": "code",
   "execution_count": 11,
   "metadata": {},
   "outputs": [],
   "source": [
    "dataset_name = 'mb_imagevec50_ER'\n",
    "target_col_name = 'ER_Expr'\n",
    "data = mb_imagevec50_ER"
   ]
  },
  {
   "cell_type": "code",
   "execution_count": 12,
   "metadata": {},
   "outputs": [
    {
     "name": "stdout",
     "output_type": "stream",
     "text": [
      "Directory  ../../mb_imagevec50_ER/  Created \n",
      "Directory  ../../mb_imagevec50_ER/neural_network_initialisation  Created \n",
      "Directory  ../../mb_imagevec50_ER/cross_validation  Created \n"
     ]
    }
   ],
   "source": [
    "from model.generation.helpers import init_dataset_dir\n",
    "path_to_data_folder = '../../'\n",
    "init_dataset_dir.run(dataset_name=dataset_name, path_to_data_folder=path_to_data_folder)"
   ]
  },
  {
   "cell_type": "code",
   "execution_count": 15,
   "metadata": {},
   "outputs": [],
   "source": [
    "data_path = '../../' + dataset_name + '/'"
   ]
  },
  {
   "cell_type": "code",
   "execution_count": 16,
   "metadata": {},
   "outputs": [],
   "source": [
    "data.to_csv(data_path + 'data.csv', index=False)"
   ]
  },
  {
   "cell_type": "markdown",
   "metadata": {},
   "source": [
    "## DR"
   ]
  },
  {
   "cell_type": "code",
   "execution_count": 50,
   "metadata": {},
   "outputs": [],
   "source": [
    "vector_k50_input_DR = vector_k50_ND_raw_data.iloc[:,2:370]\n",
    "vector_k50_label_DR = vector_k50_ND_raw_data.loc[:,'DR']"
   ]
  },
  {
   "cell_type": "code",
   "execution_count": 51,
   "metadata": {},
   "outputs": [],
   "source": [
    "mb_imagevec50_DR = pd.concat([vector_k50_input_DR, vector_k50_label_DR], axis=1)"
   ]
  },
  {
   "cell_type": "code",
   "execution_count": 52,
   "metadata": {},
   "outputs": [],
   "source": [
    "mb_imagevec50_DR.to_csv('mb_imagevec50_DR.csv', index=False)"
   ]
  },
  {
   "cell_type": "markdown",
   "metadata": {},
   "source": [
    "### Save "
   ]
  },
  {
   "cell_type": "code",
   "execution_count": 63,
   "metadata": {},
   "outputs": [],
   "source": [
    "dataset_name = 'mb_imagevec50_DR'\n",
    "target_col_name = 'DR'\n",
    "data = mb_imagevec50_DR"
   ]
  },
  {
   "cell_type": "code",
   "execution_count": 64,
   "metadata": {},
   "outputs": [
    {
     "name": "stdout",
     "output_type": "stream",
     "text": [
      "Directory  ../../mb_imagevec50_DR/  Created \n",
      "Directory  ../../mb_imagevec50_DR/neural_network_initialisation  Created \n",
      "Directory  ../../mb_imagevec50_DR/cross_validation  Created \n"
     ]
    }
   ],
   "source": [
    "init_dataset_dir.run(dataset_name=dataset_name, path_to_data_folder=path_to_data_folder)"
   ]
  },
  {
   "cell_type": "code",
   "execution_count": 65,
   "metadata": {},
   "outputs": [],
   "source": [
    "data_path = '../../' + dataset_name + '/'"
   ]
  },
  {
   "cell_type": "code",
   "execution_count": 66,
   "metadata": {},
   "outputs": [],
   "source": [
    "data.to_csv(data_path + 'data.csv', index=False)"
   ]
  },
  {
   "cell_type": "markdown",
   "metadata": {},
   "source": [
    "# 1000 Genes"
   ]
  },
  {
   "cell_type": "markdown",
   "metadata": {},
   "source": [
    "## 2Hist "
   ]
  },
  {
   "cell_type": "code",
   "execution_count": 37,
   "metadata": {},
   "outputs": [],
   "source": [
    "raw_data_2Hist= raw_data[(raw_data['Histological_Type'] == 'IDC') | (raw_data['Histological_Type'] == 'ILC')].copy()"
   ]
  },
  {
   "cell_type": "code",
   "execution_count": 38,
   "metadata": {},
   "outputs": [],
   "source": [
    "raw_data_2Hist['Histological_Type'].replace({\"IDC\":0,\"ILC\":1}, inplace=True)"
   ]
  },
  {
   "cell_type": "code",
   "execution_count": 39,
   "metadata": {},
   "outputs": [],
   "source": [
    "Gene_input_2Hist = raw_data_2Hist.iloc[:,34:1034]\n",
    "Gene_label_2Hist = raw_data_2Hist.loc[:,'Histological_Type']"
   ]
  },
  {
   "cell_type": "code",
   "execution_count": 40,
   "metadata": {},
   "outputs": [],
   "source": [
    "MB_GE_2Hist = pd.concat([Gene_input_2Hist, Gene_label_2Hist ], axis=1)"
   ]
  },
  {
   "cell_type": "code",
   "execution_count": 41,
   "metadata": {},
   "outputs": [],
   "source": [
    "MB_GE_2Hist.to_csv('MB-GE-2Hist.csv', index=False)"
   ]
  },
  {
   "cell_type": "markdown",
   "metadata": {},
   "source": [
    "### Save"
   ]
  },
  {
   "cell_type": "code",
   "execution_count": 92,
   "metadata": {},
   "outputs": [],
   "source": [
    "dataset_name = 'MB-GE-2Hist'\n",
    "target_col_name = 'Histological_Type'\n",
    "data = MB_GE_2Hist"
   ]
  },
  {
   "cell_type": "code",
   "execution_count": 93,
   "metadata": {},
   "outputs": [
    {
     "name": "stdout",
     "output_type": "stream",
     "text": [
      "Directory  ../../MB-GE-2Hist/  already exists\n",
      "Directory  ../../MB-GE-2Hist/neural_network_initialisation  already exists\n",
      "Directory  ../../MB-GE-2Hist/cross_validation  already exists\n"
     ]
    }
   ],
   "source": [
    "init_dataset_dir.run(dataset_name=dataset_name, path_to_data_folder=path_to_data_folder)"
   ]
  },
  {
   "cell_type": "code",
   "execution_count": 94,
   "metadata": {},
   "outputs": [],
   "source": [
    "data_path = '../../' + dataset_name + '/'"
   ]
  },
  {
   "cell_type": "code",
   "execution_count": 95,
   "metadata": {},
   "outputs": [],
   "source": [
    "data.to_csv(data_path + 'data.csv', index=False)"
   ]
  },
  {
   "cell_type": "markdown",
   "metadata": {},
   "source": [
    "# 1000 + CDH1 Genes"
   ]
  },
  {
   "cell_type": "code",
   "execution_count": 60,
   "metadata": {},
   "outputs": [],
   "source": [
    "all_genes_df = pd.read_csv('all_genes.csv')"
   ]
  },
  {
   "cell_type": "code",
   "execution_count": 61,
   "metadata": {},
   "outputs": [],
   "source": [
    "CDH1_df = all_genes_df[['METABRIC_ID','CDH1']]"
   ]
  },
  {
   "cell_type": "code",
   "execution_count": 65,
   "metadata": {},
   "outputs": [
    {
     "data": {
      "text/html": [
       "<div>\n",
       "<style scoped>\n",
       "    .dataframe tbody tr th:only-of-type {\n",
       "        vertical-align: middle;\n",
       "    }\n",
       "\n",
       "    .dataframe tbody tr th {\n",
       "        vertical-align: top;\n",
       "    }\n",
       "\n",
       "    .dataframe thead th {\n",
       "        text-align: right;\n",
       "    }\n",
       "</style>\n",
       "<table border=\"1\" class=\"dataframe\">\n",
       "  <thead>\n",
       "    <tr style=\"text-align: right;\">\n",
       "      <th></th>\n",
       "      <th>METABRIC_ID</th>\n",
       "      <th>GE_CDH1</th>\n",
       "    </tr>\n",
       "  </thead>\n",
       "  <tbody>\n",
       "    <tr>\n",
       "      <th>0</th>\n",
       "      <td>MB-0362</td>\n",
       "      <td>9.937775</td>\n",
       "    </tr>\n",
       "    <tr>\n",
       "      <th>1</th>\n",
       "      <td>MB-0346</td>\n",
       "      <td>11.863958</td>\n",
       "    </tr>\n",
       "    <tr>\n",
       "      <th>2</th>\n",
       "      <td>MB-0386</td>\n",
       "      <td>9.242340</td>\n",
       "    </tr>\n",
       "    <tr>\n",
       "      <th>3</th>\n",
       "      <td>MB-0574</td>\n",
       "      <td>11.509315</td>\n",
       "    </tr>\n",
       "  </tbody>\n",
       "</table>\n",
       "</div>"
      ],
      "text/plain": [
       "  METABRIC_ID    GE_CDH1\n",
       "0     MB-0362   9.937775\n",
       "1     MB-0346  11.863958\n",
       "2     MB-0386   9.242340\n",
       "3     MB-0574  11.509315"
      ]
     },
     "execution_count": 65,
     "metadata": {},
     "output_type": "execute_result"
    }
   ],
   "source": [
    "CDH1_df.rename(columns={\"CDH1\": \"GE_CDH1\"}, inplace=True)"
   ]
  },
  {
   "cell_type": "code",
   "execution_count": 66,
   "metadata": {},
   "outputs": [],
   "source": [
    "CDH1_raw_data = pd.merge(CDH1_df, raw_data, on='METABRIC_ID')"
   ]
  },
  {
   "cell_type": "code",
   "execution_count": 73,
   "metadata": {},
   "outputs": [],
   "source": [
    "CDH1_raw_data_2Hist = CDH1_raw_data[(CDH1_raw_data['Histological_Type'] == 'IDC') | (CDH1_raw_data['Histological_Type'] == 'ILC')].copy()"
   ]
  },
  {
   "cell_type": "code",
   "execution_count": 74,
   "metadata": {},
   "outputs": [],
   "source": [
    "CDH1_raw_data_2Hist['Histological_Type'].replace({\"IDC\":0,\"ILC\":1}, inplace=True)"
   ]
  },
  {
   "cell_type": "code",
   "execution_count": 99,
   "metadata": {},
   "outputs": [],
   "source": [
    "Genes_2Hist = CDH1_raw_data_2Hist.iloc[:,35:1035]\n",
    "CDH1_2Hist = CDH1_raw_data_2Hist.loc[:,'GE_CDH1']\n",
    "Gene_label_2Hist = CDH1_raw_data_2Hist.loc[:,'Histological_Type']"
   ]
  },
  {
   "cell_type": "code",
   "execution_count": 100,
   "metadata": {},
   "outputs": [],
   "source": [
    "MB_GE_CDH1_2Hist = pd.concat([Genes_2Hist, CDH1_2Hist, Gene_label_2Hist ], axis=1)"
   ]
  },
  {
   "cell_type": "code",
   "execution_count": 102,
   "metadata": {},
   "outputs": [],
   "source": [
    "MB_GE_CDH1_2Hist.to_csv('MB_GE_CDH1_2Hist.csv', index=False)"
   ]
  },
  {
   "cell_type": "markdown",
   "metadata": {},
   "source": [
    "## save "
   ]
  },
  {
   "cell_type": "code",
   "execution_count": 103,
   "metadata": {},
   "outputs": [],
   "source": [
    "dataset_name = 'MB_GE_CDH1_2Hist'\n",
    "target_col_name = 'Histological_Type'\n",
    "data = MB_GE_CDH1_2Hist"
   ]
  },
  {
   "cell_type": "code",
   "execution_count": 104,
   "metadata": {},
   "outputs": [
    {
     "name": "stdout",
     "output_type": "stream",
     "text": [
      "Directory  ../../MB_GE_CDH1_2Hist/  Created \n",
      "Directory  ../../MB_GE_CDH1_2Hist/neural_network_initialisation  Created \n",
      "Directory  ../../MB_GE_CDH1_2Hist/cross_validation  Created \n"
     ]
    }
   ],
   "source": [
    "init_dataset_dir.run(dataset_name=dataset_name, path_to_data_folder=path_to_data_folder)"
   ]
  },
  {
   "cell_type": "code",
   "execution_count": 105,
   "metadata": {},
   "outputs": [],
   "source": [
    "data_path = '../../' + dataset_name + '/'"
   ]
  },
  {
   "cell_type": "code",
   "execution_count": 106,
   "metadata": {},
   "outputs": [],
   "source": [
    "data.to_csv(data_path + 'data.csv', index=False)"
   ]
  },
  {
   "cell_type": "markdown",
   "metadata": {},
   "source": [
    "# Test"
   ]
  },
  {
   "cell_type": "code",
   "execution_count": 59,
   "metadata": {},
   "outputs": [],
   "source": [
    "def build_model_images():\n",
    "    reset_random_seeds()\n",
    "    \n",
    "    inp = Input(shape=(int_size,))\n",
    "\n",
    "    x = Dense(ds, activation=act)(inp)\n",
    "    x = BN()(x)\n",
    "\n",
    "    x = Dense(ds // 2, activation=act)(x)\n",
    "    x = BN()(x)\n",
    "\n",
    "    x = Dense(ds // 4, activation=act)(x)\n",
    "    x = BN()(x)\n",
    "    \n",
    "    out = Dense(out_size, activation='softmax')(x)\n",
    "\n",
    "    model = Model(inp, out, name='dnn_ge')\n",
    "    model.summary()\n",
    "\n",
    "    sgd = optimizers.SGD(lr=0.01 ,nesterov=False)\n",
    "    model.compile(optimizer=sgd, loss='categorical_crossentropy', metrics=['accuracy'])\n",
    "    \n",
    "    return model"
   ]
  },
  {
   "cell_type": "code",
   "execution_count": 60,
   "metadata": {},
   "outputs": [],
   "source": [
    "batch_size = 32\n",
    "act = \"tanh\"\n",
    "ds = 64\n",
    "int_size = 368\n",
    "out_size = 2\n",
    "epochs = 100"
   ]
  },
  {
   "cell_type": "code",
   "execution_count": 42,
   "metadata": {},
   "outputs": [],
   "source": [
    "def model_scores(X_train, y_train, X_test, y_test):\n",
    "    \n",
    "    class_weights = compute_class_weight('balanced', np.unique(y_train), y_train)\n",
    "    \n",
    "    y_train_enc = keras.utils.to_categorical(y_train, 2)\n",
    "    y_test_enc = keras.utils.to_categorical(y_test, 2)\n",
    "    \n",
    "\n",
    "    dnn=build_model_images()\n",
    "    \n",
    "    \n",
    "    dnn.fit(X_train, y_train_enc, epochs=epochs, batch_size=batch_size, class_weight=class_weights)\n",
    "    \n",
    "    \n",
    "    y_pred_prob = dnn.predict(X_test)  \n",
    "    y_pred_class = y_pred_prob.argmax(axis=-1)\n",
    "#     print(confusion_matrix(y_test,y_pred_class))\n",
    "    cm = confusion_matrix(y_test,y_pred_class)\n",
    "    fig, ax = plot_confusion_matrix(conf_mat=cm, show_absolute=False,show_normed=True)\n",
    "    plt.show()\n",
    "    \n",
    "    train_scores = dnn.evaluate(X_train, y_train_enc)\n",
    "    test_scores = dnn.evaluate(X_test, y_test_enc)\n",
    "    \n",
    "    print(train_scores)\n",
    "    print(test_scores)\n",
    "\n",
    "    return(train_scores, test_scores)"
   ]
  },
  {
   "cell_type": "code",
   "execution_count": 47,
   "metadata": {},
   "outputs": [],
   "source": [
    "def cross_val(X, y):\n",
    "    train_scores = []\n",
    "    test_scores = []\n",
    "    for train_index, test_index in skf.split(X, y):\n",
    "        X_train, X_test = X[train_index], X[test_index]\n",
    "        y_train, y_test = y[train_index], y[test_index]\n",
    "        \n",
    "        scaler = MinMaxScaler()\n",
    "        X_train = scaler.fit_transform(X_train)\n",
    "        X_test = scaler.transform(X_test)\n",
    "        \n",
    "        train_score, test_score = model_scores(X_train, y_train, X_test, y_test)\n",
    "        train_scores.append(train_score[1])\n",
    "        test_scores.append(test_score[1])   \n",
    "    print(np.mean(train_scores))\n",
    "    print(np.mean(test_scores))"
   ]
  },
  {
   "cell_type": "code",
   "execution_count": 25,
   "metadata": {},
   "outputs": [],
   "source": [
    "skf = StratifiedKFold(n_splits=5,shuffle=True, random_state=42)"
   ]
  },
  {
   "cell_type": "code",
   "execution_count": 61,
   "metadata": {
    "scrolled": false
   },
   "outputs": [
    {
     "name": "stderr",
     "output_type": "stream",
     "text": [
      "/Users/zohrehwmac/.local/lib/python3.7/site-packages/sklearn/utils/validation.py:71: FutureWarning: Pass classes=[0 1], y=[1 1 1 ... 1 0 1] as keyword args. From version 0.25 passing these as positional arguments will result in an error\n",
      "  FutureWarning)\n"
     ]
    },
    {
     "name": "stdout",
     "output_type": "stream",
     "text": [
      "Model: \"dnn_ge\"\n",
      "_________________________________________________________________\n",
      "Layer (type)                 Output Shape              Param #   \n",
      "=================================================================\n",
      "input_38 (InputLayer)        (None, 368)               0         \n",
      "_________________________________________________________________\n",
      "dense_117 (Dense)            (None, 64)                23616     \n",
      "_________________________________________________________________\n",
      "batch_normalization_43 (Batc (None, 64)                256       \n",
      "_________________________________________________________________\n",
      "dense_118 (Dense)            (None, 32)                2080      \n",
      "_________________________________________________________________\n",
      "batch_normalization_44 (Batc (None, 32)                128       \n",
      "_________________________________________________________________\n",
      "dense_119 (Dense)            (None, 16)                528       \n",
      "_________________________________________________________________\n",
      "batch_normalization_45 (Batc (None, 16)                64        \n",
      "_________________________________________________________________\n",
      "dense_120 (Dense)            (None, 2)                 34        \n",
      "=================================================================\n",
      "Total params: 26,706\n",
      "Trainable params: 26,482\n",
      "Non-trainable params: 224\n",
      "_________________________________________________________________\n",
      "Epoch 1/100\n",
      "1148/1148 [==============================] - 1s 469us/step - loss: 0.7504 - accuracy: 0.5749\n",
      "Epoch 2/100\n",
      "1148/1148 [==============================] - 0s 83us/step - loss: 0.6019 - accuracy: 0.6794\n",
      "Epoch 3/100\n",
      "1148/1148 [==============================] - 0s 85us/step - loss: 0.5586 - accuracy: 0.7326\n",
      "Epoch 4/100\n",
      "1148/1148 [==============================] - 0s 80us/step - loss: 0.5378 - accuracy: 0.7613\n",
      "Epoch 5/100\n",
      "1148/1148 [==============================] - 0s 79us/step - loss: 0.5066 - accuracy: 0.7700\n",
      "Epoch 6/100\n",
      "1148/1148 [==============================] - 0s 77us/step - loss: 0.4956 - accuracy: 0.7831\n",
      "Epoch 7/100\n",
      "1148/1148 [==============================] - 0s 73us/step - loss: 0.4845 - accuracy: 0.7814\n",
      "Epoch 8/100\n",
      "1148/1148 [==============================] - 0s 80us/step - loss: 0.4787 - accuracy: 0.7875\n",
      "Epoch 9/100\n",
      "1148/1148 [==============================] - 0s 83us/step - loss: 0.4644 - accuracy: 0.7944\n",
      "Epoch 10/100\n",
      "1148/1148 [==============================] - 0s 88us/step - loss: 0.4579 - accuracy: 0.7988\n",
      "Epoch 11/100\n",
      "1148/1148 [==============================] - 0s 79us/step - loss: 0.4578 - accuracy: 0.7936\n",
      "Epoch 12/100\n",
      "1148/1148 [==============================] - 0s 75us/step - loss: 0.4507 - accuracy: 0.8031\n",
      "Epoch 13/100\n",
      "1148/1148 [==============================] - 0s 75us/step - loss: 0.4534 - accuracy: 0.7944\n",
      "Epoch 14/100\n",
      "1148/1148 [==============================] - 0s 82us/step - loss: 0.4336 - accuracy: 0.8136\n",
      "Epoch 15/100\n",
      "1148/1148 [==============================] - 0s 97us/step - loss: 0.4327 - accuracy: 0.8084\n",
      "Epoch 16/100\n",
      "1148/1148 [==============================] - 0s 83us/step - loss: 0.4365 - accuracy: 0.8005\n",
      "Epoch 17/100\n",
      "1148/1148 [==============================] - 0s 78us/step - loss: 0.4257 - accuracy: 0.8084\n",
      "Epoch 18/100\n",
      "1148/1148 [==============================] - 0s 80us/step - loss: 0.4320 - accuracy: 0.8049\n",
      "Epoch 19/100\n",
      "1148/1148 [==============================] - 0s 73us/step - loss: 0.4281 - accuracy: 0.8005\n",
      "Epoch 20/100\n",
      "1148/1148 [==============================] - 0s 79us/step - loss: 0.4177 - accuracy: 0.8057\n",
      "Epoch 21/100\n",
      "1148/1148 [==============================] - 0s 90us/step - loss: 0.4123 - accuracy: 0.8153\n",
      "Epoch 22/100\n",
      "1148/1148 [==============================] - 0s 86us/step - loss: 0.4027 - accuracy: 0.8223\n",
      "Epoch 23/100\n",
      "1148/1148 [==============================] - 0s 78us/step - loss: 0.4135 - accuracy: 0.8171\n",
      "Epoch 24/100\n",
      "1148/1148 [==============================] - 0s 85us/step - loss: 0.4011 - accuracy: 0.8284\n",
      "Epoch 25/100\n",
      "1148/1148 [==============================] - 0s 88us/step - loss: 0.3960 - accuracy: 0.8162\n",
      "Epoch 26/100\n",
      "1148/1148 [==============================] - 0s 86us/step - loss: 0.3873 - accuracy: 0.8275\n",
      "Epoch 27/100\n",
      "1148/1148 [==============================] - 0s 85us/step - loss: 0.3968 - accuracy: 0.8240\n",
      "Epoch 28/100\n",
      "1148/1148 [==============================] - 0s 98us/step - loss: 0.3910 - accuracy: 0.8258\n",
      "Epoch 29/100\n",
      "1148/1148 [==============================] - 0s 78us/step - loss: 0.3813 - accuracy: 0.8232\n",
      "Epoch 30/100\n",
      "1148/1148 [==============================] - 0s 88us/step - loss: 0.3790 - accuracy: 0.8258\n",
      "Epoch 31/100\n",
      "1148/1148 [==============================] - 0s 82us/step - loss: 0.3823 - accuracy: 0.8336\n",
      "Epoch 32/100\n",
      "1148/1148 [==============================] - 0s 81us/step - loss: 0.3691 - accuracy: 0.8380\n",
      "Epoch 33/100\n",
      "1148/1148 [==============================] - 0s 80us/step - loss: 0.3781 - accuracy: 0.8301\n",
      "Epoch 34/100\n",
      "1148/1148 [==============================] - 0s 75us/step - loss: 0.3670 - accuracy: 0.8310\n",
      "Epoch 35/100\n",
      "1148/1148 [==============================] - 0s 75us/step - loss: 0.3603 - accuracy: 0.8467\n",
      "Epoch 36/100\n",
      "1148/1148 [==============================] - 0s 83us/step - loss: 0.3696 - accuracy: 0.8232\n",
      "Epoch 37/100\n",
      "1148/1148 [==============================] - 0s 82us/step - loss: 0.3637 - accuracy: 0.8380\n",
      "Epoch 38/100\n",
      "1148/1148 [==============================] - 0s 77us/step - loss: 0.3596 - accuracy: 0.8423\n",
      "Epoch 39/100\n",
      "1148/1148 [==============================] - 0s 97us/step - loss: 0.3509 - accuracy: 0.8380\n",
      "Epoch 40/100\n",
      "1148/1148 [==============================] - 0s 92us/step - loss: 0.3375 - accuracy: 0.8449\n",
      "Epoch 41/100\n",
      "1148/1148 [==============================] - 0s 88us/step - loss: 0.3479 - accuracy: 0.8458\n",
      "Epoch 42/100\n",
      "1148/1148 [==============================] - 0s 88us/step - loss: 0.3457 - accuracy: 0.8476\n",
      "Epoch 43/100\n",
      "1148/1148 [==============================] - 0s 88us/step - loss: 0.3472 - accuracy: 0.8423\n",
      "Epoch 44/100\n",
      "1148/1148 [==============================] - 0s 84us/step - loss: 0.3443 - accuracy: 0.8545\n",
      "Epoch 45/100\n",
      "1148/1148 [==============================] - 0s 88us/step - loss: 0.3255 - accuracy: 0.8519\n",
      "Epoch 46/100\n",
      "1148/1148 [==============================] - 0s 75us/step - loss: 0.3307 - accuracy: 0.8519\n",
      "Epoch 47/100\n",
      "1148/1148 [==============================] - 0s 81us/step - loss: 0.3212 - accuracy: 0.8510\n",
      "Epoch 48/100\n",
      "1148/1148 [==============================] - 0s 71us/step - loss: 0.3446 - accuracy: 0.8554\n",
      "Epoch 49/100\n",
      "1148/1148 [==============================] - 0s 79us/step - loss: 0.3168 - accuracy: 0.8519\n",
      "Epoch 50/100\n",
      "1148/1148 [==============================] - 0s 77us/step - loss: 0.3334 - accuracy: 0.8423\n",
      "Epoch 51/100\n",
      "1148/1148 [==============================] - 0s 75us/step - loss: 0.3197 - accuracy: 0.8632\n",
      "Epoch 52/100\n",
      "1148/1148 [==============================] - 0s 89us/step - loss: 0.3214 - accuracy: 0.8659\n",
      "Epoch 53/100\n",
      "1148/1148 [==============================] - 0s 88us/step - loss: 0.3182 - accuracy: 0.8571\n",
      "Epoch 54/100\n",
      "1148/1148 [==============================] - 0s 74us/step - loss: 0.3218 - accuracy: 0.8606\n",
      "Epoch 55/100\n",
      "1148/1148 [==============================] - 0s 79us/step - loss: 0.3057 - accuracy: 0.8685\n",
      "Epoch 56/100\n",
      "1148/1148 [==============================] - 0s 75us/step - loss: 0.2916 - accuracy: 0.8737\n",
      "Epoch 57/100\n",
      "1148/1148 [==============================] - 0s 74us/step - loss: 0.3029 - accuracy: 0.8737\n",
      "Epoch 58/100\n",
      "1148/1148 [==============================] - 0s 77us/step - loss: 0.3091 - accuracy: 0.8772\n",
      "Epoch 59/100\n",
      "1148/1148 [==============================] - 0s 95us/step - loss: 0.2908 - accuracy: 0.8824\n",
      "Epoch 60/100\n",
      "1148/1148 [==============================] - 0s 94us/step - loss: 0.2862 - accuracy: 0.8737\n",
      "Epoch 61/100\n",
      "1148/1148 [==============================] - 0s 109us/step - loss: 0.2786 - accuracy: 0.8737\n",
      "Epoch 62/100\n",
      "1148/1148 [==============================] - 0s 88us/step - loss: 0.2972 - accuracy: 0.8693\n",
      "Epoch 63/100\n",
      "1148/1148 [==============================] - 0s 90us/step - loss: 0.2734 - accuracy: 0.8876\n",
      "Epoch 64/100\n",
      "1148/1148 [==============================] - 0s 88us/step - loss: 0.2663 - accuracy: 0.8902\n",
      "Epoch 65/100\n",
      "1148/1148 [==============================] - 0s 98us/step - loss: 0.2714 - accuracy: 0.8894\n",
      "Epoch 66/100\n",
      "1148/1148 [==============================] - 0s 85us/step - loss: 0.2754 - accuracy: 0.8798\n",
      "Epoch 67/100\n",
      "1148/1148 [==============================] - 0s 86us/step - loss: 0.2893 - accuracy: 0.8763\n",
      "Epoch 68/100\n",
      "1148/1148 [==============================] - 0s 87us/step - loss: 0.2668 - accuracy: 0.8780\n",
      "Epoch 69/100\n",
      "1148/1148 [==============================] - 0s 84us/step - loss: 0.2795 - accuracy: 0.8772\n",
      "Epoch 70/100\n",
      "1148/1148 [==============================] - 0s 90us/step - loss: 0.2760 - accuracy: 0.8789\n",
      "Epoch 71/100\n",
      "1148/1148 [==============================] - 0s 92us/step - loss: 0.2664 - accuracy: 0.8902\n",
      "Epoch 72/100\n",
      "1148/1148 [==============================] - 0s 76us/step - loss: 0.2755 - accuracy: 0.8772\n",
      "Epoch 73/100\n",
      "1148/1148 [==============================] - 0s 79us/step - loss: 0.2669 - accuracy: 0.8850\n",
      "Epoch 74/100\n",
      "1148/1148 [==============================] - 0s 84us/step - loss: 0.2552 - accuracy: 0.9007\n",
      "Epoch 75/100\n",
      "1148/1148 [==============================] - 0s 81us/step - loss: 0.2547 - accuracy: 0.8902\n",
      "Epoch 76/100\n",
      "1148/1148 [==============================] - 0s 90us/step - loss: 0.2657 - accuracy: 0.8763\n",
      "Epoch 77/100\n",
      "1148/1148 [==============================] - 0s 73us/step - loss: 0.2552 - accuracy: 0.8902\n",
      "Epoch 78/100\n",
      "1148/1148 [==============================] - 0s 76us/step - loss: 0.2490 - accuracy: 0.9059\n",
      "Epoch 79/100\n",
      "1148/1148 [==============================] - 0s 85us/step - loss: 0.2422 - accuracy: 0.8990\n",
      "Epoch 80/100\n",
      "1148/1148 [==============================] - 0s 83us/step - loss: 0.2420 - accuracy: 0.8946\n",
      "Epoch 81/100\n",
      "1148/1148 [==============================] - 0s 80us/step - loss: 0.2319 - accuracy: 0.8946\n",
      "Epoch 82/100\n",
      "1148/1148 [==============================] - 0s 78us/step - loss: 0.2504 - accuracy: 0.8981\n",
      "Epoch 83/100\n",
      "1148/1148 [==============================] - 0s 80us/step - loss: 0.2327 - accuracy: 0.9007\n",
      "Epoch 84/100\n",
      "1148/1148 [==============================] - 0s 77us/step - loss: 0.2268 - accuracy: 0.9077\n",
      "Epoch 85/100\n",
      "1148/1148 [==============================] - 0s 79us/step - loss: 0.2371 - accuracy: 0.9016\n",
      "Epoch 86/100\n",
      "1148/1148 [==============================] - 0s 77us/step - loss: 0.2407 - accuracy: 0.8998\n",
      "Epoch 87/100\n",
      "1148/1148 [==============================] - 0s 74us/step - loss: 0.2218 - accuracy: 0.8946\n",
      "Epoch 88/100\n",
      "1148/1148 [==============================] - 0s 77us/step - loss: 0.2198 - accuracy: 0.9085\n",
      "Epoch 89/100\n",
      "1148/1148 [==============================] - 0s 77us/step - loss: 0.2112 - accuracy: 0.9146\n",
      "Epoch 90/100\n",
      "1148/1148 [==============================] - 0s 72us/step - loss: 0.2388 - accuracy: 0.9033\n",
      "Epoch 91/100\n",
      "1148/1148 [==============================] - 0s 78us/step - loss: 0.2470 - accuracy: 0.8972\n",
      "Epoch 92/100\n",
      "1148/1148 [==============================] - 0s 80us/step - loss: 0.2260 - accuracy: 0.9111\n",
      "Epoch 93/100\n",
      "1148/1148 [==============================] - 0s 73us/step - loss: 0.2253 - accuracy: 0.9077\n",
      "Epoch 94/100\n",
      "1148/1148 [==============================] - 0s 89us/step - loss: 0.2168 - accuracy: 0.9120\n",
      "Epoch 95/100\n",
      "1148/1148 [==============================] - 0s 81us/step - loss: 0.1976 - accuracy: 0.9199\n",
      "Epoch 96/100\n",
      "1148/1148 [==============================] - 0s 81us/step - loss: 0.2070 - accuracy: 0.9268\n",
      "Epoch 97/100\n",
      "1148/1148 [==============================] - 0s 82us/step - loss: 0.2120 - accuracy: 0.9103\n",
      "Epoch 98/100\n",
      "1148/1148 [==============================] - 0s 80us/step - loss: 0.2019 - accuracy: 0.9207\n",
      "Epoch 99/100\n",
      "1148/1148 [==============================] - 0s 90us/step - loss: 0.2205 - accuracy: 0.9059\n",
      "Epoch 100/100\n",
      "1148/1148 [==============================] - 0s 95us/step - loss: 0.2026 - accuracy: 0.9233\n"
     ]
    },
    {
     "data": {
      "image/png": "[encoded data removed]",
      "text/plain": [
       "<Figure size 432x288 with 1 Axes>"
      ]
     },
     "metadata": {
      "needs_background": "light"
     },
     "output_type": "display_data"
    },
    {
     "name": "stdout",
     "output_type": "stream",
     "text": [
      "1148/1148 [==============================] - 0s 119us/step\n",
      "288/288 [==============================] - 0s 39us/step\n",
      "[0.8801835683995423, 0.7952961921691895]\n",
      "[1.1442293127377827, 0.7638888955116272]\n",
      "Model: \"dnn_ge\"\n",
      "_________________________________________________________________\n",
      "Layer (type)                 Output Shape              Param #   \n",
      "=================================================================\n",
      "input_39 (InputLayer)        (None, 368)               0         \n",
      "_________________________________________________________________\n",
      "dense_121 (Dense)            (None, 64)                23616     \n",
      "_________________________________________________________________\n",
      "batch_normalization_46 (Batc (None, 64)                256       \n",
      "_________________________________________________________________\n",
      "dense_122 (Dense)            (None, 32)                2080      \n",
      "_________________________________________________________________\n",
      "batch_normalization_47 (Batc (None, 32)                128       \n",
      "_________________________________________________________________\n",
      "dense_123 (Dense)            (None, 16)                528       \n",
      "_________________________________________________________________\n",
      "batch_normalization_48 (Batc (None, 16)                64        \n",
      "_________________________________________________________________\n",
      "dense_124 (Dense)            (None, 2)                 34        \n",
      "=================================================================\n",
      "Total params: 26,706\n",
      "Trainable params: 26,482\n",
      "Non-trainable params: 224\n",
      "_________________________________________________________________\n"
     ]
    },
    {
     "name": "stderr",
     "output_type": "stream",
     "text": [
      "/Users/zohrehwmac/.local/lib/python3.7/site-packages/sklearn/utils/validation.py:71: FutureWarning: Pass classes=[0 1], y=[1 1 1 ... 0 1 0] as keyword args. From version 0.25 passing these as positional arguments will result in an error\n",
      "  FutureWarning)\n"
     ]
    },
    {
     "name": "stdout",
     "output_type": "stream",
     "text": [
      "Epoch 1/100\n",
      "1149/1149 [==============================] - 0s 425us/step - loss: 0.7416 - accuracy: 0.5753\n",
      "Epoch 2/100\n",
      "1149/1149 [==============================] - 0s 75us/step - loss: 0.6024 - accuracy: 0.6815\n",
      "Epoch 3/100\n",
      "1149/1149 [==============================] - 0s 73us/step - loss: 0.5457 - accuracy: 0.7406\n",
      "Epoch 4/100\n",
      "1149/1149 [==============================] - 0s 74us/step - loss: 0.5272 - accuracy: 0.7650\n",
      "Epoch 5/100\n",
      "1149/1149 [==============================] - 0s 73us/step - loss: 0.5006 - accuracy: 0.7781\n",
      "Epoch 6/100\n",
      "1149/1149 [==============================] - 0s 75us/step - loss: 0.4898 - accuracy: 0.7789\n",
      "Epoch 7/100\n",
      "1149/1149 [==============================] - 0s 72us/step - loss: 0.4810 - accuracy: 0.7815\n",
      "Epoch 8/100\n",
      "1149/1149 [==============================] - 0s 72us/step - loss: 0.4645 - accuracy: 0.7920\n",
      "Epoch 9/100\n",
      "1149/1149 [==============================] - 0s 74us/step - loss: 0.4641 - accuracy: 0.7920\n",
      "Epoch 10/100\n",
      "1149/1149 [==============================] - 0s 73us/step - loss: 0.4528 - accuracy: 0.7903\n",
      "Epoch 11/100\n",
      "1149/1149 [==============================] - 0s 76us/step - loss: 0.4439 - accuracy: 0.8042\n",
      "Epoch 12/100\n",
      "1149/1149 [==============================] - 0s 74us/step - loss: 0.4432 - accuracy: 0.8024\n",
      "Epoch 13/100\n",
      "1149/1149 [==============================] - 0s 72us/step - loss: 0.4397 - accuracy: 0.7981\n",
      "Epoch 14/100\n",
      "1149/1149 [==============================] - 0s 73us/step - loss: 0.4393 - accuracy: 0.7929\n",
      "Epoch 15/100\n",
      "1149/1149 [==============================] - 0s 72us/step - loss: 0.4296 - accuracy: 0.7946\n",
      "Epoch 16/100\n",
      "1149/1149 [==============================] - 0s 75us/step - loss: 0.4222 - accuracy: 0.8007\n",
      "Epoch 17/100\n",
      "1149/1149 [==============================] - 0s 78us/step - loss: 0.4178 - accuracy: 0.8164\n",
      "Epoch 18/100\n",
      "1149/1149 [==============================] - 0s 82us/step - loss: 0.4159 - accuracy: 0.8155\n",
      "Epoch 19/100\n",
      "1149/1149 [==============================] - 0s 81us/step - loss: 0.4139 - accuracy: 0.8129\n",
      "Epoch 20/100\n",
      "1149/1149 [==============================] - 0s 76us/step - loss: 0.4118 - accuracy: 0.8129\n",
      "Epoch 21/100\n",
      "1149/1149 [==============================] - 0s 71us/step - loss: 0.4064 - accuracy: 0.8155\n",
      "Epoch 22/100\n",
      "1149/1149 [==============================] - 0s 75us/step - loss: 0.3982 - accuracy: 0.8207\n",
      "Epoch 23/100\n",
      "1149/1149 [==============================] - 0s 94us/step - loss: 0.3979 - accuracy: 0.8181\n",
      "Epoch 24/100\n",
      "1149/1149 [==============================] - 0s 82us/step - loss: 0.3988 - accuracy: 0.8198\n",
      "Epoch 25/100\n",
      "1149/1149 [==============================] - 0s 78us/step - loss: 0.3854 - accuracy: 0.8216\n",
      "Epoch 26/100\n",
      "1149/1149 [==============================] - 0s 77us/step - loss: 0.3886 - accuracy: 0.8233\n",
      "Epoch 27/100\n",
      "1149/1149 [==============================] - 0s 86us/step - loss: 0.3823 - accuracy: 0.8225\n",
      "Epoch 28/100\n",
      "1149/1149 [==============================] - 0s 93us/step - loss: 0.3836 - accuracy: 0.8190\n",
      "Epoch 29/100\n",
      "1149/1149 [==============================] - 0s 73us/step - loss: 0.3711 - accuracy: 0.8268\n",
      "Epoch 30/100\n",
      "1149/1149 [==============================] - 0s 76us/step - loss: 0.3641 - accuracy: 0.8285\n",
      "Epoch 31/100\n",
      "1149/1149 [==============================] - 0s 83us/step - loss: 0.3620 - accuracy: 0.8355\n",
      "Epoch 32/100\n",
      "1149/1149 [==============================] - 0s 85us/step - loss: 0.3621 - accuracy: 0.8399\n",
      "Epoch 33/100\n",
      "1149/1149 [==============================] - 0s 82us/step - loss: 0.3679 - accuracy: 0.8407\n",
      "Epoch 34/100\n",
      "1149/1149 [==============================] - 0s 73us/step - loss: 0.3460 - accuracy: 0.8407\n",
      "Epoch 35/100\n",
      "1149/1149 [==============================] - 0s 75us/step - loss: 0.3631 - accuracy: 0.8399\n",
      "Epoch 36/100\n",
      "1149/1149 [==============================] - 0s 80us/step - loss: 0.3545 - accuracy: 0.8407\n",
      "Epoch 37/100\n",
      "1149/1149 [==============================] - 0s 73us/step - loss: 0.3439 - accuracy: 0.8425\n",
      "Epoch 38/100\n",
      "1149/1149 [==============================] - 0s 78us/step - loss: 0.3513 - accuracy: 0.8486\n",
      "Epoch 39/100\n",
      "1149/1149 [==============================] - 0s 77us/step - loss: 0.3353 - accuracy: 0.8520\n",
      "Epoch 40/100\n",
      "1149/1149 [==============================] - 0s 75us/step - loss: 0.3322 - accuracy: 0.8581\n",
      "Epoch 41/100\n",
      "1149/1149 [==============================] - 0s 90us/step - loss: 0.3391 - accuracy: 0.8547\n",
      "Epoch 42/100\n",
      "1149/1149 [==============================] - 0s 83us/step - loss: 0.3370 - accuracy: 0.8477\n",
      "Epoch 43/100\n",
      "1149/1149 [==============================] - 0s 79us/step - loss: 0.3332 - accuracy: 0.8573\n",
      "Epoch 44/100\n",
      "1149/1149 [==============================] - 0s 84us/step - loss: 0.3323 - accuracy: 0.8520\n",
      "Epoch 45/100\n",
      "1149/1149 [==============================] - 0s 78us/step - loss: 0.3223 - accuracy: 0.8538\n",
      "Epoch 46/100\n",
      "1149/1149 [==============================] - 0s 88us/step - loss: 0.3242 - accuracy: 0.8599\n",
      "Epoch 47/100\n",
      "1149/1149 [==============================] - 0s 88us/step - loss: 0.3211 - accuracy: 0.8503\n",
      "Epoch 48/100\n",
      "1149/1149 [==============================] - 0s 74us/step - loss: 0.3079 - accuracy: 0.8642\n",
      "Epoch 49/100\n",
      "1149/1149 [==============================] - 0s 74us/step - loss: 0.3175 - accuracy: 0.8660\n",
      "Epoch 50/100\n",
      "1149/1149 [==============================] - 0s 83us/step - loss: 0.2986 - accuracy: 0.8729\n",
      "Epoch 51/100\n",
      "1149/1149 [==============================] - 0s 76us/step - loss: 0.3092 - accuracy: 0.8590\n",
      "Epoch 52/100\n",
      "1149/1149 [==============================] - 0s 82us/step - loss: 0.3101 - accuracy: 0.8616\n",
      "Epoch 53/100\n",
      "1149/1149 [==============================] - 0s 75us/step - loss: 0.3123 - accuracy: 0.8573\n",
      "Epoch 54/100\n",
      "1149/1149 [==============================] - 0s 75us/step - loss: 0.3046 - accuracy: 0.8668\n",
      "Epoch 55/100\n",
      "1149/1149 [==============================] - 0s 82us/step - loss: 0.3004 - accuracy: 0.8686\n",
      "Epoch 56/100\n",
      "1149/1149 [==============================] - 0s 75us/step - loss: 0.2928 - accuracy: 0.8738\n",
      "Epoch 57/100\n",
      "1149/1149 [==============================] - 0s 75us/step - loss: 0.2827 - accuracy: 0.8782\n",
      "Epoch 58/100\n",
      "1149/1149 [==============================] - 0s 81us/step - loss: 0.2784 - accuracy: 0.8886\n",
      "Epoch 59/100\n",
      "1149/1149 [==============================] - 0s 81us/step - loss: 0.2822 - accuracy: 0.8842\n",
      "Epoch 60/100\n",
      "1149/1149 [==============================] - 0s 74us/step - loss: 0.2819 - accuracy: 0.8764\n",
      "Epoch 61/100\n",
      "1149/1149 [==============================] - 0s 75us/step - loss: 0.2763 - accuracy: 0.8816\n",
      "Epoch 62/100\n",
      "1149/1149 [==============================] - 0s 93us/step - loss: 0.3006 - accuracy: 0.8660\n",
      "Epoch 63/100\n",
      "1149/1149 [==============================] - 0s 86us/step - loss: 0.2801 - accuracy: 0.8834\n",
      "Epoch 64/100\n",
      "1149/1149 [==============================] - 0s 78us/step - loss: 0.2636 - accuracy: 0.8912\n",
      "Epoch 65/100\n",
      "1149/1149 [==============================] - 0s 76us/step - loss: 0.2754 - accuracy: 0.8834\n",
      "Epoch 66/100\n",
      "1149/1149 [==============================] - 0s 74us/step - loss: 0.2712 - accuracy: 0.8825\n",
      "Epoch 67/100\n",
      "1149/1149 [==============================] - 0s 81us/step - loss: 0.2669 - accuracy: 0.8886\n",
      "Epoch 68/100\n",
      "1149/1149 [==============================] - 0s 79us/step - loss: 0.2869 - accuracy: 0.8729\n",
      "Epoch 69/100\n",
      "1149/1149 [==============================] - 0s 89us/step - loss: 0.2673 - accuracy: 0.8973\n",
      "Epoch 70/100\n",
      "1149/1149 [==============================] - 0s 81us/step - loss: 0.2675 - accuracy: 0.8816\n",
      "Epoch 71/100\n",
      "1149/1149 [==============================] - 0s 76us/step - loss: 0.2537 - accuracy: 0.9025\n",
      "Epoch 72/100\n",
      "1149/1149 [==============================] - 0s 78us/step - loss: 0.2542 - accuracy: 0.8947\n",
      "Epoch 73/100\n",
      "1149/1149 [==============================] - 0s 80us/step - loss: 0.2334 - accuracy: 0.9138\n",
      "Epoch 74/100\n",
      "1149/1149 [==============================] - 0s 76us/step - loss: 0.2507 - accuracy: 0.9051\n",
      "Epoch 75/100\n",
      "1149/1149 [==============================] - 0s 74us/step - loss: 0.2468 - accuracy: 0.8956\n",
      "Epoch 76/100\n",
      "1149/1149 [==============================] - 0s 87us/step - loss: 0.2486 - accuracy: 0.8999\n",
      "Epoch 77/100\n",
      "1149/1149 [==============================] - 0s 87us/step - loss: 0.2472 - accuracy: 0.8886\n",
      "Epoch 78/100\n",
      "1149/1149 [==============================] - 0s 74us/step - loss: 0.2485 - accuracy: 0.8895\n",
      "Epoch 79/100\n"
     ]
    },
    {
     "name": "stdout",
     "output_type": "stream",
     "text": [
      "1149/1149 [==============================] - 0s 85us/step - loss: 0.2324 - accuracy: 0.9043\n",
      "Epoch 80/100\n",
      "1149/1149 [==============================] - 0s 78us/step - loss: 0.2459 - accuracy: 0.8903\n",
      "Epoch 81/100\n",
      "1149/1149 [==============================] - 0s 72us/step - loss: 0.2323 - accuracy: 0.9025\n",
      "Epoch 82/100\n",
      "1149/1149 [==============================] - 0s 74us/step - loss: 0.2367 - accuracy: 0.9086\n",
      "Epoch 83/100\n",
      "1149/1149 [==============================] - 0s 70us/step - loss: 0.2498 - accuracy: 0.8947\n",
      "Epoch 84/100\n",
      "1149/1149 [==============================] - 0s 78us/step - loss: 0.2356 - accuracy: 0.9060\n",
      "Epoch 85/100\n",
      "1149/1149 [==============================] - 0s 71us/step - loss: 0.2162 - accuracy: 0.9086\n",
      "Epoch 86/100\n",
      "1149/1149 [==============================] - 0s 75us/step - loss: 0.2218 - accuracy: 0.9121\n",
      "Epoch 87/100\n",
      "1149/1149 [==============================] - 0s 76us/step - loss: 0.2170 - accuracy: 0.9104\n",
      "Epoch 88/100\n",
      "1149/1149 [==============================] - 0s 89us/step - loss: 0.2181 - accuracy: 0.9164\n",
      "Epoch 89/100\n",
      "1149/1149 [==============================] - 0s 87us/step - loss: 0.2214 - accuracy: 0.9121\n",
      "Epoch 90/100\n",
      "1149/1149 [==============================] - 0s 82us/step - loss: 0.2125 - accuracy: 0.9060\n",
      "Epoch 91/100\n",
      "1149/1149 [==============================] - 0s 83us/step - loss: 0.2365 - accuracy: 0.9008\n",
      "Epoch 92/100\n",
      "1149/1149 [==============================] - 0s 75us/step - loss: 0.2183 - accuracy: 0.9051\n",
      "Epoch 93/100\n",
      "1149/1149 [==============================] - 0s 74us/step - loss: 0.2103 - accuracy: 0.9156\n",
      "Epoch 94/100\n",
      "1149/1149 [==============================] - 0s 78us/step - loss: 0.2050 - accuracy: 0.9173\n",
      "Epoch 95/100\n",
      "1149/1149 [==============================] - 0s 76us/step - loss: 0.2141 - accuracy: 0.9182\n",
      "Epoch 96/100\n",
      "1149/1149 [==============================] - 0s 76us/step - loss: 0.2017 - accuracy: 0.9260\n",
      "Epoch 97/100\n",
      "1149/1149 [==============================] - 0s 79us/step - loss: 0.1910 - accuracy: 0.9217\n",
      "Epoch 98/100\n",
      "1149/1149 [==============================] - 0s 88us/step - loss: 0.1992 - accuracy: 0.9260\n",
      "Epoch 99/100\n",
      "1149/1149 [==============================] - 0s 85us/step - loss: 0.2071 - accuracy: 0.9130\n",
      "Epoch 100/100\n",
      "1149/1149 [==============================] - 0s 72us/step - loss: 0.2007 - accuracy: 0.9217\n"
     ]
    },
    {
     "data": {
      "image/png": "[encoded data removed]",
      "text/plain": [
       "<Figure size 432x288 with 1 Axes>"
      ]
     },
     "metadata": {
      "needs_background": "light"
     },
     "output_type": "display_data"
    },
    {
     "name": "stdout",
     "output_type": "stream",
     "text": [
      "1149/1149 [==============================] - 0s 97us/step\n",
      "287/287 [==============================] - 0s 52us/step\n",
      "[0.3503463868346808, 0.8642297387123108]\n",
      "[0.7061341855584121, 0.7700348496437073]\n",
      "Model: \"dnn_ge\"\n",
      "_________________________________________________________________\n",
      "Layer (type)                 Output Shape              Param #   \n",
      "=================================================================\n",
      "input_40 (InputLayer)        (None, 368)               0         \n",
      "_________________________________________________________________\n",
      "dense_125 (Dense)            (None, 64)                23616     \n",
      "_________________________________________________________________\n",
      "batch_normalization_49 (Batc (None, 64)                256       \n",
      "_________________________________________________________________\n",
      "dense_126 (Dense)            (None, 32)                2080      \n",
      "_________________________________________________________________\n",
      "batch_normalization_50 (Batc (None, 32)                128       \n",
      "_________________________________________________________________\n",
      "dense_127 (Dense)            (None, 16)                528       \n",
      "_________________________________________________________________\n",
      "batch_normalization_51 (Batc (None, 16)                64        \n",
      "_________________________________________________________________\n",
      "dense_128 (Dense)            (None, 2)                 34        \n",
      "=================================================================\n",
      "Total params: 26,706\n",
      "Trainable params: 26,482\n",
      "Non-trainable params: 224\n",
      "_________________________________________________________________\n"
     ]
    },
    {
     "name": "stderr",
     "output_type": "stream",
     "text": [
      "/Users/zohrehwmac/.local/lib/python3.7/site-packages/sklearn/utils/validation.py:71: FutureWarning: Pass classes=[0 1], y=[1 1 1 ... 0 1 0] as keyword args. From version 0.25 passing these as positional arguments will result in an error\n",
      "  FutureWarning)\n"
     ]
    },
    {
     "name": "stdout",
     "output_type": "stream",
     "text": [
      "Epoch 1/100\n",
      "1149/1149 [==============================] - 0s 426us/step - loss: 0.7599 - accuracy: 0.5709\n",
      "Epoch 2/100\n",
      "1149/1149 [==============================] - 0s 84us/step - loss: 0.6003 - accuracy: 0.6832\n",
      "Epoch 3/100\n",
      "1149/1149 [==============================] - 0s 88us/step - loss: 0.5485 - accuracy: 0.7406\n",
      "Epoch 4/100\n",
      "1149/1149 [==============================] - 0s 81us/step - loss: 0.5205 - accuracy: 0.7676\n",
      "Epoch 5/100\n",
      "1149/1149 [==============================] - 0s 80us/step - loss: 0.5033 - accuracy: 0.7789\n",
      "Epoch 6/100\n",
      "1149/1149 [==============================] - 0s 72us/step - loss: 0.4946 - accuracy: 0.7833\n",
      "Epoch 7/100\n",
      "1149/1149 [==============================] - 0s 75us/step - loss: 0.4762 - accuracy: 0.7929\n",
      "Epoch 8/100\n",
      "1149/1149 [==============================] - 0s 90us/step - loss: 0.4751 - accuracy: 0.7937\n",
      "Epoch 9/100\n",
      "1149/1149 [==============================] - 0s 78us/step - loss: 0.4608 - accuracy: 0.8007\n",
      "Epoch 10/100\n",
      "1149/1149 [==============================] - 0s 73us/step - loss: 0.4614 - accuracy: 0.7937\n",
      "Epoch 11/100\n",
      "1149/1149 [==============================] - 0s 75us/step - loss: 0.4622 - accuracy: 0.7946\n",
      "Epoch 12/100\n",
      "1149/1149 [==============================] - 0s 81us/step - loss: 0.4467 - accuracy: 0.7963\n",
      "Epoch 13/100\n",
      "1149/1149 [==============================] - 0s 73us/step - loss: 0.4458 - accuracy: 0.7963\n",
      "Epoch 14/100\n",
      "1149/1149 [==============================] - 0s 72us/step - loss: 0.4390 - accuracy: 0.8077\n",
      "Epoch 15/100\n",
      "1149/1149 [==============================] - 0s 69us/step - loss: 0.4345 - accuracy: 0.8198\n",
      "Epoch 16/100\n",
      "1149/1149 [==============================] - 0s 78us/step - loss: 0.4345 - accuracy: 0.8155\n",
      "Epoch 17/100\n",
      "1149/1149 [==============================] - 0s 72us/step - loss: 0.4241 - accuracy: 0.8120\n",
      "Epoch 18/100\n",
      "1149/1149 [==============================] - 0s 75us/step - loss: 0.4091 - accuracy: 0.8138\n",
      "Epoch 19/100\n",
      "1149/1149 [==============================] - 0s 77us/step - loss: 0.4135 - accuracy: 0.8094\n",
      "Epoch 20/100\n",
      "1149/1149 [==============================] - 0s 77us/step - loss: 0.4034 - accuracy: 0.8172\n",
      "Epoch 21/100\n",
      "1149/1149 [==============================] - 0s 75us/step - loss: 0.4163 - accuracy: 0.8138\n",
      "Epoch 22/100\n",
      "1149/1149 [==============================] - 0s 85us/step - loss: 0.3980 - accuracy: 0.8242\n",
      "Epoch 23/100\n",
      "1149/1149 [==============================] - 0s 101us/step - loss: 0.3918 - accuracy: 0.8277\n",
      "Epoch 24/100\n",
      "1149/1149 [==============================] - 0s 75us/step - loss: 0.4045 - accuracy: 0.8155\n",
      "Epoch 25/100\n",
      "1149/1149 [==============================] - 0s 76us/step - loss: 0.3874 - accuracy: 0.8251\n",
      "Epoch 26/100\n",
      "1149/1149 [==============================] - 0s 79us/step - loss: 0.3883 - accuracy: 0.8138\n",
      "Epoch 27/100\n",
      "1149/1149 [==============================] - 0s 84us/step - loss: 0.3947 - accuracy: 0.8233\n",
      "Epoch 28/100\n",
      "1149/1149 [==============================] - 0s 85us/step - loss: 0.3757 - accuracy: 0.8320\n",
      "Epoch 29/100\n",
      "1149/1149 [==============================] - 0s 71us/step - loss: 0.3738 - accuracy: 0.8251\n",
      "Epoch 30/100\n",
      "1149/1149 [==============================] - 0s 75us/step - loss: 0.3790 - accuracy: 0.8355\n",
      "Epoch 31/100\n",
      "1149/1149 [==============================] - 0s 74us/step - loss: 0.3653 - accuracy: 0.8381\n",
      "Epoch 32/100\n",
      "1149/1149 [==============================] - 0s 76us/step - loss: 0.3684 - accuracy: 0.8277\n",
      "Epoch 33/100\n",
      "1149/1149 [==============================] - 0s 79us/step - loss: 0.3597 - accuracy: 0.8390\n",
      "Epoch 34/100\n",
      "1149/1149 [==============================] - 0s 90us/step - loss: 0.3657 - accuracy: 0.8416\n",
      "Epoch 35/100\n",
      "1149/1149 [==============================] - 0s 88us/step - loss: 0.3660 - accuracy: 0.8294\n",
      "Epoch 36/100\n",
      "1149/1149 [==============================] - 0s 79us/step - loss: 0.3566 - accuracy: 0.8355\n",
      "Epoch 37/100\n",
      "1149/1149 [==============================] - 0s 84us/step - loss: 0.3478 - accuracy: 0.8477\n",
      "Epoch 38/100\n",
      "1149/1149 [==============================] - 0s 81us/step - loss: 0.3620 - accuracy: 0.8442\n",
      "Epoch 39/100\n",
      "1149/1149 [==============================] - 0s 75us/step - loss: 0.3522 - accuracy: 0.8451\n",
      "Epoch 40/100\n",
      "1149/1149 [==============================] - 0s 75us/step - loss: 0.3414 - accuracy: 0.8486\n",
      "Epoch 41/100\n",
      "1149/1149 [==============================] - 0s 80us/step - loss: 0.3461 - accuracy: 0.8460\n",
      "Epoch 42/100\n",
      "1149/1149 [==============================] - 0s 89us/step - loss: 0.3510 - accuracy: 0.8390\n",
      "Epoch 43/100\n",
      "1149/1149 [==============================] - 0s 89us/step - loss: 0.3220 - accuracy: 0.8555\n",
      "Epoch 44/100\n",
      "1149/1149 [==============================] - 0s 76us/step - loss: 0.3236 - accuracy: 0.8477\n",
      "Epoch 45/100\n",
      "1149/1149 [==============================] - 0s 74us/step - loss: 0.3212 - accuracy: 0.8538\n",
      "Epoch 46/100\n",
      "1149/1149 [==============================] - 0s 76us/step - loss: 0.3254 - accuracy: 0.8564\n",
      "Epoch 47/100\n",
      "1149/1149 [==============================] - 0s 85us/step - loss: 0.3278 - accuracy: 0.8451\n",
      "Epoch 48/100\n",
      "1149/1149 [==============================] - 0s 78us/step - loss: 0.3278 - accuracy: 0.8581\n",
      "Epoch 49/100\n",
      "1149/1149 [==============================] - 0s 75us/step - loss: 0.3181 - accuracy: 0.8660\n",
      "Epoch 50/100\n",
      "1149/1149 [==============================] - 0s 75us/step - loss: 0.3195 - accuracy: 0.8538\n",
      "Epoch 51/100\n",
      "1149/1149 [==============================] - 0s 82us/step - loss: 0.3323 - accuracy: 0.8477\n",
      "Epoch 52/100\n",
      "1149/1149 [==============================] - 0s 75us/step - loss: 0.3103 - accuracy: 0.8686\n",
      "Epoch 53/100\n",
      "1149/1149 [==============================] - 0s 89us/step - loss: 0.3103 - accuracy: 0.8651\n",
      "Epoch 54/100\n",
      "1149/1149 [==============================] - 0s 89us/step - loss: 0.3139 - accuracy: 0.8607\n",
      "Epoch 55/100\n",
      "1149/1149 [==============================] - 0s 76us/step - loss: 0.2949 - accuracy: 0.8755\n",
      "Epoch 56/100\n",
      "1149/1149 [==============================] - 0s 76us/step - loss: 0.3234 - accuracy: 0.8573\n",
      "Epoch 57/100\n",
      "1149/1149 [==============================] - 0s 82us/step - loss: 0.2976 - accuracy: 0.8773\n",
      "Epoch 58/100\n",
      "1149/1149 [==============================] - 0s 82us/step - loss: 0.2907 - accuracy: 0.8825\n",
      "Epoch 59/100\n",
      "1149/1149 [==============================] - 0s 83us/step - loss: 0.3057 - accuracy: 0.8703\n",
      "Epoch 60/100\n",
      "1149/1149 [==============================] - 0s 77us/step - loss: 0.2916 - accuracy: 0.8782\n",
      "Epoch 61/100\n",
      "1149/1149 [==============================] - 0s 76us/step - loss: 0.2968 - accuracy: 0.8660\n",
      "Epoch 62/100\n",
      "1149/1149 [==============================] - 0s 87us/step - loss: 0.2939 - accuracy: 0.8686\n",
      "Epoch 63/100\n",
      "1149/1149 [==============================] - 0s 80us/step - loss: 0.2845 - accuracy: 0.8808\n",
      "Epoch 64/100\n",
      "1149/1149 [==============================] - 0s 85us/step - loss: 0.2786 - accuracy: 0.8799\n",
      "Epoch 65/100\n",
      "1149/1149 [==============================] - 0s 89us/step - loss: 0.2965 - accuracy: 0.8729\n",
      "Epoch 66/100\n",
      "1149/1149 [==============================] - 0s 79us/step - loss: 0.2790 - accuracy: 0.8851\n",
      "Epoch 67/100\n",
      "1149/1149 [==============================] - 0s 76us/step - loss: 0.2718 - accuracy: 0.8869\n",
      "Epoch 68/100\n",
      "1149/1149 [==============================] - 0s 80us/step - loss: 0.2769 - accuracy: 0.8886\n",
      "Epoch 69/100\n",
      "1149/1149 [==============================] - 0s 116us/step - loss: 0.2657 - accuracy: 0.8808\n",
      "Epoch 70/100\n",
      "1149/1149 [==============================] - 0s 84us/step - loss: 0.2574 - accuracy: 0.8869\n",
      "Epoch 71/100\n",
      "1149/1149 [==============================] - 0s 79us/step - loss: 0.2709 - accuracy: 0.8738\n",
      "Epoch 72/100\n",
      "1149/1149 [==============================] - 0s 80us/step - loss: 0.2649 - accuracy: 0.8912\n",
      "Epoch 73/100\n",
      "1149/1149 [==============================] - 0s 75us/step - loss: 0.2408 - accuracy: 0.9069\n",
      "Epoch 74/100\n",
      "1149/1149 [==============================] - 0s 79us/step - loss: 0.2425 - accuracy: 0.8999\n",
      "Epoch 75/100\n",
      "1149/1149 [==============================] - 0s 86us/step - loss: 0.2669 - accuracy: 0.8860\n",
      "Epoch 76/100\n",
      "1149/1149 [==============================] - 0s 81us/step - loss: 0.2571 - accuracy: 0.8886\n",
      "Epoch 77/100\n",
      "1149/1149 [==============================] - 0s 81us/step - loss: 0.2383 - accuracy: 0.8938\n",
      "Epoch 78/100\n",
      "1149/1149 [==============================] - 0s 84us/step - loss: 0.2413 - accuracy: 0.9008\n",
      "Epoch 79/100\n"
     ]
    },
    {
     "name": "stdout",
     "output_type": "stream",
     "text": [
      "1149/1149 [==============================] - 0s 78us/step - loss: 0.2280 - accuracy: 0.9086\n",
      "Epoch 80/100\n",
      "1149/1149 [==============================] - 0s 87us/step - loss: 0.2372 - accuracy: 0.8930\n",
      "Epoch 81/100\n",
      "1149/1149 [==============================] - 0s 80us/step - loss: 0.2461 - accuracy: 0.8990\n",
      "Epoch 82/100\n",
      "1149/1149 [==============================] - 0s 81us/step - loss: 0.2457 - accuracy: 0.8973\n",
      "Epoch 83/100\n",
      "1149/1149 [==============================] - 0s 74us/step - loss: 0.2555 - accuracy: 0.8895\n",
      "Epoch 84/100\n",
      "1149/1149 [==============================] - 0s 80us/step - loss: 0.2487 - accuracy: 0.8964\n",
      "Epoch 85/100\n",
      "1149/1149 [==============================] - 0s 73us/step - loss: 0.2120 - accuracy: 0.9121\n",
      "Epoch 86/100\n",
      "1149/1149 [==============================] - 0s 86us/step - loss: 0.2101 - accuracy: 0.9217\n",
      "Epoch 87/100\n",
      "1149/1149 [==============================] - 0s 90us/step - loss: 0.2161 - accuracy: 0.9086\n",
      "Epoch 88/100\n",
      "1149/1149 [==============================] - 0s 78us/step - loss: 0.2379 - accuracy: 0.8947\n",
      "Epoch 89/100\n",
      "1149/1149 [==============================] - 0s 81us/step - loss: 0.2338 - accuracy: 0.9051\n",
      "Epoch 90/100\n",
      "1149/1149 [==============================] - 0s 76us/step - loss: 0.2144 - accuracy: 0.9104\n",
      "Epoch 91/100\n",
      "1149/1149 [==============================] - 0s 81us/step - loss: 0.2119 - accuracy: 0.9199\n",
      "Epoch 92/100\n",
      "1149/1149 [==============================] - 0s 92us/step - loss: 0.2241 - accuracy: 0.8982\n",
      "Epoch 93/100\n",
      "1149/1149 [==============================] - 0s 77us/step - loss: 0.2144 - accuracy: 0.9121\n",
      "Epoch 94/100\n",
      "1149/1149 [==============================] - 0s 84us/step - loss: 0.2259 - accuracy: 0.9051\n",
      "Epoch 95/100\n",
      "1149/1149 [==============================] - 0s 84us/step - loss: 0.1962 - accuracy: 0.9138\n",
      "Epoch 96/100\n",
      "1149/1149 [==============================] - 0s 77us/step - loss: 0.2110 - accuracy: 0.9077\n",
      "Epoch 97/100\n",
      "1149/1149 [==============================] - 0s 90us/step - loss: 0.2309 - accuracy: 0.9060\n",
      "Epoch 98/100\n",
      "1149/1149 [==============================] - 0s 77us/step - loss: 0.1911 - accuracy: 0.9234\n",
      "Epoch 99/100\n",
      "1149/1149 [==============================] - 0s 80us/step - loss: 0.2548 - accuracy: 0.8834\n",
      "Epoch 100/100\n",
      "1149/1149 [==============================] - 0s 76us/step - loss: 0.2224 - accuracy: 0.9104\n"
     ]
    },
    {
     "data": {
      "image/png": "[encoded data removed]",
      "text/plain": [
       "<Figure size 432x288 with 1 Axes>"
      ]
     },
     "metadata": {
      "needs_background": "light"
     },
     "output_type": "display_data"
    },
    {
     "name": "stdout",
     "output_type": "stream",
     "text": [
      "1149/1149 [==============================] - 0s 94us/step\n",
      "287/287 [==============================] - 0s 41us/step\n",
      "[0.35115435109956045, 0.8546562194824219]\n",
      "[0.694751124971835, 0.7282230257987976]\n",
      "Model: \"dnn_ge\"\n",
      "_________________________________________________________________\n",
      "Layer (type)                 Output Shape              Param #   \n",
      "=================================================================\n",
      "input_41 (InputLayer)        (None, 368)               0         \n",
      "_________________________________________________________________\n",
      "dense_129 (Dense)            (None, 64)                23616     \n",
      "_________________________________________________________________\n",
      "batch_normalization_52 (Batc (None, 64)                256       \n",
      "_________________________________________________________________\n",
      "dense_130 (Dense)            (None, 32)                2080      \n",
      "_________________________________________________________________\n",
      "batch_normalization_53 (Batc (None, 32)                128       \n",
      "_________________________________________________________________\n",
      "dense_131 (Dense)            (None, 16)                528       \n",
      "_________________________________________________________________\n",
      "batch_normalization_54 (Batc (None, 16)                64        \n",
      "_________________________________________________________________\n",
      "dense_132 (Dense)            (None, 2)                 34        \n",
      "=================================================================\n",
      "Total params: 26,706\n",
      "Trainable params: 26,482\n",
      "Non-trainable params: 224\n",
      "_________________________________________________________________\n"
     ]
    },
    {
     "name": "stderr",
     "output_type": "stream",
     "text": [
      "/Users/zohrehwmac/.local/lib/python3.7/site-packages/sklearn/utils/validation.py:71: FutureWarning: Pass classes=[0 1], y=[1 1 1 ... 1 1 0] as keyword args. From version 0.25 passing these as positional arguments will result in an error\n",
      "  FutureWarning)\n"
     ]
    },
    {
     "name": "stdout",
     "output_type": "stream",
     "text": [
      "Epoch 1/100\n",
      "1149/1149 [==============================] - 1s 440us/step - loss: 0.7627 - accuracy: 0.5561\n",
      "Epoch 2/100\n",
      "1149/1149 [==============================] - 0s 81us/step - loss: 0.5986 - accuracy: 0.6832\n",
      "Epoch 3/100\n",
      "1149/1149 [==============================] - 0s 84us/step - loss: 0.5512 - accuracy: 0.7285\n",
      "Epoch 4/100\n",
      "1149/1149 [==============================] - 0s 78us/step - loss: 0.5211 - accuracy: 0.7720\n",
      "Epoch 5/100\n",
      "1149/1149 [==============================] - 0s 81us/step - loss: 0.4965 - accuracy: 0.7659\n",
      "Epoch 6/100\n",
      "1149/1149 [==============================] - 0s 82us/step - loss: 0.4797 - accuracy: 0.7807\n",
      "Epoch 7/100\n",
      "1149/1149 [==============================] - 0s 91us/step - loss: 0.4725 - accuracy: 0.7903\n",
      "Epoch 8/100\n",
      "1149/1149 [==============================] - 0s 81us/step - loss: 0.4635 - accuracy: 0.7885\n",
      "Epoch 9/100\n",
      "1149/1149 [==============================] - 0s 87us/step - loss: 0.4462 - accuracy: 0.7990\n",
      "Epoch 10/100\n",
      "1149/1149 [==============================] - 0s 78us/step - loss: 0.4391 - accuracy: 0.7937\n",
      "Epoch 11/100\n",
      "1149/1149 [==============================] - 0s 88us/step - loss: 0.4324 - accuracy: 0.7946\n",
      "Epoch 12/100\n",
      "1149/1149 [==============================] - 0s 80us/step - loss: 0.4306 - accuracy: 0.8016\n",
      "Epoch 13/100\n",
      "1149/1149 [==============================] - 0s 95us/step - loss: 0.4288 - accuracy: 0.8016\n",
      "Epoch 14/100\n",
      "1149/1149 [==============================] - 0s 86us/step - loss: 0.4237 - accuracy: 0.8050\n",
      "Epoch 15/100\n",
      "1149/1149 [==============================] - 0s 75us/step - loss: 0.4181 - accuracy: 0.8155\n",
      "Epoch 16/100\n",
      "1149/1149 [==============================] - 0s 78us/step - loss: 0.4142 - accuracy: 0.8129\n",
      "Epoch 17/100\n",
      "1149/1149 [==============================] - 0s 79us/step - loss: 0.4112 - accuracy: 0.8111\n",
      "Epoch 18/100\n",
      "1149/1149 [==============================] - 0s 75us/step - loss: 0.4084 - accuracy: 0.8111\n",
      "Epoch 19/100\n",
      "1149/1149 [==============================] - 0s 77us/step - loss: 0.3983 - accuracy: 0.8207\n",
      "Epoch 20/100\n",
      "1149/1149 [==============================] - 0s 78us/step - loss: 0.4011 - accuracy: 0.8111\n",
      "Epoch 21/100\n",
      "1149/1149 [==============================] - 0s 80us/step - loss: 0.4011 - accuracy: 0.8120\n",
      "Epoch 22/100\n",
      "1149/1149 [==============================] - 0s 73us/step - loss: 0.3861 - accuracy: 0.8259\n",
      "Epoch 23/100\n",
      "1149/1149 [==============================] - 0s 75us/step - loss: 0.3814 - accuracy: 0.8277\n",
      "Epoch 24/100\n",
      "1149/1149 [==============================] - 0s 81us/step - loss: 0.3895 - accuracy: 0.8233\n",
      "Epoch 25/100\n",
      "1149/1149 [==============================] - 0s 74us/step - loss: 0.3783 - accuracy: 0.8294\n",
      "Epoch 26/100\n",
      "1149/1149 [==============================] - 0s 75us/step - loss: 0.3778 - accuracy: 0.8225\n",
      "Epoch 27/100\n",
      "1149/1149 [==============================] - 0s 80us/step - loss: 0.3721 - accuracy: 0.8198\n",
      "Epoch 28/100\n",
      "1149/1149 [==============================] - 0s 73us/step - loss: 0.3598 - accuracy: 0.8233\n",
      "Epoch 29/100\n",
      "1149/1149 [==============================] - 0s 74us/step - loss: 0.3597 - accuracy: 0.8372\n",
      "Epoch 30/100\n",
      "1149/1149 [==============================] - 0s 80us/step - loss: 0.3644 - accuracy: 0.8329\n",
      "Epoch 31/100\n",
      "1149/1149 [==============================] - 0s 76us/step - loss: 0.3598 - accuracy: 0.8425\n",
      "Epoch 32/100\n",
      "1149/1149 [==============================] - 0s 89us/step - loss: 0.3639 - accuracy: 0.8329\n",
      "Epoch 33/100\n",
      "1149/1149 [==============================] - 0s 82us/step - loss: 0.3553 - accuracy: 0.8520\n",
      "Epoch 34/100\n",
      "1149/1149 [==============================] - 0s 81us/step - loss: 0.3501 - accuracy: 0.8451\n",
      "Epoch 35/100\n",
      "1149/1149 [==============================] - 0s 81us/step - loss: 0.3413 - accuracy: 0.8416\n",
      "Epoch 36/100\n",
      "1149/1149 [==============================] - 0s 80us/step - loss: 0.3474 - accuracy: 0.8381\n",
      "Epoch 37/100\n",
      "1149/1149 [==============================] - 0s 92us/step - loss: 0.3433 - accuracy: 0.8433\n",
      "Epoch 38/100\n",
      "1149/1149 [==============================] - 0s 79us/step - loss: 0.3400 - accuracy: 0.8564\n",
      "Epoch 39/100\n",
      "1149/1149 [==============================] - 0s 88us/step - loss: 0.3343 - accuracy: 0.8547\n",
      "Epoch 40/100\n",
      "1149/1149 [==============================] - 0s 84us/step - loss: 0.3325 - accuracy: 0.8581\n",
      "Epoch 41/100\n",
      "1149/1149 [==============================] - 0s 89us/step - loss: 0.3236 - accuracy: 0.8590\n",
      "Epoch 42/100\n",
      "1149/1149 [==============================] - 0s 85us/step - loss: 0.3337 - accuracy: 0.8433\n",
      "Epoch 43/100\n",
      "1149/1149 [==============================] - 0s 83us/step - loss: 0.3321 - accuracy: 0.8512\n",
      "Epoch 44/100\n",
      "1149/1149 [==============================] - 0s 85us/step - loss: 0.3367 - accuracy: 0.8442\n",
      "Epoch 45/100\n",
      "1149/1149 [==============================] - 0s 86us/step - loss: 0.3160 - accuracy: 0.8634\n",
      "Epoch 46/100\n",
      "1149/1149 [==============================] - 0s 86us/step - loss: 0.3166 - accuracy: 0.8616\n",
      "Epoch 47/100\n",
      "1149/1149 [==============================] - 0s 84us/step - loss: 0.3150 - accuracy: 0.8651\n",
      "Epoch 48/100\n",
      "1149/1149 [==============================] - 0s 76us/step - loss: 0.3158 - accuracy: 0.8581\n",
      "Epoch 49/100\n",
      "1149/1149 [==============================] - 0s 78us/step - loss: 0.3011 - accuracy: 0.8581\n",
      "Epoch 50/100\n",
      "1149/1149 [==============================] - 0s 80us/step - loss: 0.3062 - accuracy: 0.8695\n",
      "Epoch 51/100\n",
      "1149/1149 [==============================] - 0s 74us/step - loss: 0.3056 - accuracy: 0.8651\n",
      "Epoch 52/100\n",
      "1149/1149 [==============================] - 0s 74us/step - loss: 0.3136 - accuracy: 0.8677\n",
      "Epoch 53/100\n",
      "1149/1149 [==============================] - 0s 79us/step - loss: 0.2960 - accuracy: 0.8764\n",
      "Epoch 54/100\n",
      "1149/1149 [==============================] - 0s 75us/step - loss: 0.3031 - accuracy: 0.8651\n",
      "Epoch 55/100\n",
      "1149/1149 [==============================] - 0s 73us/step - loss: 0.2913 - accuracy: 0.8738\n",
      "Epoch 56/100\n",
      "1149/1149 [==============================] - 0s 77us/step - loss: 0.2877 - accuracy: 0.8712\n",
      "Epoch 57/100\n",
      "1149/1149 [==============================] - 0s 83us/step - loss: 0.2915 - accuracy: 0.8651\n",
      "Epoch 58/100\n",
      "1149/1149 [==============================] - 0s 84us/step - loss: 0.3078 - accuracy: 0.8625\n",
      "Epoch 59/100\n",
      "1149/1149 [==============================] - 0s 76us/step - loss: 0.2817 - accuracy: 0.8782\n",
      "Epoch 60/100\n",
      "1149/1149 [==============================] - 0s 78us/step - loss: 0.2757 - accuracy: 0.8808\n",
      "Epoch 61/100\n",
      "1149/1149 [==============================] - 0s 79us/step - loss: 0.2918 - accuracy: 0.8712\n",
      "Epoch 62/100\n",
      "1149/1149 [==============================] - 0s 78us/step - loss: 0.2779 - accuracy: 0.8816\n",
      "Epoch 63/100\n",
      "1149/1149 [==============================] - 0s 74us/step - loss: 0.2698 - accuracy: 0.8816\n",
      "Epoch 64/100\n",
      "1149/1149 [==============================] - 0s 79us/step - loss: 0.2550 - accuracy: 0.8860\n",
      "Epoch 65/100\n",
      "1149/1149 [==============================] - 0s 71us/step - loss: 0.2609 - accuracy: 0.8982\n",
      "Epoch 66/100\n",
      "1149/1149 [==============================] - 0s 77us/step - loss: 0.2655 - accuracy: 0.8903\n",
      "Epoch 67/100\n",
      "1149/1149 [==============================] - 0s 89us/step - loss: 0.2629 - accuracy: 0.8877\n",
      "Epoch 68/100\n",
      "1149/1149 [==============================] - 0s 83us/step - loss: 0.2512 - accuracy: 0.8930\n",
      "Epoch 69/100\n",
      "1149/1149 [==============================] - 0s 78us/step - loss: 0.2458 - accuracy: 0.8947\n",
      "Epoch 70/100\n",
      "1149/1149 [==============================] - 0s 77us/step - loss: 0.2402 - accuracy: 0.8964\n",
      "Epoch 71/100\n",
      "1149/1149 [==============================] - 0s 84us/step - loss: 0.2470 - accuracy: 0.8999\n",
      "Epoch 72/100\n",
      "1149/1149 [==============================] - 0s 88us/step - loss: 0.2601 - accuracy: 0.8842\n",
      "Epoch 73/100\n",
      "1149/1149 [==============================] - 0s 89us/step - loss: 0.2613 - accuracy: 0.8938\n",
      "Epoch 74/100\n",
      "1149/1149 [==============================] - 0s 82us/step - loss: 0.2453 - accuracy: 0.9017\n",
      "Epoch 75/100\n",
      "1149/1149 [==============================] - 0s 87us/step - loss: 0.2342 - accuracy: 0.9025\n",
      "Epoch 76/100\n",
      "1149/1149 [==============================] - 0s 91us/step - loss: 0.2469 - accuracy: 0.8956\n",
      "Epoch 77/100\n",
      "1149/1149 [==============================] - 0s 85us/step - loss: 0.2519 - accuracy: 0.8895\n",
      "Epoch 78/100\n",
      "1149/1149 [==============================] - 0s 79us/step - loss: 0.2439 - accuracy: 0.8903\n",
      "Epoch 79/100\n"
     ]
    },
    {
     "name": "stdout",
     "output_type": "stream",
     "text": [
      "1149/1149 [==============================] - 0s 81us/step - loss: 0.2443 - accuracy: 0.8903\n",
      "Epoch 80/100\n",
      "1149/1149 [==============================] - 0s 75us/step - loss: 0.2106 - accuracy: 0.9173\n",
      "Epoch 81/100\n",
      "1149/1149 [==============================] - 0s 75us/step - loss: 0.2350 - accuracy: 0.8930\n",
      "Epoch 82/100\n",
      "1149/1149 [==============================] - 0s 78us/step - loss: 0.2303 - accuracy: 0.9008\n",
      "Epoch 83/100\n",
      "1149/1149 [==============================] - 0s 76us/step - loss: 0.2447 - accuracy: 0.9051\n",
      "Epoch 84/100\n",
      "1149/1149 [==============================] - 0s 79us/step - loss: 0.2432 - accuracy: 0.9017\n",
      "Epoch 85/100\n",
      "1149/1149 [==============================] - 0s 76us/step - loss: 0.2284 - accuracy: 0.9008\n",
      "Epoch 86/100\n",
      "1149/1149 [==============================] - 0s 72us/step - loss: 0.2477 - accuracy: 0.8912\n",
      "Epoch 87/100\n",
      "1149/1149 [==============================] - 0s 73us/step - loss: 0.2281 - accuracy: 0.9008\n",
      "Epoch 88/100\n",
      "1149/1149 [==============================] - 0s 77us/step - loss: 0.2360 - accuracy: 0.8938\n",
      "Epoch 89/100\n",
      "1149/1149 [==============================] - 0s 73us/step - loss: 0.2166 - accuracy: 0.9086\n",
      "Epoch 90/100\n",
      "1149/1149 [==============================] - 0s 78us/step - loss: 0.2201 - accuracy: 0.9034\n",
      "Epoch 91/100\n",
      "1149/1149 [==============================] - 0s 73us/step - loss: 0.2156 - accuracy: 0.9112\n",
      "Epoch 92/100\n",
      "1149/1149 [==============================] - 0s 75us/step - loss: 0.2202 - accuracy: 0.9008\n",
      "Epoch 93/100\n",
      "1149/1149 [==============================] - 0s 77us/step - loss: 0.2220 - accuracy: 0.9147\n",
      "Epoch 94/100\n",
      "1149/1149 [==============================] - 0s 77us/step - loss: 0.2019 - accuracy: 0.9225\n",
      "Epoch 95/100\n",
      "1149/1149 [==============================] - 0s 77us/step - loss: 0.2269 - accuracy: 0.9060\n",
      "Epoch 96/100\n",
      "1149/1149 [==============================] - 0s 77us/step - loss: 0.2043 - accuracy: 0.8999\n",
      "Epoch 97/100\n",
      "1149/1149 [==============================] - 0s 75us/step - loss: 0.1958 - accuracy: 0.9147\n",
      "Epoch 98/100\n",
      "1149/1149 [==============================] - 0s 72us/step - loss: 0.1982 - accuracy: 0.9243\n",
      "Epoch 99/100\n",
      "1149/1149 [==============================] - 0s 77us/step - loss: 0.2167 - accuracy: 0.9112\n",
      "Epoch 100/100\n",
      "1149/1149 [==============================] - 0s 89us/step - loss: 0.2127 - accuracy: 0.9051\n"
     ]
    },
    {
     "data": {
      "image/png": "[encoded data removed]",
      "text/plain": [
       "<Figure size 432x288 with 1 Axes>"
      ]
     },
     "metadata": {
      "needs_background": "light"
     },
     "output_type": "display_data"
    },
    {
     "name": "stdout",
     "output_type": "stream",
     "text": [
      "1149/1149 [==============================] - 0s 101us/step\n",
      "287/287 [==============================] - 0s 55us/step\n",
      "[0.6042219331411821, 0.7415143847465515]\n",
      "[1.1984536041366098, 0.5714285969734192]\n",
      "Model: \"dnn_ge\"\n",
      "_________________________________________________________________\n",
      "Layer (type)                 Output Shape              Param #   \n",
      "=================================================================\n",
      "input_42 (InputLayer)        (None, 368)               0         \n",
      "_________________________________________________________________\n",
      "dense_133 (Dense)            (None, 64)                23616     \n",
      "_________________________________________________________________\n",
      "batch_normalization_55 (Batc (None, 64)                256       \n",
      "_________________________________________________________________\n",
      "dense_134 (Dense)            (None, 32)                2080      \n",
      "_________________________________________________________________\n",
      "batch_normalization_56 (Batc (None, 32)                128       \n",
      "_________________________________________________________________\n",
      "dense_135 (Dense)            (None, 16)                528       \n",
      "_________________________________________________________________\n",
      "batch_normalization_57 (Batc (None, 16)                64        \n",
      "_________________________________________________________________\n",
      "dense_136 (Dense)            (None, 2)                 34        \n",
      "=================================================================\n",
      "Total params: 26,706\n",
      "Trainable params: 26,482\n",
      "Non-trainable params: 224\n",
      "_________________________________________________________________\n"
     ]
    },
    {
     "name": "stderr",
     "output_type": "stream",
     "text": [
      "/Users/zohrehwmac/.local/lib/python3.7/site-packages/sklearn/utils/validation.py:71: FutureWarning: Pass classes=[0 1], y=[1 1 1 ... 0 1 0] as keyword args. From version 0.25 passing these as positional arguments will result in an error\n",
      "  FutureWarning)\n"
     ]
    },
    {
     "name": "stdout",
     "output_type": "stream",
     "text": [
      "Epoch 1/100\n",
      "1149/1149 [==============================] - 1s 437us/step - loss: 0.7561 - accuracy: 0.5579\n",
      "Epoch 2/100\n",
      "1149/1149 [==============================] - 0s 74us/step - loss: 0.5947 - accuracy: 0.7041\n",
      "Epoch 3/100\n",
      "1149/1149 [==============================] - 0s 78us/step - loss: 0.5446 - accuracy: 0.7528\n",
      "Epoch 4/100\n",
      "1149/1149 [==============================] - 0s 71us/step - loss: 0.5224 - accuracy: 0.7598\n",
      "Epoch 5/100\n",
      "1149/1149 [==============================] - 0s 79us/step - loss: 0.5005 - accuracy: 0.7859\n",
      "Epoch 6/100\n",
      "1149/1149 [==============================] - 0s 73us/step - loss: 0.4958 - accuracy: 0.7737\n",
      "Epoch 7/100\n",
      "1149/1149 [==============================] - 0s 76us/step - loss: 0.4827 - accuracy: 0.7894\n",
      "Epoch 8/100\n",
      "1149/1149 [==============================] - 0s 71us/step - loss: 0.4693 - accuracy: 0.7955\n",
      "Epoch 9/100\n",
      "1149/1149 [==============================] - 0s 71us/step - loss: 0.4672 - accuracy: 0.7894\n",
      "Epoch 10/100\n",
      "1149/1149 [==============================] - 0s 74us/step - loss: 0.4609 - accuracy: 0.7903\n",
      "Epoch 11/100\n",
      "1149/1149 [==============================] - 0s 72us/step - loss: 0.4578 - accuracy: 0.7972\n",
      "Epoch 12/100\n",
      "1149/1149 [==============================] - 0s 76us/step - loss: 0.4469 - accuracy: 0.8007\n",
      "Epoch 13/100\n",
      "1149/1149 [==============================] - 0s 73us/step - loss: 0.4438 - accuracy: 0.8042\n",
      "Epoch 14/100\n",
      "1149/1149 [==============================] - 0s 73us/step - loss: 0.4437 - accuracy: 0.8033\n",
      "Epoch 15/100\n",
      "1149/1149 [==============================] - 0s 73us/step - loss: 0.4258 - accuracy: 0.8164\n",
      "Epoch 16/100\n",
      "1149/1149 [==============================] - 0s 70us/step - loss: 0.4309 - accuracy: 0.8085\n",
      "Epoch 17/100\n",
      "1149/1149 [==============================] - 0s 75us/step - loss: 0.4191 - accuracy: 0.8129\n",
      "Epoch 18/100\n",
      "1149/1149 [==============================] - 0s 72us/step - loss: 0.4224 - accuracy: 0.8050\n",
      "Epoch 19/100\n",
      "1149/1149 [==============================] - 0s 78us/step - loss: 0.4188 - accuracy: 0.8138\n",
      "Epoch 20/100\n",
      "1149/1149 [==============================] - 0s 72us/step - loss: 0.4100 - accuracy: 0.8216\n",
      "Epoch 21/100\n",
      "1149/1149 [==============================] - 0s 73us/step - loss: 0.4017 - accuracy: 0.8225\n",
      "Epoch 22/100\n",
      "1149/1149 [==============================] - 0s 74us/step - loss: 0.4081 - accuracy: 0.8207\n",
      "Epoch 23/100\n",
      "1149/1149 [==============================] - 0s 76us/step - loss: 0.4041 - accuracy: 0.8190\n",
      "Epoch 24/100\n",
      "1149/1149 [==============================] - 0s 88us/step - loss: 0.4041 - accuracy: 0.8155\n",
      "Epoch 25/100\n",
      "1149/1149 [==============================] - 0s 88us/step - loss: 0.3886 - accuracy: 0.8233\n",
      "Epoch 26/100\n",
      "1149/1149 [==============================] - 0s 77us/step - loss: 0.3981 - accuracy: 0.8294\n",
      "Epoch 27/100\n",
      "1149/1149 [==============================] - 0s 78us/step - loss: 0.3883 - accuracy: 0.8294\n",
      "Epoch 28/100\n",
      "1149/1149 [==============================] - 0s 76us/step - loss: 0.3843 - accuracy: 0.8346\n",
      "Epoch 29/100\n",
      "1149/1149 [==============================] - 0s 73us/step - loss: 0.3864 - accuracy: 0.8242\n",
      "Epoch 30/100\n",
      "1149/1149 [==============================] - 0s 78us/step - loss: 0.3751 - accuracy: 0.8416\n",
      "Epoch 31/100\n",
      "1149/1149 [==============================] - 0s 80us/step - loss: 0.3598 - accuracy: 0.8407\n",
      "Epoch 32/100\n",
      "1149/1149 [==============================] - 0s 75us/step - loss: 0.3695 - accuracy: 0.8233\n",
      "Epoch 33/100\n",
      "1149/1149 [==============================] - 0s 91us/step - loss: 0.3716 - accuracy: 0.8303\n",
      "Epoch 34/100\n",
      "1149/1149 [==============================] - 0s 81us/step - loss: 0.3623 - accuracy: 0.8390\n",
      "Epoch 35/100\n",
      "1149/1149 [==============================] - 0s 80us/step - loss: 0.3569 - accuracy: 0.8346\n",
      "Epoch 36/100\n",
      "1149/1149 [==============================] - 0s 75us/step - loss: 0.3548 - accuracy: 0.8433\n",
      "Epoch 37/100\n",
      "1149/1149 [==============================] - 0s 72us/step - loss: 0.3576 - accuracy: 0.8355\n",
      "Epoch 38/100\n",
      "1149/1149 [==============================] - 0s 90us/step - loss: 0.3404 - accuracy: 0.8494\n",
      "Epoch 39/100\n",
      "1149/1149 [==============================] - 0s 81us/step - loss: 0.3542 - accuracy: 0.8407\n",
      "Epoch 40/100\n",
      "1149/1149 [==============================] - 0s 83us/step - loss: 0.3405 - accuracy: 0.8407\n",
      "Epoch 41/100\n",
      "1149/1149 [==============================] - 0s 80us/step - loss: 0.3352 - accuracy: 0.8399\n",
      "Epoch 42/100\n",
      "1149/1149 [==============================] - 0s 83us/step - loss: 0.3559 - accuracy: 0.8364\n",
      "Epoch 43/100\n",
      "1149/1149 [==============================] - 0s 89us/step - loss: 0.3319 - accuracy: 0.8616\n",
      "Epoch 44/100\n",
      "1149/1149 [==============================] - 0s 82us/step - loss: 0.3346 - accuracy: 0.8407\n",
      "Epoch 45/100\n",
      "1149/1149 [==============================] - 0s 87us/step - loss: 0.3287 - accuracy: 0.8520\n",
      "Epoch 46/100\n",
      "1149/1149 [==============================] - 0s 83us/step - loss: 0.3400 - accuracy: 0.8520\n",
      "Epoch 47/100\n",
      "1149/1149 [==============================] - 0s 72us/step - loss: 0.3114 - accuracy: 0.8677\n",
      "Epoch 48/100\n",
      "1149/1149 [==============================] - 0s 88us/step - loss: 0.3162 - accuracy: 0.8634\n",
      "Epoch 49/100\n",
      "1149/1149 [==============================] - 0s 91us/step - loss: 0.3212 - accuracy: 0.8616\n",
      "Epoch 50/100\n",
      "1149/1149 [==============================] - 0s 88us/step - loss: 0.3151 - accuracy: 0.8703\n",
      "Epoch 51/100\n",
      "1149/1149 [==============================] - 0s 77us/step - loss: 0.3231 - accuracy: 0.8581\n",
      "Epoch 52/100\n",
      "1149/1149 [==============================] - 0s 81us/step - loss: 0.2912 - accuracy: 0.8660\n",
      "Epoch 53/100\n",
      "1149/1149 [==============================] - 0s 82us/step - loss: 0.3011 - accuracy: 0.8599\n",
      "Epoch 54/100\n",
      "1149/1149 [==============================] - 0s 79us/step - loss: 0.3087 - accuracy: 0.8651\n",
      "Epoch 55/100\n",
      "1149/1149 [==============================] - 0s 83us/step - loss: 0.3091 - accuracy: 0.8625\n",
      "Epoch 56/100\n",
      "1149/1149 [==============================] - 0s 76us/step - loss: 0.3141 - accuracy: 0.8468\n",
      "Epoch 57/100\n",
      "1149/1149 [==============================] - 0s 90us/step - loss: 0.2983 - accuracy: 0.8721\n",
      "Epoch 58/100\n",
      "1149/1149 [==============================] - 0s 81us/step - loss: 0.2889 - accuracy: 0.8686\n",
      "Epoch 59/100\n",
      "1149/1149 [==============================] - 0s 78us/step - loss: 0.3043 - accuracy: 0.8599\n",
      "Epoch 60/100\n",
      "1149/1149 [==============================] - 0s 82us/step - loss: 0.2915 - accuracy: 0.8790\n",
      "Epoch 61/100\n",
      "1149/1149 [==============================] - 0s 79us/step - loss: 0.2870 - accuracy: 0.8695\n",
      "Epoch 62/100\n",
      "1149/1149 [==============================] - 0s 82us/step - loss: 0.2760 - accuracy: 0.8816\n",
      "Epoch 63/100\n",
      "1149/1149 [==============================] - 0s 76us/step - loss: 0.2776 - accuracy: 0.8842\n",
      "Epoch 64/100\n",
      "1149/1149 [==============================] - 0s 75us/step - loss: 0.2743 - accuracy: 0.8834\n",
      "Epoch 65/100\n",
      "1149/1149 [==============================] - 0s 88us/step - loss: 0.2493 - accuracy: 0.8938\n",
      "Epoch 66/100\n",
      "1149/1149 [==============================] - 0s 85us/step - loss: 0.2638 - accuracy: 0.8842\n",
      "Epoch 67/100\n",
      "1149/1149 [==============================] - 0s 79us/step - loss: 0.2805 - accuracy: 0.8808\n",
      "Epoch 68/100\n",
      "1149/1149 [==============================] - 0s 75us/step - loss: 0.2660 - accuracy: 0.8816\n",
      "Epoch 69/100\n",
      "1149/1149 [==============================] - 0s 76us/step - loss: 0.2677 - accuracy: 0.8886\n",
      "Epoch 70/100\n",
      "1149/1149 [==============================] - 0s 78us/step - loss: 0.2613 - accuracy: 0.8921\n",
      "Epoch 71/100\n",
      "1149/1149 [==============================] - 0s 83us/step - loss: 0.2703 - accuracy: 0.8782\n",
      "Epoch 72/100\n",
      "1149/1149 [==============================] - 0s 83us/step - loss: 0.2560 - accuracy: 0.8869\n",
      "Epoch 73/100\n",
      "1149/1149 [==============================] - 0s 99us/step - loss: 0.2568 - accuracy: 0.8834\n",
      "Epoch 74/100\n",
      "1149/1149 [==============================] - 0s 78us/step - loss: 0.2627 - accuracy: 0.8921\n",
      "Epoch 75/100\n",
      "1149/1149 [==============================] - 0s 87us/step - loss: 0.2739 - accuracy: 0.8808\n",
      "Epoch 76/100\n",
      "1149/1149 [==============================] - 0s 77us/step - loss: 0.2569 - accuracy: 0.8851\n",
      "Epoch 77/100\n",
      "1149/1149 [==============================] - 0s 71us/step - loss: 0.2420 - accuracy: 0.8903\n",
      "Epoch 78/100\n",
      "1149/1149 [==============================] - 0s 79us/step - loss: 0.2618 - accuracy: 0.8782\n",
      "Epoch 79/100\n"
     ]
    },
    {
     "name": "stdout",
     "output_type": "stream",
     "text": [
      "1149/1149 [==============================] - 0s 81us/step - loss: 0.2213 - accuracy: 0.9130\n",
      "Epoch 80/100\n",
      "1149/1149 [==============================] - 0s 89us/step - loss: 0.2214 - accuracy: 0.9112\n",
      "Epoch 81/100\n",
      "1149/1149 [==============================] - 0s 74us/step - loss: 0.2355 - accuracy: 0.8990\n",
      "Epoch 82/100\n",
      "1149/1149 [==============================] - 0s 76us/step - loss: 0.2314 - accuracy: 0.8999\n",
      "Epoch 83/100\n",
      "1149/1149 [==============================] - 0s 78us/step - loss: 0.2348 - accuracy: 0.8930\n",
      "Epoch 84/100\n",
      "1149/1149 [==============================] - 0s 73us/step - loss: 0.2296 - accuracy: 0.8999\n",
      "Epoch 85/100\n",
      "1149/1149 [==============================] - 0s 76us/step - loss: 0.2286 - accuracy: 0.9017\n",
      "Epoch 86/100\n",
      "1149/1149 [==============================] - 0s 76us/step - loss: 0.2416 - accuracy: 0.8903\n",
      "Epoch 87/100\n",
      "1149/1149 [==============================] - 0s 71us/step - loss: 0.2147 - accuracy: 0.9104\n",
      "Epoch 88/100\n",
      "1149/1149 [==============================] - 0s 73us/step - loss: 0.2257 - accuracy: 0.9060\n",
      "Epoch 89/100\n",
      "1149/1149 [==============================] - 0s 76us/step - loss: 0.2306 - accuracy: 0.8982\n",
      "Epoch 90/100\n",
      "1149/1149 [==============================] - 0s 73us/step - loss: 0.2099 - accuracy: 0.9130\n",
      "Epoch 91/100\n",
      "1149/1149 [==============================] - 0s 84us/step - loss: 0.2090 - accuracy: 0.9130\n",
      "Epoch 92/100\n",
      "1149/1149 [==============================] - 0s 82us/step - loss: 0.2005 - accuracy: 0.9191\n",
      "Epoch 93/100\n",
      "1149/1149 [==============================] - 0s 88us/step - loss: 0.2204 - accuracy: 0.9130\n",
      "Epoch 94/100\n",
      "1149/1149 [==============================] - 0s 83us/step - loss: 0.1944 - accuracy: 0.9156\n",
      "Epoch 95/100\n",
      "1149/1149 [==============================] - 0s 84us/step - loss: 0.2037 - accuracy: 0.9243\n",
      "Epoch 96/100\n",
      "1149/1149 [==============================] - 0s 78us/step - loss: 0.1810 - accuracy: 0.9260\n",
      "Epoch 97/100\n",
      "1149/1149 [==============================] - 0s 75us/step - loss: 0.2043 - accuracy: 0.9173\n",
      "Epoch 98/100\n",
      "1149/1149 [==============================] - 0s 89us/step - loss: 0.2096 - accuracy: 0.9095\n",
      "Epoch 99/100\n",
      "1149/1149 [==============================] - 0s 78us/step - loss: 0.2126 - accuracy: 0.9191\n",
      "Epoch 100/100\n",
      "1149/1149 [==============================] - 0s 85us/step - loss: 0.2178 - accuracy: 0.9130\n"
     ]
    },
    {
     "data": {
      "image/png": "[encoded data removed]",
      "text/plain": [
       "<Figure size 432x288 with 1 Axes>"
      ]
     },
     "metadata": {
      "needs_background": "light"
     },
     "output_type": "display_data"
    },
    {
     "name": "stdout",
     "output_type": "stream",
     "text": [
      "1149/1149 [==============================] - 0s 106us/step\n",
      "287/287 [==============================] - 0s 39us/step\n",
      "[0.47670680945909366, 0.7876414060592651]\n",
      "[0.9264915570980166, 0.6759582161903381]\n",
      "0.8086675882339478\n",
      "0.7019067168235779\n"
     ]
    }
   ],
   "source": [
    "cross_val(vector_k50_input_ER.values, vector_k50_label_ER.values)"
   ]
  },
  {
   "cell_type": "code",
   "execution_count": null,
   "metadata": {},
   "outputs": [],
   "source": []
  }
 ],
 "metadata": {
  "kernelspec": {
   "display_name": "Python 3",
   "language": "python",
   "name": "python3"
  },
  "language_info": {
   "codemirror_mode": {
    "name": "ipython",
    "version": 3
   },
   "file_extension": ".py",
   "mimetype": "text/x-python",
   "name": "python",
   "nbconvert_exporter": "python",
   "pygments_lexer": "ipython3",
   "version": "3.7.6"
  }
 },
 "nbformat": 4,
 "nbformat_minor": 4
}
