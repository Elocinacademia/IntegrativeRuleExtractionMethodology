{
 "cells": [
  {
   "cell_type": "markdown",
   "metadata": {},
   "source": [
    "Script to process MB dataset"
   ]
  },
  {
   "cell_type": "code",
   "execution_count": 3,
   "metadata": {},
   "outputs": [],
   "source": [
    "import pandas as pd\n",
    "import sys\n",
    "import numpy as np"
   ]
  },
  {
   "cell_type": "code",
   "execution_count": 7,
   "metadata": {},
   "outputs": [],
   "source": [
    "sys.path.append(\"C:/Users/sumaiyah/OneDrive - University Of Cambridge/Project/DNN-RE-data/preprocessing/raw_data\")"
   ]
  },
  {
   "cell_type": "code",
   "execution_count": 8,
   "metadata": {},
   "outputs": [],
   "source": [
    "raw_data = pd.read_csv('MB.csv')"
   ]
  },
  {
   "cell_type": "code",
   "execution_count": 10,
   "metadata": {},
   "outputs": [],
   "source": [
    "from MB_helpers import get_data\n",
    "mb_data = get_data(raw_data)"
   ]
  },
  {
   "cell_type": "code",
   "execution_count": 12,
   "metadata": {},
   "outputs": [
    {
     "data": {
      "text/plain": [
       "dict_keys(['ic', 'pam50', 'er', 'pr', 'her2', 'drnp', 'rnanp', 'cnanp', 'icnp', 'pam50np', 'ernp', 'prnp', 'her2np', 'clin'])"
      ]
     },
     "execution_count": 12,
     "metadata": {},
     "output_type": "execute_result"
    }
   ],
   "source": [
    "mb_data.keys()"
   ]
  },
  {
   "cell_type": "code",
   "execution_count": 24,
   "metadata": {},
   "outputs": [
    {
     "data": {
      "text/plain": [
       "Index(['GE_GRB7', 'GE_LSM1', 'GE_CLNS1A', 'GE_STARD3', 'GE_PPFIA1', 'GE_ERBB2',\n",
       "       'GE_INTS4', 'GE_ORMDL3', 'GE_PSMB3', 'GE_MTERFD1',\n",
       "       ...\n",
       "       'GE_TMEM99', 'GE_ZNHIT3', 'GE_FOXM1', 'GE_EXOC3', 'GE_ARMC7',\n",
       "       'GE_KCTD2', 'GE_PDCD10', 'GE_RHOD', 'GE_YBX1', 'GE_TRIM24'],\n",
       "      dtype='object', length=1000)"
      ]
     },
     "execution_count": 24,
     "metadata": {},
     "output_type": "execute_result"
    }
   ],
   "source": [
    "rna_col_names = pd.read_csv('MB-GE-ER.csv').columns[:-1]\n",
    "rna_col_names"
   ]
  },
  {
   "cell_type": "markdown",
   "metadata": {},
   "source": [
    "# MB-DR"
   ]
  },
  {
   "cell_type": "code",
   "execution_count": 31,
   "metadata": {},
   "outputs": [],
   "source": [
    "rna_data_df = pd.DataFrame(mb_data['rnanp'], columns=rna_col_names)"
   ]
  },
  {
   "cell_type": "code",
   "execution_count": 32,
   "metadata": {},
   "outputs": [],
   "source": [
    "clin_data_df = pd.DataFrame(mb_data['clin'])"
   ]
  },
  {
   "cell_type": "code",
   "execution_count": 33,
   "metadata": {},
   "outputs": [],
   "source": [
    "dr_data_df = pd.DataFrame(mb_data['drnp'], columns=['DR']) "
   ]
  },
  {
   "cell_type": "code",
   "execution_count": 28,
   "metadata": {},
   "outputs": [
    {
     "ename": "NameError",
     "evalue": "name 'clin_data_df' is not defined",
     "output_type": "error",
     "traceback": [
      "\u001b[0;31m---------------------------------------------------------------------------\u001b[0m",
      "\u001b[0;31mNameError\u001b[0m                                 Traceback (most recent call last)",
      "\u001b[0;32m<ipython-input-28-e5e26312d400>\u001b[0m in \u001b[0;36m<module>\u001b[0;34m\u001b[0m\n\u001b[0;32m----> 1\u001b[0;31m \u001b[0mmb_dr_df\u001b[0m \u001b[0;34m=\u001b[0m \u001b[0mpd\u001b[0m\u001b[0;34m.\u001b[0m\u001b[0mconcat\u001b[0m\u001b[0;34m(\u001b[0m\u001b[0;34m[\u001b[0m\u001b[0mrna_data_df\u001b[0m\u001b[0;34m,\u001b[0m \u001b[0mclin_data_df\u001b[0m\u001b[0;34m,\u001b[0m \u001b[0mdr_data_df\u001b[0m\u001b[0;34m]\u001b[0m\u001b[0;34m,\u001b[0m \u001b[0maxis\u001b[0m\u001b[0;34m=\u001b[0m\u001b[0;36m1\u001b[0m\u001b[0;34m)\u001b[0m\u001b[0;34m\u001b[0m\u001b[0m\n\u001b[0m",
      "\u001b[0;31mNameError\u001b[0m: name 'clin_data_df' is not defined"
     ]
    }
   ],
   "source": [
    "mb_dr_df = pd.concat([rna_data_df, clin_data_df, dr_data_df], axis=1)"
   ]
  },
  {
   "cell_type": "code",
   "execution_count": 38,
   "metadata": {},
   "outputs": [],
   "source": [
    "mb_dr_df.to_csv('MB-DR.csv', index=False)"
   ]
  },
  {
   "cell_type": "markdown",
   "metadata": {},
   "source": [
    "# MB-GE-DR"
   ]
  },
  {
   "cell_type": "code",
   "execution_count": 24,
   "metadata": {},
   "outputs": [],
   "source": [
    "import sys \n",
    "sys.path.append(\"../../DNN-RE/src\")"
   ]
  },
  {
   "cell_type": "code",
   "execution_count": 25,
   "metadata": {},
   "outputs": [],
   "source": [
    "import pandas as pd\n",
    "raw_data = pd.read_csv('MBdata_33CLINwMiss_1KfGE_1KfCNA.csv')"
   ]
  },
  {
   "cell_type": "code",
   "execution_count": 31,
   "metadata": {},
   "outputs": [],
   "source": [
    "rna_data_df = raw_data.iloc[:, 34:1034]\n",
    "dr_data_df = raw_data.loc[:, \"DR\"]"
   ]
  },
  {
   "cell_type": "code",
   "execution_count": 32,
   "metadata": {},
   "outputs": [],
   "source": [
    "mb_ge_dr_df = pd.concat([rna_data_df, dr_data_df], axis=1)"
   ]
  },
  {
   "cell_type": "code",
   "execution_count": 34,
   "metadata": {},
   "outputs": [],
   "source": [
    "mb_ge_dr_df.to_csv('MB-GE-DR.csv', index=False)"
   ]
  },
  {
   "cell_type": "code",
   "execution_count": 36,
   "metadata": {},
   "outputs": [
    {
     "data": {
      "text/plain": [
       "0    1378\n",
       "1     602\n",
       "Name: DR, dtype: int64"
      ]
     },
     "execution_count": 36,
     "metadata": {},
     "output_type": "execute_result"
    }
   ],
   "source": [
    "dr_data_df.value_counts()"
   ]
  },
  {
   "cell_type": "code",
   "execution_count": 38,
   "metadata": {},
   "outputs": [
    {
     "data": {
      "text/plain": [
       "0       0\n",
       "1       1\n",
       "2       0\n",
       "3       1\n",
       "4       0\n",
       "5       1\n",
       "6       0\n",
       "7       0\n",
       "8       0\n",
       "9       0\n",
       "10      1\n",
       "11      0\n",
       "12      0\n",
       "13      0\n",
       "14      0\n",
       "15      0\n",
       "16      0\n",
       "17      0\n",
       "18      0\n",
       "19      0\n",
       "20      0\n",
       "21      0\n",
       "22      0\n",
       "23      0\n",
       "24      0\n",
       "25      1\n",
       "26      0\n",
       "27      0\n",
       "28      0\n",
       "29      0\n",
       "       ..\n",
       "1950    0\n",
       "1951    0\n",
       "1952    0\n",
       "1953    0\n",
       "1954    0\n",
       "1955    0\n",
       "1956    0\n",
       "1957    1\n",
       "1958    0\n",
       "1959    0\n",
       "1960    1\n",
       "1961    1\n",
       "1962    0\n",
       "1963    0\n",
       "1964    0\n",
       "1965    0\n",
       "1966    1\n",
       "1967    0\n",
       "1968    1\n",
       "1969    0\n",
       "1970    0\n",
       "1971    0\n",
       "1972    0\n",
       "1973    0\n",
       "1974    0\n",
       "1975    0\n",
       "1976    1\n",
       "1977    1\n",
       "1978    0\n",
       "1979    1\n",
       "Name: DR, Length: 1980, dtype: int64"
      ]
     },
     "execution_count": 38,
     "metadata": {},
     "output_type": "execute_result"
    }
   ],
   "source": [
    "raw_data[\"DR\"]"
   ]
  },
  {
   "cell_type": "code",
   "execution_count": 39,
   "metadata": {},
   "outputs": [
    {
     "data": {
      "text/plain": [
       "Counter({'4ER+': 260,\n",
       "         '3': 290,\n",
       "         '9': 146,\n",
       "         '7': 190,\n",
       "         '4ER-': 83,\n",
       "         '1': 139,\n",
       "         '5': 190,\n",
       "         '8': 299,\n",
       "         '10': 226,\n",
       "         '2': 72,\n",
       "         '6': 85})"
      ]
     },
     "execution_count": 39,
     "metadata": {},
     "output_type": "execute_result"
    }
   ],
   "source": [
    "j=list(raw_data[\"iC10\"])\n",
    "from collections import Counter\n",
    "Counter(j)"
   ]
  },
  {
   "cell_type": "code",
   "execution_count": 40,
   "metadata": {},
   "outputs": [
    {
     "name": "stdout",
     "output_type": "stream",
     "text": [
      "METABRIC_ID Cohort Age_At_Diagnosis Breast_Tumour_Laterality Date_Of_Diagnosis Last_Followup_Status NPI ER_Status Inferred_Menopausal_State Lymph_Nodes_Positive Breast_Surgery CT HT RT Grade Size Histological_Type Stage Cellularity DeathBreast Death clin_T TLR LR TDR DR HER2_SNP6 iC10 Pam50Subtype ER_Expr Her2_Expr PR_Expr ClaudinSubtype Complete_Rec_History GE_GRB7 GE_LSM1 GE_CLNS1A GE_STARD3 GE_PPFIA1 GE_ERBB2 GE_INTS4 GE_ORMDL3 GE_PSMB3 GE_MTERFD1 GE_ALG8 GE_MED24 GE_ASH2L GE_PSMD3 GE_BRF2 GE_ORAOV1 GE_VDAC3 GE_WHSC1L1 GE_CTTN GE_PROSC GE_PRKRIR GE_GOLGA7 GE_COPS5 GE_RPS6KB1 GE_NARS2 GE_GSDMB GE_ZNF7 GE_COMMD5 GE_PUF60 GE_ERLIN2 GE_EBAG9 GE_CYC1 GE_RRS1 GE_CASC3 GE_DDHD2 GE_TLK2 GE_UTP23 GE_EXOSC4 GE_DERL1 GE_PHB GE_MRPL13 GE_SLC35B1 GE_PTRH2 GE_SCRIB GE_ERAL1 GE_CPNE3 GE_RTN4IP1 GE_MAF1 GE_COIL GE_YWHAZ GE_RAB11FIP1 GE_SUPT4H1 GE_PPME1 GE_CHCHD8 GE_UBR5 GE_AP3M2 GE_INTS10 GE_MRPS23 GE_RB1CC1 GE_NSMCE2 GE_TM2D2 GE_NOL11 GE_ARFGEF1 GE_SRP68 GE_POLR3C GE_MYST3 GE_FBXL20 GE_CSPP1 GE_GTF2E2 GE_ZC3H3 GE_HEATR6 GE_MRPL21 GE_AMZ2 GE_OTUD6B GE_SF3B4 GE_TAF2 GE_GNPAT GE_VCPIP1 GE_SCAMP3 GE_AZIN1 GE_WDR68 GE_KLHL12 GE_ANGEL2 GE_MRPL45 GE_FNTA GE_BOP1 GE_DDX59 GE_INTS2 GE_RAE1 GE_ZNF250 GE_POGK GE_SPCS2 GE_NUP85 GE_TBCE GE_GPR172A GE_SHARPIN GE_ARV1 GE_MTMR4 GE_NDUFS8 GE_NME1 GE_PRCC GE_ZUFSP GE_FBXL6 GE_VPS72 GE_NDUFC2 GE_DNAJA2 GE_DHX40 GE_YY1AP1 GE_DAP3 GE_CDC123 GE_MRPS7 GE_PREP GE_TSEN54 GE_TRIM37 GE_PSMD4 GE_PAAF1 GE_FAM20B GE_RCE1 GE_MRPL27 GE_PPAPDC1B GE_POLDIP2 GE_ANKRD49 GE_UBE2Z GE_RSAD1 GE_POLD3 GE_VPS28 GE_ARMC1 GE_ZNF707 GE_RAD54B GE_ADSS GE_AQP11 GE_KIAA0196 GE_NUDT5 GE_PIGC GE_APPBP2 GE_SUPT6H GE_KIAA1967 GE_COG1 GE_CCDC90B GE_TMEM70 GE_USP21 GE_PRUNE GE_PI4KB GE_UBE2O GE_ATP6V1H GE_CNOT7 GE_PPP1CA GE_RAB6A GE_ZBTB24 GE_DDX42 GE_MRPL55 GE_STK3 GE_BAG4 GE_PTDSS1 GE_PIP4K2B GE_ANKRD46 GE_LASP1 GE_MTBP GE_MRPS28 GE_PAK1 GE_BCL9 GE_HSF1 GE_UBE2V2 GE_CDC16 GE_MYST1 GE_SQLE GE_AATF GE_SEPHS1 GE_CDC40 GE_ATP6V1C1 GE_APOA1BP GE_FAM83H GE_TH1L GE_CCDC45 GE_ATAD2 GE_USP6NL GE_ICT1 GE_FLOT2 GE_MLLT6 GE_FTSJ3 GE_PPM1D GE_ANAPC11 GE_TMEM126B GE_FAM91A1 GE_SETDB1 GE_BRD7 GE_IPO9 GE_PCGF2 GE_SNX3 GE_PARN GE_XYLT2 GE_ADIPOR1 GE_ARHGEF7 GE_PRKDC GE_GPS1 GE_HDDC2 GE_PEX11B GE_NUFIP2 GE_DUSP12 GE_MED30 GE_ZNF434 GE_PMF1 GE_UQCRB GE_KARS GE_NME1-NME2 GE_SNORD4A GE_CPSF1 GE_CYB561 GE_E2F4 GE_MRPL9 GE_SMARCE1 GE_USP35 GE_ZNF34 GE_RARS2 GE_GTPBP4 GE_MRPL38 GE_ACBD6 GE_RSF1 GE_ZFP91 GE_ALKBH5 GE_TNFAIP1 GE_VPS45 GE_NDUFA9 GE_PPP1R16A GE_MTRF1L GE_COPA GE_TAF4 GE_MTFR1 GE_NADSYN1 GE_GGPS1 GE_LRRC14 GE_KIAA0146 GE_EPN3 GE_TGDS GE_GIT1 GE_ZNF688 GE_HSPA14 GE_WRN GE_PTK2 GE_SNX27 GE_UPF2 GE_OGFOD1 GE_UFC1 GE_FDFT1 GE_TRAF4 GE_ERAS GE_COX4I1 GE_PPP2CB GE_DPY19L4 GE_RAD51C GE_RPL8 GE_HRSP12 GE_PYCRL GE_GLI4 GE_FAM96B GE_COPS3 GE_METTL2A GE_TCEB2 GE_EARS2 GE_ZNF672 GE_JTB GE_PIGS GE_AARS GE_TMEM134 GE_TMCO1 GE_ELP3 GE_SDF2 GE_COG2 GE_PRPSAP1 GE_TP53I13 GE_GGA3 GE_PPP2R2A GE_CCDC25 GE_ATP5H GE_TBPL1 GE_ZNF263 GE_PSEN2 GE_HELZ GE_RNF40 GE_SAP30BP GE_TARS2 GE_GNA13 GE_STAU1 GE_ADCK5 GE_PSMB1 GE_ZNF16 GE_AKTIP GE_RNF121 GE_NDEL1 GE_MFSD3 GE_TPR GE_CYB5B GE_KIAA0020 GE_NUP107 GE_GRINA GE_COG7 GE_RCOR3 GE_ATF6 GE_DDX47 GE_PITRM1 GE_NUP93 GE_CSNK2A2 GE_TFB2M GE_KRT10 GE_PCSK7 GE_NPLOC4 GE_MCM4 GE_DPAGT1 GE_POLR3A GE_COQ9 GE_TRAM1 GE_TOP1MT GE_SPAG5 GE_EXOC7 GE_TRIM11 GE_POLR3K GE_PHF20L1 GE_SCYL3 GE_PHKB GE_RAD9A GE_FBXO18 GE_TMEM9 GE_CNOT2 GE_PPOX GE_MCM10 GE_VPS35 GE_CCDC77 GE_PIGM GE_CLTC GE_NSL1 GE_SNF8 GE_USP32 GE_PCID2 GE_SLC39A4 GE_BIRC2 GE_HAX1 GE_FLII GE_STK24 GE_TMEM199 GE_TMEM66 GE_ARF1 GE_MTL5 GE_STRADA GE_TOR1AIP1 GE_FBXO28 GE_ERICH1 GE_RAB22A GE_ROGDI GE_CREBZF GE_DDX19A GE_IQCK GE_BOLA1 GE_STAU2 GE_AHCTF1 GE_MRPL12 GE_CCDC47 GE_CREBBP GE_TTC35 GE_CLUAP1 GE_TERF1 GE_EIF2C2 GE_THAP1 GE_SF3B2 GE_KIAA1429 GE_WDR67 GE_BCKDK GE_CCT2 GE_SMARCD2 GE_COQ7 GE_IARS2 GE_KRTCAP2 GE_TMEM97 GE_FLYWCH2 GE_SLC25A44 GE_LTV1 GE_INTS3 GE_FBXO31 GE_TROVE2 GE_BRMS1 GE_RWDD1 GE_DDX19B GE_NDUFV1 GE_NIP7 GE_ZW10 GE_CCNE2 GE_TUBD1 GE_DDX52 GE_SIAH1 GE_PNMT GE_KIFC2 GE_TOB1 GE_REXO2 GE_ERCC5 GE_RBBP5 GE_PPIH GE_TRAPPC9 GE_FBXO7 GE_NCSTN GE_ZNF706 GE_EIF4A3 GE_ZNF500 GE_SLC20A2 GE_OSBP GE_LEPROTL1 GE_RAB2A GE_PANX1 GE_RAB40C GE_SF3B5 GE_PUS3 GE_VPS37A GE_NEIL2 GE_CLK2 GE_JMJD6 GE_SS18L1 GE_ABCB10 GE_RNFT1 GE_WBP2 GE_TRAF3IP2 GE_TLCD1 GE_TULP3 GE_STAM GE_ANKRD11 GE_PRR14 GE_CDC6 GE_MED23 GE_PSME3 GE_ATP5G1 GE_DEDD GE_ZNF703 GE_B4GALT3 GE_EIF4EBP1 GE_TUFM GE_YTHDF1 GE_SNAPC3 GE_UBAC2 GE_UVRAG GE_ZNF213 GE_MTX1 GE_CD46 GE_STRA13 GE_LCMT1 GE_PGS1 GE_MTDH GE_RPUSD4 GE_RPP38 GE_RBBP6 GE_KIAA0556 GE_PSMB4 GE_CIAPIN1 GE_CALCOCO2 GE_ACTL6A GE_RRP15 GE_BPNT1 GE_MED8 GE_H3F3A GE_MTMR9 GE_ZNF251 GE_PMVK GE_GPAA1 GE_NUBP1 GE_POLB GE_THRA GE_PDPK1 GE_KIAA0907 GE_SEC63 GE_CIRH1A GE_SRPR GE_ATP5L GE_MRE11A GE_NTHL1 GE_RAB4A GE_TNFRSF10B GE_TFDP1 GE_ARFGEF2 GE_ADAM9 GE_MAL2 GE_TRIM44 GE_TUFT1 GE_PDHX GE_SELS GE_INPPL1 GE_NUP43 GE_DHRS7B GE_FAHD1 GE_TOP3A GE_IFT140 GE_ZNF319 GE_EBNA1BP2 GE_DYNC1LI2 GE_ACBD3 GE_KCTD21 GE_CCND1 GE_PHF12 GE_TMEM183A GE_TPD52 GE_POGZ GE_SDCCAG8 GE_E2F5 GE_DDX5 GE_DYNLRB1 GE_FAM173A GE_RECQL4 GE_PDSS1 GE_COX10 GE_STX16 GE_TMEM126A GE_LONRF1 GE_R3HCC1 GE_AXIN1 GE_CUL4A GE_FOXO3 GE_RHOT2 GE_KIAA0174 GE_DDB1 GE_CSTF3 GE_DPM1 GE_CLEC16A GE_APH1A GE_PRPF8 GE_INO80E GE_DUSP23 GE_FAM84B GE_DCUN1D5 GE_HGS GE_DNTTIP1 GE_CYHR1 GE_ZC3HC1 GE_PRPF3 GE_POLD4 GE_ARGLU1 GE_STX6 GE_GALK1 GE_CD2BP2 GE_ORAI3 GE_PCM1 GE_GLG1 GE_DSCC1 GE_BUD31 GE_HIRIP3 GE_DHX38 GE_PPP3CC GE_CTNNBL1 GE_ZNF828 GE_DNAJA3 GE_MED13 GE_DEF8 GE_RPL30 GE_NOL7 GE_TRMT11 GE_POLG2 GE_CORO1B GE_SNX11 GE_PYCR2 GE_ABAT GE_HOOK3 GE_KIAA0195 GE_CNOT1 GE_DYNLL2 GE_CCNE1 GE_LLGL1 GE_NCOA6 GE_ARL2BP GE_RBM4 GE_CUL1 GE_SRP9 GE_EPRS GE_TMEM183B GE_MRPS14 GE_ASCC3 GE_WDR59 GE_SSH3 GE_PPP1R3D GE_ATP6V1F GE_CHORDC1 GE_DUS2L GE_RNPS1 GE_ADSL GE_STT3A GE_BTBD10 GE_ADRM1 GE_ARCN1 GE_NAE1 GE_BFAR GE_KATNB1 GE_CARKD GE_ALG9 GE_PSMC2 GE_BANF1 GE_LASS2 GE_ZBED4 GE_SPAG9 GE_RALBP1 GE_CAND1 GE_PTPRA GE_MUS81 GE_LLGL2 GE_STX3 GE_ZNF622 GE_DHTKD1 GE_IKBKB GE_MAPK7 GE_DHRS13 GE_SH3BP5L GE_KATNA1 GE_MASTL GE_HINT3 GE_TMEM11 GE_KLHL36 GE_EFR3A GE_EIF1 GE_GOLPH3L GE_MCPH1 GE_RNF170 GE_RPS6KC1 GE_MYST2 GE_IGHMBP2 GE_TBCD GE_CLP1 GE_KCTD9 GE_PRPSAP2 GE_RARA GE_MRPS31 GE_DYSFIP1 GE_TUBG1 GE_CPSF4 GE_LYRM1 GE_ZNF174 GE_TRABD GE_TRPC4AP GE_IDH3B GE_CP110 GE_TOM1L1 GE_ZBTB41 GE_MRPL15 GE_POMP GE_PACSIN2 GE_MAP3K7 GE_NUBP2 GE_TCEA1 GE_THOC6 GE_FAM48A GE_PHKG2 GE_SCNM1 GE_DRG1 GE_SNX19 GE_IMPAD1 GE_EDC4 GE_CCS GE_RFWD3 GE_PIGU GE_ERGIC3 GE_STX10 GE_KCTD3 GE_EXOSC8 GE_NUP153 GE_DEXI GE_GDE1 GE_AARSD1 GE_MRRF GE_SPOP GE_CSE1L GE_RAB1B GE_SNRPB2 GE_ADAR GE_YIF1A GE_ACTR5 GE_SPATA2 GE_GATAD2B GE_LYSMD1 GE_GINS4 GE_EEF1D GE_MTO1 GE_SDAD1 GE_PSMC6 GE_CRELD2 GE_RCL1 GE_DPH2 GE_VPS4A GE_LAPTM4B GE_ATG5 GE_JUP GE_RPL19 GE_RNF43 GE_RFWD2 GE_ST3GAL1 GE_ARF5 GE_LYPLAL1 GE_GTF3A GE_CHMP6 GE_UBQLN4 GE_TTC13 GE_TMEM123 GE_SSBP1 GE_LIG3 GE_ZNF787 GE_SF3B3 GE_WDR45L GE_EFNA1 GE_WDR26 GE_PDCD2 GE_KIAA0100 GE_THOC5 GE_ALDH9A1 GE_TBK1 GE_CEP350 GE_API5 GE_RAB25 GE_RNGTT GE_KIAA0391 GE_ZNF259 GE_NME3 GE_NUP205 GE_AZI1 GE_TOMM22 GE_HAGH GE_IGSF9 GE_CHMP1A GE_DUSP14 GE_FOXJ3 GE_COX11 GE_PEX5 GE_ARPC1A GE_TMUB2 GE_ZNF212 GE_PSMD7 GE_FOXJ2 GE_DRG2 GE_ELP4 GE_ASCC2 GE_GCC1 GE_TMEM219 GE_LUC7L GE_MIA3 GE_NARF GE_ACOX1 GE_DECR2 GE_SAAL1 GE_RAB5C GE_CDK2AP2 GE_PITPNB GE_TM2D3 GE_PAK1IP1 GE_MIF4GD GE_RABIF GE_ANKS3 GE_BRD1 GE_WRNIP1 GE_RSPRY1 GE_XRCC6 GE_TPCN2 GE_MRPL11 GE_SNRPB GE_RAPGEFL1 GE_NT5C GE_IGF2R GE_NDUFS3 GE_MAPK3 GE_THUMPD1 GE_NBN GE_TM9SF2 GE_ADPGK GE_ARRB1 GE_SLC35E3 GE_GEMIN4 GE_AKAP10 GE_MIS12 GE_EME1 GE_GOSR1 GE_WDR90 GE_PSMC3IP GE_PPP1R14B GE_CCDC56 GE_NMRAL1 GE_STX4 GE_GGNBP2 GE_BRPF1 GE_DNAJC5 GE_XPR1 GE_LACTB2 GE_ELAC2 GE_HMBS GE_CCNC GE_SCAND1 GE_COMMD9 GE_COASY GE_HSF2 GE_RNMTL1 GE_POLR2C GE_ZNF761 GE_NDUFA8 GE_DERL2 GE_RNF187 GE_EXTL3 GE_PALB2 GE_ARHGDIA GE_MFN1 GE_MLX GE_SIRT7 GE_COX4NB GE_GAB2 GE_ST14 GE_MRPL51 GE_ZNF687 GE_PCTP GE_SRRM2 GE_N4BP1 GE_MPHOSPH8 GE_UCKL1 GE_PRR11 GE_DIDO1 GE_RFNG GE_EIF6 GE_L3MBTL2 GE_TM9SF4 GE_RECQL5 GE_UBE2M GE_MAP1LC3B GE_BCL2L13 GE_WDR74 GE_MOCS3 GE_PFDN4 GE_HDAC2 GE_EVPL GE_ACAD8 GE_POLR2G GE_ZNF282 GE_CABLES2 GE_WWP1 GE_NGRN GE_CSRP2BP GE_BCL7C GE_TBL3 GE_COQ3 GE_MRPL28 GE_POLG GE_VPS33B GE_TOP2A GE_CPSF3 GE_PRPF18 GE_POLR2F GE_EIF3M GE_MED19 GE_THOC1 GE_ANKRD16 GE_RHPN1 GE_ZNF692 GE_ELOVL1 GE_SNRPA1 GE_RAD51AP1 GE_AFG3L2 GE_NDE1 GE_USP10 GE_JOSD1 GE_CECR5 GE_ISG20L2 GE_POLR1D GE_SON GE_MRPL18 GE_RBL2 GE_DHX35 GE_SMARCB1 GE_GON4L GE_SCO1 GE_EPN2 GE_HEBP2 GE_WDR53 GE_TAOK1 GE_TRMT1 GE_PPP4R1 GE_IRF2BP2 GE_ARL5B GE_DDX10 GE_NDFIP2 GE_YEATS4 GE_ZDHHC5 GE_SIRT5 GE_TIAF1 GE_CHMP4C GE_HEATR3 GE_LGALS8 GE_SAMM50 GE_MTUS1 GE_PATL1 GE_USP7 GE_AURKA GE_SDHC GE_MRPL36 GE_TNRC6A GE_EMG1 GE_RPS6KB2 GE_EFTUD2 GE_QRSL1 GE_UPF3A GE_GTF2F2 GE_CRLS1 GE_PINX1 GE_TTPAL GE_PHF5A GE_PPP6C GE_TXLNA GE_PYGO2 GE_FBXO16 GE_TATDN3 GE_ZNF746 GE_SLC25A39 GE_NVL GE_CMAS GE_PRDX5 GE_LRRC45 GE_RHBDF1 GE_ASPSCR1 GE_STOML2 GE_EIF4ENIF1 GE_AKIRIN2 GE_SLC35C2 GE_SCYL1 GE_PRMT2 GE_SUV420H1 GE_CHKA GE_CANT1 GE_PTCD1 GE_INTS5 GE_MKRN1 GE_OXR1 GE_TEX2 GE_SHMT1 GE_PCMT1 GE_DLAT GE_RANBP10 GE_PPP2R5A GE_DDX27 GE_POLDIP3 GE_MRPL37 GE_PSMB6 GE_RHOT1 GE_FLAD1 GE_CRAMP1L GE_UHMK1 GE_HCFC1R1 GE_TATDN1 GE_DUS1L GE_VPS26B GE_ATP5EP2 GE_TRIM28 GE_TAF1C GE_APIP GE_RAC1 GE_ACLY GE_ELMO2 GE_VAMP4 GE_NUDCD1 GE_NPEPL1 GE_ADCY9 GE_ALG1 GE_HYOU1 GE_BIN3 GE_ATP5J2 GE_FUCA2 GE_TARBP1 GE_NSUN2 GE_FAM105B GE_TPD52L2 GE_SRRD GE_FZD3 GE_MON1B GE_POP1 GE_METRN GE_FIZ1 GE_SMCR7L GE_FH GE_ZNF543 GE_ARMC10 GE_TAX1BP1 GE_SSR2 GE_EIF3E GE_GSDMD GE_NUDT16L1 GE_DNAJC7 GE_GBA GE_COG4 GE_ANKRD40 GE_ZNF205 GE_CCT8 GE_LYPLA1 GE_MUTED GE_MRPS26 GE_USF1 GE_TAF6L GE_MTMR3 GE_MTCH1 GE_TMEM99 GE_ZNHIT3 GE_FOXM1 GE_EXOC3 GE_ARMC7 GE_KCTD2 GE_PDCD10 GE_RHOD GE_YBX1 GE_TRIM24 CNA_GRB7 CNA_LSM1 CNA_CLNS1A CNA_STARD3 CNA_PPFIA1 CNA_ERBB2 CNA_INTS4 CNA_FADD CNA_ORMDL3 CNA_PSMB3 CNA_ALG8 CNA_MED24 CNA_ASH2L CNA_PSMD3 CNA_BRF2 CNA_ORAOV1 CNA_VDAC3 CNA_WHSC1L1 CNA_CTTN CNA_PROSC CNA_PRKRIR CNA_GOLGA7 CNA_COPS5 CNA_RPS6KB1 CNA_NARS2 CNA_GSDMB CNA_ZNF7 CNA_COMMD5 CNA_PUF60 CNA_ERLIN2 CNA_EBAG9 CNA_CYC1 CNA_RRS1 CNA_CASC3 CNA_TRMT12 CNA_DDHD2 CNA_TLK2 CNA_UTP23 CNA_EXOSC4 CNA_DERL1 CNA_PHB CNA_MRPL13 CNA_SLC35B1 CNA_PTRH2 CNA_SCRIB CNA_ERAL1 CNA_CPNE3 CNA_RTN4IP1 CNA_MAF1 CNA_COIL CNA_YWHAZ CNA_RAB11FIP1 CNA_SUPT4H1 CNA_PPME1 CNA_UBR5 CNA_AP3M2 CNA_INTS10 CNA_MRPS23 CNA_RB1CC1 CNA_NSMCE2 CNA_TM2D2 CNA_NOL11 CNA_ARFGEF1 CNA_SRP68 CNA_POLR3C CNA_FBXL20 CNA_CSPP1 CNA_GTF2E2 CNA_ZC3H3 CNA_HEATR6 CNA_MRPL21 CNA_AMZ2 CNA_OTUD6B CNA_SF3B4 CNA_TAF2 CNA_GNPAT CNA_VCPIP1 CNA_SCAMP3 CNA_AZIN1 CNA_INTS9 CNA_ZNF696 CNA_KLHL12 CNA_ANGEL2 CNA_MRPL45 CNA_FNTA CNA_BOP1 CNA_NUP133 CNA_DDX59 CNA_INTS2 CNA_RAE1 CNA_ZNF250 CNA_POGK CNA_SPCS2 CNA_NUP85 CNA_TBCE CNA_SHARPIN CNA_ARV1 CNA_MTMR4 CNA_NDUFS8 CNA_NME1 CNA_PRCC CNA_ZUFSP CNA_FBXL6 CNA_VPS72 CNA_NDUFC2 CNA_DNAJA2 CNA_DHX40 CNA_YY1AP1 CNA_DAP3 CNA_CDC123 CNA_MRPS7 CNA_PREP CNA_TSEN54 CNA_TRIM37 CNA_PSMD4 CNA_PAAF1 CNA_FAM20B CNA_RCE1 CNA_MRPL27 CNA_POLDIP2 CNA_ANKRD49 CNA_UBE2Z CNA_RSAD1 CNA_POLD3 CNA_VPS28 CNA_ARMC1 CNA_ZNF707 CNA_RAD54B CNA_ADSS CNA_AQP11 CNA_KIAA0196 CNA_NUDT5 CNA_PIGC CNA_APPBP2 CNA_SUPT6H CNA_COG1 CNA_CCDC90B CNA_TMEM70 CNA_USP21 CNA_PRUNE CNA_PI4KB CNA_UBE2O CNA_ATP6V1H CNA_CNOT7 CNA_PPP1CA CNA_RAB6A CNA_ZBTB24 CNA_DDX42 CNA_MRPL55 CNA_STK3 CNA_BAG4 CNA_PTDSS1 CNA_PIP4K2B CNA_ANKRD46 CNA_LASP1 CNA_MTBP CNA_MRPS28 CNA_PAK1 CNA_BCL9 CNA_HSF1 CNA_UBE2V2 CNA_CDC16 CNA_SQLE CNA_AATF CNA_SEPHS1 CNA_CDC40 CNA_ATP6V1C1 CNA_APOA1BP CNA_FAM83H CNA_ATAD2 CNA_USP6NL CNA_ICT1 CNA_FLOT2 CNA_MLLT6 CNA_FTSJ3 CNA_PPM1D CNA_ANAPC11 CNA_TMEM126B CNA_FAM91A1 CNA_SETDB1 CNA_BRD7 CNA_IPO9 CNA_PCGF2 CNA_SNX3 CNA_PVT1 CNA_PARN CNA_XYLT2 CNA_ADIPOR1 CNA_ARHGEF7 CNA_PRKDC CNA_GPS1 CNA_HDDC2 CNA_PEX11B CNA_NUFIP2 CNA_DUSP12 CNA_MED30 CNA_PMF1 CNA_UQCRB CNA_KARS CNA_NME1-NME2 CNA_SNORD4A CNA_CPSF1 CNA_CYB561 CNA_E2F4 CNA_CHRAC1 CNA_MRPL9 CNA_SMARCE1 CNA_USP35 CNA_ZNF34 CNA_RARS2 CNA_GTPBP4 CNA_MRPL38 CNA_ACBD6 CNA_RSF1 CNA_ZFP91 CNA_ALKBH5 CNA_TNFAIP1 CNA_VPS45 CNA_NDUFA9 CNA_MTRF1L CNA_COPA CNA_TAF4 CNA_MTFR1 CNA_NADSYN1 CNA_GGPS1 CNA_LRRC14 CNA_EPN3 CNA_TGDS CNA_GIT1 CNA_ZNF688 CNA_HSPA14 CNA_WRN CNA_PTK2 CNA_SNX27 CNA_MAK16 CNA_UPF2 CNA_OGFOD1 CNA_UFC1 CNA_FDFT1 CNA_TRAF4 CNA_ERAS CNA_COX4I1 CNA_PPP2CB CNA_DPY19L4 CNA_RAD51C CNA_RPL8 CNA_HRSP12 CNA_PYCRL CNA_GLI4 CNA_FAM96B CNA_COPS3 CNA_METTL2A CNA_TCEB2 CNA_EARS2 CNA_ZNF672 CNA_JTB CNA_PIGS CNA_AARS CNA_TMEM134 CNA_TMCO1 CNA_ELP3 CNA_SDF2 CNA_COG2 CNA_PRPSAP1 CNA_TP53I13 CNA_GGA3 CNA_PPP2R2A CNA_CCDC25 CNA_ATP5H CNA_TBPL1 CNA_ZNF263 CNA_PSEN2 CNA_HELZ CNA_RNF40 CNA_SAP30BP CNA_TARS2 CNA_GNA13 CNA_STAU1 CNA_ADCK5 CNA_PSMB1 CNA_ZNF16 CNA_AKTIP CNA_RNF121 CNA_NDEL1 CNA_TPR CNA_CYB5B CNA_NUP107 CNA_GRINA CNA_COG7 CNA_RCOR3 CNA_ATF6 CNA_DDX47 CNA_OSGIN2 CNA_PITRM1 CNA_NUP93 CNA_CSNK2A2 CNA_TFB2M CNA_KRT10 CNA_PCSK7 CNA_NPLOC4 CNA_MCM4 CNA_DPAGT1 CNA_POLR3A CNA_COQ9 CNA_TRAM1 CNA_TOP1MT CNA_SPAG5 CNA_EXOC7 CNA_TRIM11 CNA_POLR3K CNA_PHF20L1 CNA_SCYL3 CNA_PHKB CNA_RAD9A CNA_FBXO18 CNA_NAT9 CNA_TMEM9 CNA_CNOT2 CNA_PPOX CNA_MCM10 CNA_VPS35 CNA_CCDC77 CNA_PIGM CNA_CLTC CNA_NSL1 CNA_SNF8 CNA_USP32 CNA_PCID2 CNA_SLC39A4 CNA_BIRC2 CNA_HAX1 CNA_FLII CNA_STK24 CNA_TMEM199 CNA_ARF1 CNA_MTL5 CNA_STRADA CNA_TOR1AIP1 CNA_FBXO28 CNA_ERICH1 CNA_RAB22A CNA_ROGDI CNA_CREBZF CNA_DDX19A CNA_IQCK CNA_BOLA1 CNA_STAU2 CNA_AHCTF1 CNA_MRPL12 CNA_CCDC47 CNA_DGAT1 CNA_CREBBP CNA_CLUAP1 CNA_TERF1 CNA_THAP1 CNA_SF3B2 CNA_KIAA1429 CNA_BCKDK CNA_CCT2 CNA_SMARCD2 CNA_COQ7 CNA_IARS2 CNA_KRTCAP2 CNA_TMEM97 CNA_FLYWCH2 CNA_SLC25A44 CNA_LTV1 CNA_INTS3 CNA_ZFAND1 CNA_FBXO31 CNA_TROVE2 CNA_BRMS1 CNA_RWDD1 CNA_DDX19B CNA_NDUFV1 CNA_NIP7 CNA_ZW10 CNA_CCNE2 CNA_TUBD1 CNA_DDX52 CNA_SIAH1 CNA_PNMT CNA_KIFC2 CNA_TOB1 CNA_REXO2 CNA_ERCC5 CNA_RBBP5 CNA_PPIH CNA_TRAPPC9 CNA_FBXO7 CNA_NCSTN CNA_ZNF706 CNA_EIF4A3 CNA_ZNF500 CNA_SLC20A2 CNA_OSBP CNA_LEPROTL1 CNA_RAB2A CNA_PANX1 CNA_RAB40C CNA_SF3B5 CNA_PUS3 CNA_VPS37A CNA_NEIL2 CNA_CLK2 CNA_JMJD6 CNA_SS18L1 CNA_ABCB10 CNA_RNFT1 CNA_WBP2 CNA_TRAF3IP2 CNA_TLCD1 CNA_TULP3 CNA_RNMT CNA_STAM CNA_ANKRD11 CNA_PRR14 CNA_CDC6 CNA_MED23 CNA_PSME3 CNA_ATP5G1 CNA_DEDD CNA_ZNF703 CNA_B4GALT3 CNA_EIF4EBP1 CNA_TUFM CNA_YTHDF1 CNA_SNAPC3 CNA_UBAC2 CNA_UVRAG CNA_ZNF213 CNA_MTX1 CNA_CD46 CNA_STRA13 CNA_LCMT1 CNA_PGS1 CNA_MTDH CNA_RPUSD4 CNA_RPP38 CNA_RBBP6 CNA_KIAA0556 CNA_PSMB4 CNA_CIAPIN1 CNA_CALCOCO2 CNA_ACTL6A CNA_RRP15 CNA_BPNT1 CNA_VTA1 CNA_MED8 CNA_H3F3A CNA_MTMR9 CNA_ZNF251 CNA_PMVK CNA_GPAA1 CNA_NUBP1 CNA_POLB CNA_NME2 CNA_THRA CNA_PDPK1 CNA_KIAA0907 CNA_SEC63 CNA_EEF2K CNA_ATP5L CNA_MRE11A CNA_NEK8 CNA_NTHL1 CNA_RAB4A CNA_TNFRSF10B CNA_TFDP1 CNA_ARFGEF2 CNA_ADAM9 CNA_MAL2 CNA_TRIM44 CNA_TUFT1 CNA_PDHX CNA_INPPL1 CNA_NUP43 CNA_DHRS7B CNA_FAHD1 CNA_TOP3A CNA_IFT140 CNA_OSTM1 CNA_ZNF319 CNA_EBNA1BP2 CNA_DYNC1LI2 CNA_ACBD3 CNA_KCTD21 CNA_CCND1 CNA_PHF12 CNA_TMEM183A CNA_TPD52 CNA_POGZ CNA_SDCCAG8 CNA_E2F5 CNA_DDX5 CNA_DYNLRB1 CNA_FAM173A CNA_PDSS1 CNA_COX10 CNA_STX16 CNA_SNORA25 CNA_TMEM126A CNA_LONRF1 CNA_R3HCC1 CNA_AXIN1 CNA_CUL4A CNA_FOXO3 CNA_RHOT2 CNA_NENF CNA_DDB1 CNA_CSTF3 CNA_DPM1 CNA_DCTN5 CNA_CLEC16A CNA_APH1A CNA_PRPF8 CNA_RBM12B CNA_INO80E CNA_DUSP23 CNA_FAM84B CNA_DCUN1D5 CNA_HGS CNA_DNTTIP1 CNA_CYHR1 CNA_ZC3HC1 CNA_PRPF3 CNA_POLD4 CNA_ARGLU1 CNA_STX6 CNA_GALK1 CNA_ORAI3 CNA_PCM1 CNA_GLG1 CNA_DSCC1 CNA_BUD31 CNA_HIRIP3 CNA_DHX38 CNA_PPP3CC CNA_CTNNBL1 CNA_DNAJA3 CNA_MED13 CNA_DEF8 CNA_RPL30 CNA_NOL7 CNA_TRMT11 CNA_POLG2 CNA_CORO1B CNA_SNX11 CNA_PYCR2 CNA_ABAT CNA_HOOK3 CNA_CNOT1 CNA_DYNLL2 CNA_CCNE1 CNA_LLGL1 CNA_NCOA6 CNA_ARL2BP CNA_RBM4 CNA_CUL1 CNA_SRP9 CNA_EPRS CNA_MRPS14 CNA_ASCC3 CNA_WDR59 CNA_SSH3 CNA_TTC4 CNA_PPP1R3D CNA_ATP6V1F CNA_CHORDC1 CNA_RNPS1 CNA_ADSL CNA_STT3A CNA_BTBD10 CNA_ADRM1 CNA_ARCN1 CNA_NAE1 CNA_BFAR CNA_KATNB1 CNA_CARKD CNA_ALG9 CNA_PSMC2 CNA_BANF1 CNA_DARS2 CNA_ZBED4 CNA_SPAG9 CNA_RALBP1 CNA_CAND1 CNA_PTPRA CNA_MUS81 CNA_LLGL2 CNA_STX3 CNA_ZNF622 CNA_DHTKD1 CNA_IKBKB CNA_MAPK7 CNA_AGK CNA_DHRS13 CNA_SH3BP5L CNA_KATNA1 CNA_MASTL CNA_HINT3 CNA_ZNF17 CNA_TMEM11 CNA_KLHL36 CNA_EFR3A CNA_EIF1 CNA_GOLPH3L CNA_MCPH1 CNA_RNF170 CNA_RPS6KC1 CNA_IGHMBP2 CNA_TBCD CNA_CLP1 CNA_KCTD9 CNA_PRPSAP2 CNA_RARA CNA_MRPS31 CNA_TUBG1 CNA_CPSF4 CNA_LYRM1 CNA_ZNF174 CNA_TRABD CNA_TRPC4AP CNA_IDH3B CNA_TOM1L1 CNA_ZBTB41 CNA_MRPL15 CNA_POMP CNA_PACSIN2 CNA_MAP3K7 CNA_NUBP2 CNA_TCEA1 "
     ]
    },
    {
     "name": "stdout",
     "output_type": "stream",
     "text": [
      "CNA_THOC6 CNA_PHKG2 CNA_SCNM1 CNA_DRG1 CNA_SNX19 CNA_IMPAD1 CNA_EDC4 CNA_CCS CNA_RFWD3 CNA_PIGU CNA_ERGIC3 CNA_STX10 CNA_KCTD3 CNA_EXOSC8 CNA_NUP153 CNA_DEXI CNA_GDE1 CNA_AARSD1 CNA_MRRF CNA_SPOP CNA_CSE1L CNA_RAB1B CNA_SNRPB2 CNA_ADAR CNA_YIF1A CNA_ACTR5 CNA_SPATA2 CNA_GATAD2B CNA_LYSMD1 CNA_GINS4 CNA_EEF1D CNA_MTO1 CNA_SDAD1 CNA_PSMC6 CNA_CRELD2 CNA_RCL1 CNA_DPH2 CNA_VPS4A CNA_LAPTM4B CNA_ATG5 CNA_JUP CNA_RPL19 CNA_RNF43 CNA_RFWD2 CNA_ST3GAL1 CNA_ARF5 CNA_LYPLAL1 CNA_GTF3A CNA_CHMP6 CNA_UBQLN4 CNA_ZNF395 CNA_TTC13 CNA_TMEM123 CNA_SSBP1 CNA_LIG3 CNA_ZNF787 CNA_SF3B3 CNA_EFNA1 CNA_WDR26 CNA_PDCD2 CNA_KIAA0100 CNA_THOC5 CNA_ALDH9A1 CNA_TBK1 CNA_CEP350 CNA_EI24 CNA_API5 CNA_RAB25 CNA_RNGTT CNA_KIAA0391 CNA_NME3 CNA_NUP205 CNA_TOMM22 CNA_HAGH CNA_IGSF9 CNA_CHMP1A CNA_DUSP14 CNA_FOXJ3 CNA_COX11 CNA_PEX5 CNA_ARPC1A CNA_TMUB2 CNA_ZNF212 CNA_PSMD7 CNA_FOXJ2 CNA_DRG2 CNA_ELP4 CNA_PEX19 CNA_ASCC2 CNA_GCC1 CNA_TMEM219 CNA_LUC7L CNA_MIA3 CNA_NARF CNA_ACOX1 CNA_DECR2 CNA_SAAL1 CNA_RAB5C CNA_CDK2AP2 CNA_PITPNB CNA_TM2D3 CNA_PAK1IP1 CNA_MIF4GD CNA_RABIF CNA_ANKS3 CNA_BRD1 CNA_TOMM20 CNA_WRNIP1 CNA_RSPRY1 CNA_XRCC6 CNA_TPCN2 CNA_MRPL11 CNA_SNRPB CNA_RAPGEFL1 CNA_NT5C CNA_IGF2R CNA_NDUFS3 CNA_MAPK3 CNA_THUMPD1 CNA_NBN CNA_TM9SF2 CNA_ADPGK CNA_ARRB1 CNA_SLC35E3 CNA_GEMIN4 CNA_AKAP10 CNA_DCLRE1C CNA_MIS12 CNA_EME1 CNA_NRBP2 CNA_GOSR1 CNA_WDR90 CNA_PSMC3IP CNA_PPP1R14B CNA_NMRAL1 CNA_STX4 CNA_GGNBP2 CNA_BRPF1 CNA_DNAJC5 CNA_TMEM189 CNA_XPR1 CNA_LACTB2 CNA_ELAC2 CNA_HMBS CNA_CCNC CNA_SCAND1 CNA_COMMD9 CNA_COASY CNA_HSF2 CNA_RNMTL1 CNA_POLR2C CNA_ZNF761 CNA_NDUFA8 CNA_DERL2 CNA_RNF187 CNA_EXTL3 CNA_PALB2 CNA_ARHGDIA CNA_MFN1 CNA_MLX CNA_SIRT7 CNA_GAB2 CNA_ST14 CNA_MRPL51 CNA_ZNF687 CNA_PCTP CNA_SRRM2 CNA_N4BP1 CNA_MPHOSPH8 CNA_UCKL1 CNA_PRR11 CNA_DIDO1 CNA_RFNG CNA_EIF6 CNA_L3MBTL2 CNA_TM9SF4 CNA_RECQL5 CNA_UBE2M CNA_MAP1LC3B CNA_BCL2L13 CNA_WDR74 CNA_MOCS3 CNA_PFDN4 CNA_HDAC2 CNA_EVPL CNA_ACAD8 CNA_POLR2G CNA_ZNF282 CNA_CABLES2 CNA_WWP1 CNA_NGRN CNA_CSRP2BP CNA_BCL7C CNA_TBL3 CNA_COQ3 CNA_MRPL28 CNA_POLG CNA_VPS33B CNA_TOP2A CNA_CPSF3 CNA_PRPF18 CNA_POLR2F CNA_EIF3M CNA_MED19 CNA_THOC1 CNA_ANKRD16 CNA_RHPN1 CNA_ZNF692 CNA_ELOVL1 CNA_SNRPA1 CNA_RAD51AP1 CNA_AFG3L2 CNA_NDE1 CNA_USP10 CNA_JOSD1 CNA_CECR5 CNA_ISG20L2 CNA_POLR1D CNA_SON CNA_MRPL18 CNA_RBL2 CNA_DHX35 CNA_SMARCB1 CNA_GON4L CNA_PIPSL CNA_SCO1 CNA_EPN2 CNA_HEBP2 CNA_RSU1 CNA_WDR53 CNA_TAOK1 CNA_TRMT1 CNA_PPP4R1 CNA_IRF2BP2 CNA_ARL5B CNA_DDX10 CNA_NDFIP2 CNA_YEATS4 CNA_ZDHHC5 CNA_SIRT5 CNA_TIAF1 CNA_CHMP4C CNA_HEATR3 CNA_LGALS8 CNA_SAMM50 CNA_MTUS1 CNA_PATL1 CNA_USP7 CNA_AURKA CNA_SDHC CNA_MRPL36 CNA_TNRC6A CNA_EMG1 CNA_RPS6KB2 CNA_EFTUD2 CNA_QRSL1 CNA_UPF3A CNA_GTF2F2 CNA_CRLS1 CNA_PINX1 CNA_TTPAL CNA_PHF5A CNA_PPP6C CNA_TXLNA CNA_PYGO2 CNA_FBXO16 CNA_TATDN3 CNA_ZNF746 CNA_SLC25A39 CNA_NVL CNA_CMAS CNA_PRDX5 CNA_LRRC45 CNA_RHBDF1 CNA_ASPSCR1 CNA_STOML2 CNA_METTL4 CNA_EIF4ENIF1 CNA_AKIRIN2 CNA_SLC35C2 CNA_SCYL1 CNA_PRMT2 CNA_CHKA CNA_CANT1 CNA_PTCD1 CNA_INTS5 CNA_MKRN1 CNA_OXR1 CNA_TEX2 CNA_SHMT1 CNA_PCMT1 CNA_DLAT CNA_RANBP10 CNA_PPP2R5A CNA_DDX27 CNA_POLDIP3 CNA_MRPL37 CNA_CCDC43 CNA_ZNF416 CNA_PSMB6 CNA_STXBP4 CNA_RHOT1 CNA_FLAD1 CNA_UHMK1 CNA_HCFC1R1 CNA_TATDN1 CNA_DUS1L CNA_VPS26B CNA_ATP5EP2 CNA_TRIM28 CNA_TAF1C CNA_APIP CNA_RAC1 CNA_ACLY CNA_ELMO2 CNA_VAMP4 CNA_NUDCD1 CNA_NPEPL1 CNA_MDM4 CNA_ADCY9 CNA_ALG1 CNA_HYOU1 CNA_BIN3 CNA_ATP5J2 CNA_FUCA2 CNA_TARBP1 CNA_NSUN2 CNA_TPD52L2 CNA_SRRD CNA_FZD3 CNA_MON1B CNA_POP1 CNA_METRN CNA_FIZ1 CNA_FH CNA_ZNF543 CNA_ARMC10 CNA_ANKRD54 CNA_TAX1BP1 CNA_SSR2 CNA_EIF3E CNA_GSDMD CNA_NUDT16L1 CNA_DNAJC7 CNA_GBA CNA_COG4 CNA_ANKRD40 CNA_ZNF205 CNA_CCT8 CNA_LYPLA1 CNA_MRPS26 CNA_USF1 CNA_MGRN1 CNA_TAF6L CNA_MTMR3 CNA_MTCH1 CNA_TMEM99 CNA_ZNHIT3 CNA_FOXM1 CNA_EXOC3 CNA_ARMC7 CNA_KCTD2 CNA_PDCD10 CNA_RHOD CNA_CFL1 CNA_YBX1 CNA_TRIM24 CNA_RAB11FIP3\n"
     ]
    }
   ],
   "source": [
    "print(*raw_data.columns)"
   ]
  },
  {
   "cell_type": "code",
   "execution_count": 23,
   "metadata": {},
   "outputs": [],
   "source": [
    "def load_split_indices(file_path, fold_index=0):\n",
    "    \"\"\"\n",
    "    Args:\n",
    "        file_path: path to split indices file\n",
    "        fold_index: index of the fold whose train and test indices you want\n",
    "\n",
    "    Returns:\n",
    "        train_index: list of integer indices for train data\n",
    "        test_index: list of integer indices for test data\n",
    "\n",
    "    File of the form\n",
    "    train 0 1 0 2 ...\n",
    "    test 3 4 6 ...\n",
    "    train 1 5 2 ...\n",
    "    test 6 8 9 ...\n",
    "    ...\n",
    "    \"\"\"\n",
    "    with open(file_path, 'r') as file:\n",
    "        lines = file.readlines()\n",
    "        assert len(lines) >= (2 * fold_index) + 2, 'Error: not enough information in fold indices file %d < % d' \\\n",
    "                                                   % (len(lines), (2 * fold_index) + 2)\n",
    "\n",
    "        train_index = lines[(fold_index * 2)].split(' ')[1:]\n",
    "        test_index = lines[(fold_index * 2) + 1].split(' ')[1:]\n",
    "\n",
    "        # Convert string indices to ints\n",
    "        train_index = [int(i) for i in train_index]\n",
    "        test_index = [int(i) for i in test_index]\n",
    "\n",
    "    return train_index, test_index"
   ]
  },
  {
   "cell_type": "code",
   "execution_count": 24,
   "metadata": {},
   "outputs": [],
   "source": [
    "DATASET_DP = '../../MB-GE-DR/' \n",
    "CV_DP = DATASET_DP + 'cross_validation/'\n",
    "N_FOLD_CV_DP = CV_DP + '5_folds/' \n",
    "N_FOLD_CV_SPLIT_INDICIES_FP = N_FOLD_CV_DP + 'data_split_indices.txt'\n",
    "DATA_FP = DATASET_DP + 'data.csv'"
   ]
  },
  {
   "cell_type": "code",
   "execution_count": 25,
   "metadata": {},
   "outputs": [],
   "source": [
    "train_index, test_index = load_split_indices(N_FOLD_CV_SPLIT_INDICIES_FP, fold_index=0)"
   ]
  },
  {
   "cell_type": "code",
   "execution_count": 27,
   "metadata": {},
   "outputs": [
    {
     "name": "stderr",
     "output_type": "stream",
     "text": [
      "/Users/zohrehwmac/.pyenv/versions/3.7.0/lib/python3.7/site-packages/IPython/core/interactiveshell.py:3049: DtypeWarning: Columns (19,20) have mixed types. Specify dtype option on import or set low_memory=False.\n",
      "  interactivity=interactivity, compiler=compiler, result=result)\n"
     ]
    }
   ],
   "source": [
    "import pandas as pd \n",
    "\n",
    "raw_data = pd.read_csv('MBdata_33CLINwMiss_1KfGE_1KfCNA.csv')\n",
    "ic = pd.DataFrame(raw_data[\"iC10\"])\n",
    "\n",
    "data = pd.read_csv(DATA_FP)\n",
    "\n",
    "comb = pd.concat([data, ic], axis=1)"
   ]
  },
  {
   "cell_type": "code",
   "execution_count": 28,
   "metadata": {},
   "outputs": [],
   "source": [
    "X = comb.drop([\"DR\"], axis=1).values\n",
    "y = comb[\"DR\"].values"
   ]
  },
  {
   "cell_type": "code",
   "execution_count": 29,
   "metadata": {},
   "outputs": [],
   "source": [
    "X_test, y_test = X[test_index], y[test_index]"
   ]
  },
  {
   "cell_type": "code",
   "execution_count": 30,
   "metadata": {},
   "outputs": [
    {
     "data": {
      "text/plain": [
       "array([[0.20716613220697555, 0.4039830776522035, 0.4290695962360875, ...,\n",
       "        0.4452887599308149, 0.3376187094807364, '4ER+'],\n",
       "       [0.20614392520826508, 0.37178312125805935, 0.4697337687978103,\n",
       "        ..., 0.448851970658986, 0.7484649515187143, '3'],\n",
       "       [0.3848522244787065, 0.4757945529529661, 0.340600425648679, ...,\n",
       "        0.5252682110000182, 0.6403943589267223, '9'],\n",
       "       ...,\n",
       "       [0.6620816797192337, 0.23335766117021306, 0.3284573916302476, ...,\n",
       "        0.3705118616474459, 0.31407288308569514, '5'],\n",
       "       [0.44230896834207, 0.4042264925025565, 0.7118835288684837, ...,\n",
       "        0.2441226811129085, 0.17855969466733912, '2'],\n",
       "       [0.22917291668961715, 0.2713041733670578, 0.3167828388625273, ...,\n",
       "        0.3508985450334932, 0.30405805160904986, '8']], dtype=object)"
      ]
     },
     "execution_count": 30,
     "metadata": {},
     "output_type": "execute_result"
    }
   ],
   "source": [
    "X_test"
   ]
  },
  {
   "cell_type": "code",
   "execution_count": 31,
   "metadata": {},
   "outputs": [
    {
     "data": {
      "text/plain": [
       "(397, 1001)"
      ]
     },
     "execution_count": 31,
     "metadata": {},
     "output_type": "execute_result"
    }
   ],
   "source": [
    "X_test.shape"
   ]
  },
  {
   "cell_type": "code",
   "execution_count": 49,
   "metadata": {},
   "outputs": [
    {
     "data": {
      "text/plain": [
       "0.15104390377768007"
      ]
     },
     "execution_count": 49,
     "metadata": {},
     "output_type": "execute_result"
    }
   ],
   "source": [
    "vv = comb.drop([\"DR\"], axis = 1)\n",
    "vj = vv.iloc[:1, :].values\n",
    "vj[0,99]\n",
    "\n",
    "# import sys\n",
    "# import numpy\n",
    "# numpy.set_printoptions(threshold=sys.maxsize)\n",
    "\n",
    "# vj"
   ]
  },
  {
   "cell_type": "code",
   "execution_count": 34,
   "metadata": {},
   "outputs": [],
   "source": [
    "gh = data.drop([\"DR\"], axis=1)"
   ]
  },
  {
   "cell_type": "code",
   "execution_count": 35,
   "metadata": {},
   "outputs": [
    {
     "data": {
      "text/plain": [
       "pandas.core.frame.DataFrame"
      ]
     },
     "execution_count": 35,
     "metadata": {},
     "output_type": "execute_result"
    }
   ],
   "source": [
    "type(gh)"
   ]
  },
  {
   "cell_type": "code",
   "execution_count": 40,
   "metadata": {},
   "outputs": [
    {
     "data": {
      "text/plain": [
       "pandas.core.frame.DataFrame"
      ]
     },
     "execution_count": 40,
     "metadata": {},
     "output_type": "execute_result"
    }
   ],
   "source": []
  },
  {
   "cell_type": "code",
   "execution_count": 4,
   "metadata": {},
   "outputs": [],
   "source": [
    "x = \"4ER-\""
   ]
  },
  {
   "cell_type": "code",
   "execution_count": 8,
   "metadata": {},
   "outputs": [
    {
     "name": "stdout",
     "output_type": "stream",
     "text": [
      "no\n"
     ]
    }
   ],
   "source": [
    "if x == \"4ER+\":\n",
    "    print(\"yes\")\n",
    "else:\n",
    "    print(\"no\")"
   ]
  },
  {
   "cell_type": "code",
   "execution_count": 9,
   "metadata": {},
   "outputs": [
    {
     "ename": "TypeError",
     "evalue": "append() takes exactly one argument (2 given)",
     "output_type": "error",
     "traceback": [
      "\u001b[0;31m---------------------------------------------------------------------------\u001b[0m",
      "\u001b[0;31mTypeError\u001b[0m                                 Traceback (most recent call last)",
      "\u001b[0;32m<ipython-input-9-748423ce9962>\u001b[0m in \u001b[0;36m<module>\u001b[0;34m\u001b[0m\n\u001b[1;32m      1\u001b[0m \u001b[0mt\u001b[0m \u001b[0;34m=\u001b[0m \u001b[0;34m[\u001b[0m\u001b[0;34m]\u001b[0m\u001b[0;34m\u001b[0m\u001b[0m\n\u001b[0;32m----> 2\u001b[0;31m \u001b[0mt\u001b[0m\u001b[0;34m.\u001b[0m\u001b[0mappend\u001b[0m\u001b[0;34m(\u001b[0m\u001b[0;36m7\u001b[0m\u001b[0;34m,\u001b[0m \u001b[0;36m8\u001b[0m\u001b[0;34m)\u001b[0m\u001b[0;34m\u001b[0m\u001b[0m\n\u001b[0m",
      "\u001b[0;31mTypeError\u001b[0m: append() takes exactly one argument (2 given)"
     ]
    }
   ],
   "source": [
    "t = [1,2,3,4,5,6,7,8,9,0]"
   ]
  },
  {
   "cell_type": "code",
   "execution_count": 12,
   "metadata": {},
   "outputs": [],
   "source": [
    "for i in t:\n",
    "    z = i + 5"
   ]
  },
  {
   "cell_type": "code",
   "execution_count": 13,
   "metadata": {},
   "outputs": [
    {
     "data": {
      "text/plain": [
       "12"
      ]
     },
     "execution_count": 13,
     "metadata": {},
     "output_type": "execute_result"
    }
   ],
   "source": [
    "z"
   ]
  },
  {
   "cell_type": "code",
   "execution_count": 17,
   "metadata": {},
   "outputs": [],
   "source": [
    "emp = set()\n",
    "ex = {1,2,3}\n",
    "new = {5,6}\n",
    "newish = {7,8}\n",
    "vnew ={9, 10}"
   ]
  },
  {
   "cell_type": "code",
   "execution_count": 20,
   "metadata": {},
   "outputs": [],
   "source": [
    "for i in [new, newish, vnew]:\n",
    "    emp = emp.union(i)"
   ]
  },
  {
   "cell_type": "code",
   "execution_count": 21,
   "metadata": {},
   "outputs": [
    {
     "data": {
      "text/plain": [
       "{5, 6, 7, 8, 9, 10}"
      ]
     },
     "execution_count": 21,
     "metadata": {},
     "output_type": "execute_result"
    }
   ],
   "source": [
    "emp\n"
   ]
  },
  {
   "cell_type": "code",
   "execution_count": 45,
   "metadata": {},
   "outputs": [
    {
     "data": {
      "text/plain": [
       "str"
      ]
     },
     "execution_count": 45,
     "metadata": {},
     "output_type": "execute_result"
    }
   ],
   "source": [
    "f = \"fg\"\n",
    "type(f)"
   ]
  },
  {
   "cell_type": "code",
   "execution_count": 50,
   "metadata": {},
   "outputs": [],
   "source": [
    "p = [1,3,90]\n",
    "o = [45,49,12]"
   ]
  },
  {
   "cell_type": "code",
   "execution_count": 51,
   "metadata": {},
   "outputs": [],
   "source": [
    "p = p+o"
   ]
  },
  {
   "cell_type": "code",
   "execution_count": 52,
   "metadata": {},
   "outputs": [
    {
     "data": {
      "text/plain": [
       "[1, 3, 90, 45, 49, 12]"
      ]
     },
     "execution_count": 52,
     "metadata": {},
     "output_type": "execute_result"
    }
   ],
   "source": [
    "p"
   ]
  },
  {
   "cell_type": "code",
   "execution_count": 63,
   "metadata": {},
   "outputs": [
    {
     "data": {
      "text/plain": [
       "0       41\n",
       "1        3\n",
       "2        9\n",
       "3        7\n",
       "4        3\n",
       "5       42\n",
       "6        3\n",
       "7        1\n",
       "8        9\n",
       "9        3\n",
       "10       3\n",
       "11      41\n",
       "12      42\n",
       "13       5\n",
       "14      41\n",
       "15       8\n",
       "16       7\n",
       "17      10\n",
       "18       1\n",
       "19       8\n",
       "20      10\n",
       "21      10\n",
       "22       7\n",
       "23       3\n",
       "24       8\n",
       "25      10\n",
       "26       3\n",
       "27       2\n",
       "28       3\n",
       "29       8\n",
       "        ..\n",
       "1950    42\n",
       "1951    10\n",
       "1952    41\n",
       "1953    41\n",
       "1954     6\n",
       "1955     8\n",
       "1956     3\n",
       "1957     5\n",
       "1958    41\n",
       "1959     3\n",
       "1960     9\n",
       "1961     1\n",
       "1962    10\n",
       "1963     3\n",
       "1964     2\n",
       "1965    41\n",
       "1966     9\n",
       "1967     3\n",
       "1968    41\n",
       "1969     5\n",
       "1970     8\n",
       "1971    42\n",
       "1972    42\n",
       "1973     9\n",
       "1974     1\n",
       "1975     5\n",
       "1976     8\n",
       "1977     5\n",
       "1978    41\n",
       "1979     5\n",
       "Name: iC10, Length: 1980, dtype: int64"
      ]
     },
     "execution_count": 63,
     "metadata": {},
     "output_type": "execute_result"
    }
   ],
   "source": [
    "raw_data = pd.read_csv('MBdata_33CLINwMiss_1KfGE_1KfCNA.csv')\n",
    "drz = {\"1\":1, \"2\":2, \"3\":3, \"4ER+\":41, \"4ER-\":42, \"5\":5, \"6\":6, \"7\":7, \"8\":8, \"9\":9, \"10\":10}\n",
    "raw_data.replace({\"iC10\":drz}, inplace=True)\n",
    "raw_data[\"iC10\"]"
   ]
  },
  {
   "cell_type": "code",
   "execution_count": 67,
   "metadata": {},
   "outputs": [
    {
     "data": {
      "text/html": [
       "<div>\n",
       "<style scoped>\n",
       "    .dataframe tbody tr th:only-of-type {\n",
       "        vertical-align: middle;\n",
       "    }\n",
       "\n",
       "    .dataframe tbody tr th {\n",
       "        vertical-align: top;\n",
       "    }\n",
       "\n",
       "    .dataframe thead th {\n",
       "        text-align: right;\n",
       "    }\n",
       "</style>\n",
       "<table border=\"1\" class=\"dataframe\">\n",
       "  <thead>\n",
       "    <tr style=\"text-align: right;\">\n",
       "      <th></th>\n",
       "      <th>iC10__1</th>\n",
       "      <th>iC10__10</th>\n",
       "      <th>iC10__2</th>\n",
       "      <th>iC10__3</th>\n",
       "      <th>iC10__4ER+</th>\n",
       "      <th>iC10__4ER-</th>\n",
       "      <th>iC10__5</th>\n",
       "      <th>iC10__6</th>\n",
       "      <th>iC10__7</th>\n",
       "      <th>iC10__8</th>\n",
       "      <th>iC10__9</th>\n",
       "    </tr>\n",
       "  </thead>\n",
       "  <tbody>\n",
       "    <tr>\n",
       "      <th>0</th>\n",
       "      <td>0</td>\n",
       "      <td>0</td>\n",
       "      <td>0</td>\n",
       "      <td>0</td>\n",
       "      <td>1</td>\n",
       "      <td>0</td>\n",
       "      <td>0</td>\n",
       "      <td>0</td>\n",
       "      <td>0</td>\n",
       "      <td>0</td>\n",
       "      <td>0</td>\n",
       "    </tr>\n",
       "    <tr>\n",
       "      <th>1</th>\n",
       "      <td>0</td>\n",
       "      <td>0</td>\n",
       "      <td>0</td>\n",
       "      <td>1</td>\n",
       "      <td>0</td>\n",
       "      <td>0</td>\n",
       "      <td>0</td>\n",
       "      <td>0</td>\n",
       "      <td>0</td>\n",
       "      <td>0</td>\n",
       "      <td>0</td>\n",
       "    </tr>\n",
       "    <tr>\n",
       "      <th>2</th>\n",
       "      <td>0</td>\n",
       "      <td>0</td>\n",
       "      <td>0</td>\n",
       "      <td>0</td>\n",
       "      <td>0</td>\n",
       "      <td>0</td>\n",
       "      <td>0</td>\n",
       "      <td>0</td>\n",
       "      <td>0</td>\n",
       "      <td>0</td>\n",
       "      <td>1</td>\n",
       "    </tr>\n",
       "    <tr>\n",
       "      <th>3</th>\n",
       "      <td>0</td>\n",
       "      <td>0</td>\n",
       "      <td>0</td>\n",
       "      <td>0</td>\n",
       "      <td>0</td>\n",
       "      <td>0</td>\n",
       "      <td>0</td>\n",
       "      <td>0</td>\n",
       "      <td>1</td>\n",
       "      <td>0</td>\n",
       "      <td>0</td>\n",
       "    </tr>\n",
       "    <tr>\n",
       "      <th>4</th>\n",
       "      <td>0</td>\n",
       "      <td>0</td>\n",
       "      <td>0</td>\n",
       "      <td>1</td>\n",
       "      <td>0</td>\n",
       "      <td>0</td>\n",
       "      <td>0</td>\n",
       "      <td>0</td>\n",
       "      <td>0</td>\n",
       "      <td>0</td>\n",
       "      <td>0</td>\n",
       "    </tr>\n",
       "  </tbody>\n",
       "</table>\n",
       "</div>"
      ],
      "text/plain": [
       "   iC10__1  iC10__10  iC10__2  iC10__3  iC10__4ER+  iC10__4ER-  iC10__5  \\\n",
       "0        0         0        0        0           1           0        0   \n",
       "1        0         0        0        1           0           0        0   \n",
       "2        0         0        0        0           0           0        0   \n",
       "3        0         0        0        0           0           0        0   \n",
       "4        0         0        0        1           0           0        0   \n",
       "\n",
       "   iC10__6  iC10__7  iC10__8  iC10__9  \n",
       "0        0        0        0        0  \n",
       "1        0        0        0        0  \n",
       "2        0        0        0        1  \n",
       "3        0        1        0        0  \n",
       "4        0        0        0        0  "
      ]
     },
     "execution_count": 67,
     "metadata": {},
     "output_type": "execute_result"
    }
   ],
   "source": [
    "raw_data = pd.read_csv('MBdata_33CLINwMiss_1KfGE_1KfCNA.csv')\n",
    "ic10 = pd.get_dummies(raw_data[\"iC10\"], prefix = \"iC10_\", dummy_na = False)\n",
    "ic10.head(5)"
   ]
  },
  {
   "cell_type": "code",
   "execution_count": 68,
   "metadata": {},
   "outputs": [
    {
     "data": {
      "text/plain": [
       "{4, 5, 6}"
      ]
     },
     "execution_count": 68,
     "metadata": {},
     "output_type": "execute_result"
    }
   ],
   "source": [
    "set1 ={4,5,6}\n",
    "set2=set1 \n",
    "set2"
   ]
  },
  {
   "cell_type": "code",
   "execution_count": 69,
   "metadata": {},
   "outputs": [
    {
     "data": {
      "text/plain": [
       "{1, 2, 3, 4, 5, 6}"
      ]
     },
     "execution_count": 69,
     "metadata": {},
     "output_type": "execute_result"
    }
   ],
   "source": [
    "set3={1,2,3}\n",
    "set2.union(set3)"
   ]
  },
  {
   "cell_type": "code",
   "execution_count": 70,
   "metadata": {},
   "outputs": [
    {
     "data": {
      "text/plain": [
       "{4, 5, 6}"
      ]
     },
     "execution_count": 70,
     "metadata": {},
     "output_type": "execute_result"
    }
   ],
   "source": [
    "set1"
   ]
  },
  {
   "cell_type": "code",
   "execution_count": 71,
   "metadata": {},
   "outputs": [
    {
     "data": {
      "text/plain": [
       "{4, 5, 6}"
      ]
     },
     "execution_count": 71,
     "metadata": {},
     "output_type": "execute_result"
    }
   ],
   "source": [
    "set2"
   ]
  },
  {
   "cell_type": "code",
   "execution_count": 72,
   "metadata": {},
   "outputs": [
    {
     "data": {
      "text/plain": [
       "{1, 2, 3}"
      ]
     },
     "execution_count": 72,
     "metadata": {},
     "output_type": "execute_result"
    }
   ],
   "source": [
    "set3"
   ]
  },
  {
   "cell_type": "code",
   "execution_count": null,
   "metadata": {},
   "outputs": [],
   "source": [
    "pip install --upgrade scikit-learn"
   ]
  },
  {
   "cell_type": "code",
   "execution_count": 85,
   "metadata": {},
   "outputs": [
    {
     "ename": "ImportError",
     "evalue": "cannot import name 'export_text' from 'sklearn.tree' (/Users/zohrehwmac/.pyenv/versions/3.7.0/lib/python3.7/site-packages/sklearn/tree/__init__.py)",
     "output_type": "error",
     "traceback": [
      "\u001b[0;31m---------------------------------------------------------------------------\u001b[0m",
      "\u001b[0;31mImportError\u001b[0m                               Traceback (most recent call last)",
      "\u001b[0;32m<ipython-input-85-0abf84f67938>\u001b[0m in \u001b[0;36m<module>\u001b[0;34m\u001b[0m\n\u001b[1;32m      2\u001b[0m \u001b[0;32mfrom\u001b[0m \u001b[0msklearn\u001b[0m\u001b[0;34m.\u001b[0m\u001b[0mdatasets\u001b[0m \u001b[0;32mimport\u001b[0m \u001b[0mload_iris\u001b[0m\u001b[0;34m\u001b[0m\u001b[0m\n\u001b[1;32m      3\u001b[0m \u001b[0;32mfrom\u001b[0m \u001b[0msklearn\u001b[0m\u001b[0;34m.\u001b[0m\u001b[0mtree\u001b[0m \u001b[0;32mimport\u001b[0m \u001b[0mDecisionTreeClassifier\u001b[0m\u001b[0;34m\u001b[0m\u001b[0m\n\u001b[0;32m----> 4\u001b[0;31m \u001b[0;32mfrom\u001b[0m \u001b[0msklearn\u001b[0m\u001b[0;34m.\u001b[0m\u001b[0mtree\u001b[0m \u001b[0;32mimport\u001b[0m \u001b[0mexport_text\u001b[0m\u001b[0;34m\u001b[0m\u001b[0m\n\u001b[0m\u001b[1;32m      5\u001b[0m \u001b[0;31m# iris = load_iris()\u001b[0m\u001b[0;34m\u001b[0m\u001b[0;34m\u001b[0m\u001b[0m\n\u001b[1;32m      6\u001b[0m \u001b[0;31m# X = iris['data']\u001b[0m\u001b[0;34m\u001b[0m\u001b[0;34m\u001b[0m\u001b[0m\n",
      "\u001b[0;31mImportError\u001b[0m: cannot import name 'export_text' from 'sklearn.tree' (/Users/zohrehwmac/.pyenv/versions/3.7.0/lib/python3.7/site-packages/sklearn/tree/__init__.py)"
     ]
    }
   ],
   "source": [
    "import sklearn\n",
    "from sklearn.datasets import load_iris\n",
    "from sklearn.tree import DecisionTreeClassifier\n",
    "from sklearn.tree.export import export_text\n",
    "# iris = load_iris()\n",
    "# X = iris['data']\n",
    "# y = iris['target']\n",
    "# decision_tree = DecisionTreeClassifier(random_state=0, max_depth=2)\n",
    "# decision_tree = decision_tree.fit(X, y)\n",
    "# r = export_text(decision_tree, feature_names=iris['feature_names'])\n",
    "# print(r)"
   ]
  },
  {
   "cell_type": "code",
   "execution_count": 2,
   "metadata": {},
   "outputs": [
    {
     "name": "stdout",
     "output_type": "stream",
     "text": [
      "0.22.2.post1\n"
     ]
    }
   ],
   "source": [
    "import sklearn \n",
    "print(sklearn.__version__) "
   ]
  },
  {
   "cell_type": "code",
   "execution_count": 5,
   "metadata": {},
   "outputs": [
    {
     "name": "stderr",
     "output_type": "stream",
     "text": [
      "/Users/zohrehwmac/.pyenv/versions/3.7.0/lib/python3.7/site-packages/sklearn/utils/deprecation.py:144: FutureWarning: The sklearn.tree.export module is  deprecated in version 0.22 and will be removed in version 0.24. The corresponding classes / functions should instead be imported from sklearn.tree. Anything that cannot be imported from sklearn.tree is now part of the private API.\n",
      "  warnings.warn(message, FutureWarning)\n"
     ]
    }
   ],
   "source": [
    "from sklearn.datasets import load_iris\n",
    "from sklearn.tree import DecisionTreeClassifier\n",
    "from sklearn.tree.export import export_text"
   ]
  },
  {
   "cell_type": "code",
   "execution_count": 6,
   "metadata": {},
   "outputs": [
    {
     "name": "stdout",
     "output_type": "stream",
     "text": [
      "|--- petal width (cm) <= 0.80\n",
      "|   |--- class: 0\n",
      "|--- petal width (cm) >  0.80\n",
      "|   |--- petal width (cm) <= 1.75\n",
      "|   |   |--- petal length (cm) <= 4.95\n",
      "|   |   |   |--- class: 1\n",
      "|   |   |--- petal length (cm) >  4.95\n",
      "|   |   |   |--- class: 2\n",
      "|   |--- petal width (cm) >  1.75\n",
      "|   |   |--- petal length (cm) <= 4.85\n",
      "|   |   |   |--- class: 2\n",
      "|   |   |--- petal length (cm) >  4.85\n",
      "|   |   |   |--- class: 2\n",
      "\n"
     ]
    }
   ],
   "source": [
    "iris = load_iris()\n",
    "X = iris['data']\n",
    "y = iris['target']\n",
    "decision_tree = DecisionTreeClassifier(random_state=0, max_depth=3)\n",
    "decision_tree = decision_tree.fit(X, y)\n",
    "r = export_text(decision_tree, feature_names=iris['feature_names'])\n",
    "print(r)"
   ]
  },
  {
   "cell_type": "code",
   "execution_count": 1,
   "metadata": {},
   "outputs": [],
   "source": [
    "import numpy as np\n",
    "from sklearn.tree import _tree\n",
    "\n",
    "def tree_to_code(tree, feature_names):\n",
    "    tree_ = tree.tree_\n",
    "    feature_name = [feature_names[i] \n",
    "                    if i != _tree.TREE_UNDEFINED else \"undefined!\" \n",
    "                    for i in tree_.feature]\n",
    "    print(\"def tree({}):\".format(\", \".join(feature_names)))\n",
    "\n",
    "    def recurse(node, depth):\n",
    "        indent = \"    \" * depth\n",
    "        if tree_.feature[node] != _tree.TREE_UNDEFINED:\n",
    "            name = feature_name[node]\n",
    "            threshold = tree_.threshold[node]\n",
    "            print(\"{}if {} <= {}:\".format(indent, name, threshold))\n",
    "            recurse(tree_.children_left[node], depth + 1)\n",
    "            print(\"{}else:  # if {} > {}\".format(indent, name, threshold))\n",
    "            recurse(tree_.children_right[node], depth + 1)\n",
    "        else:\n",
    "            print(\"{}return {}\".format(indent, np.argmax(tree_.value[node])))\n",
    "\n",
    "    recurse(0, 1)"
   ]
  },
  {
   "cell_type": "code",
   "execution_count": 3,
   "metadata": {},
   "outputs": [
    {
     "name": "stdout",
     "output_type": "stream",
     "text": [
      "def tree(sepal length (cm), sepal width (cm), petal length (cm), petal width (cm)):\n",
      "    if petal width (cm) <= 0.800000011920929:\n",
      "        return 0\n",
      "    else:  # if petal width (cm) > 0.800000011920929\n",
      "        if petal width (cm) <= 1.75:\n",
      "            return 1\n",
      "        else:  # if petal width (cm) > 1.75\n",
      "            return 2\n"
     ]
    }
   ],
   "source": [
    "from sklearn.datasets import load_iris\n",
    "from sklearn.tree import DecisionTreeClassifier\n",
    "iris = load_iris()\n",
    "X = iris['data']\n",
    "y = iris['target']\n",
    "decision_tree = DecisionTreeClassifier(random_state=0, max_depth=2)\n",
    "decision_tree = decision_tree.fit(X, y)\n",
    "tree_to_code(decision_tree,feature_names=iris['feature_names'] )"
   ]
  },
  {
   "cell_type": "code",
   "execution_count": 41,
   "metadata": {},
   "outputs": [
    {
     "name": "stdout",
     "output_type": "stream",
     "text": [
      "1\n",
      "1 ) petal width (cm) <= 0.800000011920929  [[50.  0.  0.]]\n",
      "3\n",
      "2 ) petal width (cm) > 0.800000011920929 & petal width (cm) <= 1.75  [[ 0. 49.  5.]]\n",
      "4\n",
      "3 ) petal width (cm) > 0.800000011920929 & petal width (cm) > 1.75 [[ 0.  1. 45.]]\n"
     ]
    }
   ],
   "source": [
    "from sklearn.datasets import load_iris\n",
    "from sklearn.tree import DecisionTreeClassifier\n",
    "from sklearn.tree import _tree\n",
    "iris = load_iris()\n",
    "X = iris['data']\n",
    "y = iris['target']\n",
    "decision_tree = DecisionTreeClassifier(random_state=0, max_depth=2)\n",
    "decision_tree = decision_tree.fit(X, y)\n",
    "\n",
    "\n",
    "def tree_to_code(tree, feature_names):\n",
    "    tree_ = tree.tree_\n",
    "    feature_name = [\n",
    "        feature_names[i] if i != _tree.TREE_UNDEFINED else \"undefined!\"\n",
    "        for i in tree_.feature\n",
    "    ]\n",
    "    pathto=dict()\n",
    "\n",
    "    global k\n",
    "    k = 0\n",
    "    def recurse(node, depth, parent):\n",
    "        global k\n",
    "        indent = \"  \" * depth\n",
    "\n",
    "        if tree_.feature[node] != _tree.TREE_UNDEFINED:\n",
    "            name = feature_name[node]\n",
    "            threshold = tree_.threshold[node]\n",
    "            s= \"{} <= {} \".format( name, threshold, node )\n",
    "            if node == 0:\n",
    "                pathto[node]=s\n",
    "            else:\n",
    "                pathto[node]=pathto[parent]+' & ' +s\n",
    "\n",
    "            recurse(tree_.children_left[node], depth + 1, node)\n",
    "            s=\"{} > {}\".format( name, threshold)\n",
    "            if node == 0:\n",
    "                pathto[node]=s\n",
    "            else:\n",
    "                pathto[node]=pathto[parent]+' & ' +s\n",
    "            recurse(tree_.children_right[node], depth + 1, node)\n",
    "        else:\n",
    "            k=k+1\n",
    "            print(node,')',pathto[parent], tree_.value[node])\n",
    "\n",
    "    recurse(0, 1, 0)\n",
    "\n",
    "    \n",
    "\n",
    "tree_to_code(decision_tree,feature_names=iris['feature_names'])"
   ]
  },
  {
   "cell_type": "code",
   "execution_count": 83,
   "metadata": {},
   "outputs": [
    {
     "name": "stdout",
     "output_type": "stream",
     "text": [
      "['petal width (cm)', 'undefined!', 'petal width (cm)', 'petal length (cm)', 'petal width (cm)', 'undefined!', 'undefined!', 'petal width (cm)', 'undefined!', 'undefined!', 'petal length (cm)', 'sepal length (cm)', 'undefined!', 'undefined!', 'undefined!']\n",
      "h\n",
      "petal width (cm) <= 0.800000011920929 0\n",
      "h\n",
      "petal width (cm) > 0.800000011920929 & petal width (cm) <= 1.75 & petal length (cm) <= 4.950000047683716 & petal width (cm) <= 1.6500000357627869 1\n",
      "h\n",
      "petal width (cm) > 0.800000011920929 & petal width (cm) <= 1.75 & petal length (cm) <= 4.950000047683716 & petal width (cm) > 1.6500000357627869 2\n",
      "h\n",
      "petal width (cm) > 0.800000011920929 & petal width (cm) <= 1.75 & petal length (cm) > 4.950000047683716 & petal width (cm) <= 1.550000011920929 2\n",
      "h\n",
      "petal width (cm) > 0.800000011920929 & petal width (cm) <= 1.75 & petal length (cm) > 4.950000047683716 & petal width (cm) > 1.550000011920929 1\n",
      "h\n",
      "petal width (cm) > 0.800000011920929 & petal width (cm) > 1.75 & petal length (cm) <= 4.8500001430511475 & sepal length (cm) <= 5.950000047683716 1\n",
      "h\n",
      "petal width (cm) > 0.800000011920929 & petal width (cm) > 1.75 & petal length (cm) <= 4.8500001430511475 & sepal length (cm) > 5.950000047683716 2\n",
      "h\n",
      "petal width (cm) > 0.800000011920929 & petal width (cm) > 1.75 & petal length (cm) > 4.8500001430511475 2\n"
     ]
    }
   ],
   "source": [
    "tree_to_code(decision_tree, iris['feature_names'], y)"
   ]
  },
  {
   "cell_type": "code",
   "execution_count": 71,
   "metadata": {},
   "outputs": [
    {
     "name": "stdout",
     "output_type": "stream",
     "text": [
      "petal width (cm) <= 0.800000011920929 0\n",
      "yes\n",
      "petal width (cm) <= 1.75 2\n",
      "yes\n",
      "yes\n"
     ]
    }
   ],
   "source": [
    "tree_to_code(decision_tree, iris['feature_names'], y)"
   ]
  },
  {
   "cell_type": "code",
   "execution_count": 13,
   "metadata": {},
   "outputs": [
    {
     "data": {
      "text/plain": [
       "-2"
      ]
     },
     "execution_count": 13,
     "metadata": {},
     "output_type": "execute_result"
    }
   ],
   "source": [
    "from sklearn.tree import _tree\n",
    "_tree.TREE_UNDEFINED"
   ]
  },
  {
   "cell_type": "code",
   "execution_count": 21,
   "metadata": {},
   "outputs": [
    {
     "ename": "SyntaxError",
     "evalue": "invalid syntax (<ipython-input-21-0d7a339e70c0>, line 1)",
     "output_type": "error",
     "traceback": [
      "\u001b[0;36m  File \u001b[0;32m\"<ipython-input-21-0d7a339e70c0>\"\u001b[0;36m, line \u001b[0;32m1\u001b[0m\n\u001b[0;31m    d = [[50.0  0.0  0.0]]\u001b[0m\n\u001b[0m                  ^\u001b[0m\n\u001b[0;31mSyntaxError\u001b[0m\u001b[0;31m:\u001b[0m invalid syntax\n"
     ]
    }
   ],
   "source": [
    "d = [[50.0  0.0  0.0]]"
   ]
  },
  {
   "cell_type": "code",
   "execution_count": 98,
   "metadata": {},
   "outputs": [],
   "source": [
    "def tree_to_code(tree, feature_names, Y):\n",
    "    tree_ = tree.tree_\n",
    "    feature_name = [\n",
    "        feature_names[i] if i != _tree.TREE_UNDEFINED else \"undefined!\"\n",
    "        for i in tree_.feature\n",
    "    ]\n",
    "    \n",
    "    i =0 \n",
    "    name_to_id_map = dict()\n",
    "    listtoset = set(feature_name)\n",
    "    for f in listtoset:\n",
    "        if (f != \"undefined!\"):\n",
    "            name_to_id_map[f]=i\n",
    "            i+=1\n",
    "    \n",
    "    pathto=dict()\n",
    "    terms = set()\n",
    "    clause_con_dict = dict()\n",
    "    \n",
    "    def recurse(node, depth, parent):\n",
    "        indent = \"  \" * depth\n",
    "\n",
    "        if tree_.feature[node] != _tree.TREE_UNDEFINED:\n",
    "            name = feature_name[node]\n",
    "            threshold = tree_.threshold[node]\n",
    "#             s= \"{} <= {} \".format( name, threshold, node )\n",
    "            s = Term(Neuron(0, listtoset(name)), '<=', threshold)\n",
    "            if node == 0:\n",
    "                pathto[node]={s}\n",
    "            else:\n",
    "                pathto[node]=pathto[parent].union(s)\n",
    "\n",
    "            recurse(tree_.children_left[node], depth + 1, node)\n",
    "#             s=\"{} > {}\".format( name, threshold)\n",
    "            s = Term(Neuron(0, listtoset(name)), '<=', threshold)\n",
    "            if node == 0:\n",
    "                pathto[node]={s}\n",
    "            else:\n",
    "                pathto[node]=pathto[parent].union(s)\n",
    "            recurse(tree_.children_right[node], depth + 1, node)\n",
    "        else:\n",
    "            clause = ConjunctiveClause(terms=pathto[parent], remove_redundant_terms=True)\n",
    "            conclusion = np.argmax(tree_.value[node])\n",
    "            clause_con_dict[clause] = conclusion \n",
    "            return clause_con_dict\n",
    "            \n",
    "            \n",
    "    recurse(0, 1, 0)"
   ]
  },
  {
   "cell_type": "code",
   "execution_count": 99,
   "metadata": {},
   "outputs": [
    {
     "name": "stdout",
     "output_type": "stream",
     "text": [
      "{'sepal length (cm)': 0, 'petal width (cm)': 1, 'petal length (cm)': 2}\n"
     ]
    },
    {
     "ename": "NameError",
     "evalue": "name 'Term' is not defined",
     "output_type": "error",
     "traceback": [
      "\u001b[0;31m---------------------------------------------------------------------------\u001b[0m",
      "\u001b[0;31mNameError\u001b[0m                                 Traceback (most recent call last)",
      "\u001b[0;32m<ipython-input-99-c496ebbac7e6>\u001b[0m in \u001b[0;36m<module>\u001b[0;34m\u001b[0m\n\u001b[0;32m----> 1\u001b[0;31m \u001b[0mtree_to_code\u001b[0m\u001b[0;34m(\u001b[0m\u001b[0mdecision_tree\u001b[0m\u001b[0;34m,\u001b[0m \u001b[0miris\u001b[0m\u001b[0;34m[\u001b[0m\u001b[0;34m'feature_names'\u001b[0m\u001b[0;34m]\u001b[0m\u001b[0;34m,\u001b[0m \u001b[0my\u001b[0m\u001b[0;34m)\u001b[0m\u001b[0;34m\u001b[0m\u001b[0m\n\u001b[0m",
      "\u001b[0;32m<ipython-input-98-1a9f10e1a0c4>\u001b[0m in \u001b[0;36mtree_to_code\u001b[0;34m(tree, feature_names, Y)\u001b[0m\n\u001b[1;32m     46\u001b[0m \u001b[0;34m\u001b[0m\u001b[0m\n\u001b[1;32m     47\u001b[0m \u001b[0;34m\u001b[0m\u001b[0m\n\u001b[0;32m---> 48\u001b[0;31m     \u001b[0mrecurse\u001b[0m\u001b[0;34m(\u001b[0m\u001b[0;36m0\u001b[0m\u001b[0;34m,\u001b[0m \u001b[0;36m1\u001b[0m\u001b[0;34m,\u001b[0m \u001b[0;36m0\u001b[0m\u001b[0;34m)\u001b[0m\u001b[0;34m\u001b[0m\u001b[0m\n\u001b[0m",
      "\u001b[0;32m<ipython-input-98-1a9f10e1a0c4>\u001b[0m in \u001b[0;36mrecurse\u001b[0;34m(node, depth, parent)\u001b[0m\n\u001b[1;32m     25\u001b[0m             \u001b[0mthreshold\u001b[0m \u001b[0;34m=\u001b[0m \u001b[0mtree_\u001b[0m\u001b[0;34m.\u001b[0m\u001b[0mthreshold\u001b[0m\u001b[0;34m[\u001b[0m\u001b[0mnode\u001b[0m\u001b[0;34m]\u001b[0m\u001b[0;34m\u001b[0m\u001b[0m\n\u001b[1;32m     26\u001b[0m \u001b[0;31m#             s= \"{} <= {} \".format( name, threshold, node )\u001b[0m\u001b[0;34m\u001b[0m\u001b[0;34m\u001b[0m\u001b[0m\n\u001b[0;32m---> 27\u001b[0;31m             \u001b[0ms\u001b[0m \u001b[0;34m=\u001b[0m \u001b[0mTerm\u001b[0m\u001b[0;34m(\u001b[0m\u001b[0mNeuron\u001b[0m\u001b[0;34m(\u001b[0m\u001b[0;36m0\u001b[0m\u001b[0;34m,\u001b[0m \u001b[0mi\u001b[0m\u001b[0;34m)\u001b[0m\u001b[0;34m,\u001b[0m \u001b[0;34m'<='\u001b[0m\u001b[0;34m,\u001b[0m \u001b[0mthreshold\u001b[0m\u001b[0;34m)\u001b[0m\u001b[0;34m\u001b[0m\u001b[0m\n\u001b[0m\u001b[1;32m     28\u001b[0m             \u001b[0mi\u001b[0m\u001b[0;34m+=\u001b[0m\u001b[0;36m1\u001b[0m\u001b[0;34m\u001b[0m\u001b[0m\n\u001b[1;32m     29\u001b[0m             \u001b[0;32mif\u001b[0m \u001b[0mnode\u001b[0m \u001b[0;34m==\u001b[0m \u001b[0;36m0\u001b[0m\u001b[0;34m:\u001b[0m\u001b[0;34m\u001b[0m\u001b[0m\n",
      "\u001b[0;31mNameError\u001b[0m: name 'Term' is not defined"
     ]
    }
   ],
   "source": [
    "tree_to_code(decision_tree, iris['feature_names'], y)"
   ]
  },
  {
   "cell_type": "code",
   "execution_count": 100,
   "metadata": {},
   "outputs": [],
   "source": [
    "a = set()"
   ]
  },
  {
   "cell_type": "code",
   "execution_count": 103,
   "metadata": {},
   "outputs": [],
   "source": [
    "a = a.union({1,3,4})"
   ]
  },
  {
   "cell_type": "code",
   "execution_count": 104,
   "metadata": {},
   "outputs": [
    {
     "data": {
      "text/plain": [
       "{1, 3, 4}"
      ]
     },
     "execution_count": 104,
     "metadata": {},
     "output_type": "execute_result"
    }
   ],
   "source": [
    "a"
   ]
  },
  {
   "cell_type": "code",
   "execution_count": 106,
   "metadata": {},
   "outputs": [
    {
     "ename": "TypeError",
     "evalue": "'int' object is not iterable",
     "output_type": "error",
     "traceback": [
      "\u001b[0;31m---------------------------------------------------------------------------\u001b[0m",
      "\u001b[0;31mTypeError\u001b[0m                                 Traceback (most recent call last)",
      "\u001b[0;32m<ipython-input-106-e639ef4670c9>\u001b[0m in \u001b[0;36m<module>\u001b[0;34m\u001b[0m\n\u001b[0;32m----> 1\u001b[0;31m \u001b[0ma\u001b[0m\u001b[0;34m.\u001b[0m\u001b[0munion\u001b[0m\u001b[0;34m(\u001b[0m\u001b[0;36m1\u001b[0m\u001b[0;34m)\u001b[0m\u001b[0;34m\u001b[0m\u001b[0m\n\u001b[0m",
      "\u001b[0;31mTypeError\u001b[0m: 'int' object is not iterable"
     ]
    }
   ],
   "source": [
    "a.union(1)"
   ]
  },
  {
   "cell_type": "code",
   "execution_count": 107,
   "metadata": {},
   "outputs": [],
   "source": [
    "b = 5\n",
    "t = {b}"
   ]
  },
  {
   "cell_type": "code",
   "execution_count": 108,
   "metadata": {},
   "outputs": [
    {
     "data": {
      "text/plain": [
       "{5}"
      ]
     },
     "execution_count": 108,
     "metadata": {},
     "output_type": "execute_result"
    }
   ],
   "source": [
    "t"
   ]
  },
  {
   "cell_type": "code",
   "execution_count": 109,
   "metadata": {},
   "outputs": [
    {
     "data": {
      "text/plain": [
       "set"
      ]
     },
     "execution_count": 109,
     "metadata": {},
     "output_type": "execute_result"
    }
   ],
   "source": [
    "type(t)"
   ]
  },
  {
   "cell_type": "code",
   "execution_count": 27,
   "metadata": {},
   "outputs": [
    {
     "ename": "TypeError",
     "evalue": "'int' object is not iterable",
     "output_type": "error",
     "traceback": [
      "\u001b[0;31m---------------------------------------------------------------------------\u001b[0m",
      "\u001b[0;31mTypeError\u001b[0m                                 Traceback (most recent call last)",
      "\u001b[0;32m<ipython-input-27-9ca1d563cade>\u001b[0m in \u001b[0;36m<module>\u001b[0;34m\u001b[0m\n\u001b[1;32m      1\u001b[0m \u001b[0mtiyarajj\u001b[0m \u001b[0;34m=\u001b[0m \u001b[0;34m{\u001b[0m\u001b[0;36m5\u001b[0m\u001b[0;34m,\u001b[0m\u001b[0;36m6\u001b[0m\u001b[0;34m,\u001b[0m\u001b[0;36m7\u001b[0m\u001b[0;34m}\u001b[0m\u001b[0;34m\u001b[0m\u001b[0m\n\u001b[0;32m----> 2\u001b[0;31m \u001b[0mz\u001b[0m \u001b[0;34m=\u001b[0m \u001b[0mtiyarajj\u001b[0m\u001b[0;34m.\u001b[0m\u001b[0munion\u001b[0m\u001b[0;34m(\u001b[0m\u001b[0;36m19\u001b[0m\u001b[0;34m)\u001b[0m\u001b[0;34m\u001b[0m\u001b[0m\n\u001b[0m\u001b[1;32m      3\u001b[0m \u001b[0mtype\u001b[0m\u001b[0;34m(\u001b[0m\u001b[0mz\u001b[0m\u001b[0;34m)\u001b[0m\u001b[0;34m\u001b[0m\u001b[0m\n",
      "\u001b[0;31mTypeError\u001b[0m: 'int' object is not iterable"
     ]
    }
   ],
   "source": [
    "tiyarajj = {5,6,7}\n",
    "z = tiyarajj.union(19)\n",
    "type(z)"
   ]
  },
  {
   "cell_type": "code",
   "execution_count": 8,
   "metadata": {},
   "outputs": [
    {
     "data": {
      "text/plain": [
       "{5, 6, 7, 19}"
      ]
     },
     "execution_count": 8,
     "metadata": {},
     "output_type": "execute_result"
    }
   ],
   "source": [
    "z = "
   ]
  },
  {
   "cell_type": "code",
   "execution_count": 9,
   "metadata": {},
   "outputs": [
    {
     "data": {
      "text/plain": [
       "{5, 6, 7, 19, 20}"
      ]
     },
     "execution_count": 9,
     "metadata": {},
     "output_type": "execute_result"
    }
   ],
   "source": [
    "tiyara.union({20})"
   ]
  },
  {
   "cell_type": "code",
   "execution_count": 10,
   "metadata": {},
   "outputs": [
    {
     "data": {
      "text/plain": [
       "{5, 6, 7, 19}"
      ]
     },
     "execution_count": 10,
     "metadata": {},
     "output_type": "execute_result"
    }
   ],
   "source": [
    "tiyara"
   ]
  },
  {
   "cell_type": "code",
   "execution_count": 19,
   "metadata": {},
   "outputs": [
    {
     "ename": "TypeError",
     "evalue": "unsupported operand type(s) for +: 'set' and 'int'",
     "output_type": "error",
     "traceback": [
      "\u001b[0;31m---------------------------------------------------------------------------\u001b[0m",
      "\u001b[0;31mTypeError\u001b[0m                                 Traceback (most recent call last)",
      "\u001b[0;32m<ipython-input-19-17f898d8451a>\u001b[0m in \u001b[0;36m<module>\u001b[0;34m\u001b[0m\n\u001b[1;32m      1\u001b[0m \u001b[0mA\u001b[0m \u001b[0;34m=\u001b[0m \u001b[0;34m{\u001b[0m\u001b[0;36m1\u001b[0m\u001b[0;34m,\u001b[0m\u001b[0;36m3\u001b[0m\u001b[0;34m,\u001b[0m\u001b[0;36m4\u001b[0m\u001b[0;34m}\u001b[0m\u001b[0;34m\u001b[0m\u001b[0m\n\u001b[0;32m----> 2\u001b[0;31m \u001b[0mA\u001b[0m\u001b[0;34m+\u001b[0m\u001b[0;36m6\u001b[0m\u001b[0;34m\u001b[0m\u001b[0m\n\u001b[0m",
      "\u001b[0;31mTypeError\u001b[0m: unsupported operand type(s) for +: 'set' and 'int'"
     ]
    }
   ],
   "source": [
    "A = {1,3,4}\n",
    "A+6"
   ]
  },
  {
   "cell_type": "code",
   "execution_count": 31,
   "metadata": {},
   "outputs": [
    {
     "data": {
      "text/plain": [
       "[6, 8, 9, 6]"
      ]
     },
     "execution_count": 31,
     "metadata": {},
     "output_type": "execute_result"
    }
   ],
   "source": [
    "listtest =[6,8,9]\n",
    "listtest.append(6)\n",
    "listtest"
   ]
  },
  {
   "cell_type": "code",
   "execution_count": 33,
   "metadata": {},
   "outputs": [],
   "source": [
    "terms = set()\n",
    "terms.add(7)"
   ]
  },
  {
   "cell_type": "code",
   "execution_count": 34,
   "metadata": {},
   "outputs": [
    {
     "data": {
      "text/plain": [
       "{7}"
      ]
     },
     "execution_count": 34,
     "metadata": {},
     "output_type": "execute_result"
    }
   ],
   "source": [
    "terms\n"
   ]
  },
  {
   "cell_type": "code",
   "execution_count": null,
   "metadata": {},
   "outputs": [],
   "source": []
  }
 ],
 "metadata": {
  "kernelspec": {
   "display_name": "Python 3",
   "language": "python",
   "name": "python3"
  },
  "language_info": {
   "codemirror_mode": {
    "name": "ipython",
    "version": 3
   },
   "file_extension": ".py",
   "mimetype": "text/x-python",
   "name": "python",
   "nbconvert_exporter": "python",
   "pygments_lexer": "ipython3",
   "version": "3.7.0"
  }
 },
 "nbformat": 4,
 "nbformat_minor": 4
}
